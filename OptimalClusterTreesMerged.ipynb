{
 "cells": [
  {
   "cell_type": "markdown",
   "metadata": {},
   "source": [
    "## Cluster trees function"
   ]
  },
  {
   "cell_type": "code",
   "execution_count": 1,
   "metadata": {},
   "outputs": [],
   "source": [
    "using JuMP, Gurobi, GLM, DataFrames, Plots, Clustering"
   ]
  },
  {
   "cell_type": "code",
   "execution_count": 2,
   "metadata": {
    "collapsed": true
   },
   "outputs": [
    {
     "ename": "LoadError",
     "evalue": "\u001b[91mFailed to import required Python module sklearn.\n\nFor automated sklearn installation, try configuring PyCall to use the Conda.jl package's Python \"Miniconda\" distribution within Julia. Relaunch Julia and run:\n    ENV[\"PYTHON\"]=\"\"\n    Pkg.build(\"PyCall\")\nbefore trying again.\n\nThe pyimport exception was: PyError (ccall(@pysym(:PyImport_ImportModule), PyPtr, (Cstring,), name)\n\nThe Python package sklearn could not be found by pyimport. Usually this means\nthat you did not install sklearn in the Python version being used by PyCall.\n\nPyCall is currently configured to use the Python version at:\n\n/usr/bin/python\n\nand you should use whatever mechanism you usually use (apt-get, pip, conda,\netcetera) to install the Python package containing the sklearn module.\n\nOne alternative is to re-configure PyCall to use a different Python\nversion on your system: set ENV[\"PYTHON\"] to the path/name of the python\nexecutable you want to use, run Pkg.build(\"PyCall\"), and re-launch Julia.\n\nAnother alternative is to configure PyCall to use a Julia-specific Python\ndistribution via the Conda.jl package (which installs a private Anaconda\nPython distribution), which has the advantage that packages can be installed\nand kept up-to-date via Julia.  As explained in the PyCall documentation,\nset ENV[\"PYTHON\"]=\"\", run Pkg.build(\"PyCall\"), and re-launch Julia. Then,\nTo install the sklearn module, you can use `pyimport_conda(\"sklearn\", PKG)`,\nwhere PKG is the Anaconda package the contains the module sklearn,\nor alternatively you can use the Conda package directly (via\n`using Conda` followed by `Conda.add` etcetera).\n\n) <type 'exceptions.ImportError'>\nImportError('No module named sklearn',)\n\n\u001b[39m",
     "output_type": "error",
     "traceback": [
      "\u001b[91mFailed to import required Python module sklearn.\n\nFor automated sklearn installation, try configuring PyCall to use the Conda.jl package's Python \"Miniconda\" distribution within Julia. Relaunch Julia and run:\n    ENV[\"PYTHON\"]=\"\"\n    Pkg.build(\"PyCall\")\nbefore trying again.\n\nThe pyimport exception was: PyError (ccall(@pysym(:PyImport_ImportModule), PyPtr, (Cstring,), name)\n\nThe Python package sklearn could not be found by pyimport. Usually this means\nthat you did not install sklearn in the Python version being used by PyCall.\n\nPyCall is currently configured to use the Python version at:\n\n/usr/bin/python\n\nand you should use whatever mechanism you usually use (apt-get, pip, conda,\netcetera) to install the Python package containing the sklearn module.\n\nOne alternative is to re-configure PyCall to use a different Python\nversion on your system: set ENV[\"PYTHON\"] to the path/name of the python\nexecutable you want to use, run Pkg.build(\"PyCall\"), and re-launch Julia.\n\nAnother alternative is to configure PyCall to use a Julia-specific Python\ndistribution via the Conda.jl package (which installs a private Anaconda\nPython distribution), which has the advantage that packages can be installed\nand kept up-to-date via Julia.  As explained in the PyCall documentation,\nset ENV[\"PYTHON\"]=\"\", run Pkg.build(\"PyCall\"), and re-launch Julia. Then,\nTo install the sklearn module, you can use `pyimport_conda(\"sklearn\", PKG)`,\nwhere PKG is the Anaconda package the contains the module sklearn,\nor alternatively you can use the Conda package directly (via\n`using Conda` followed by `Conda.add` etcetera).\n\n) <type 'exceptions.ImportError'>\nImportError('No module named sklearn',)\n\n\u001b[39m",
      "",
      "Stacktrace:",
      " [1] \u001b[1mpyimport_conda\u001b[22m\u001b[22m\u001b[1m(\u001b[22m\u001b[22m::String, ::String, ::String\u001b[1m)\u001b[22m\u001b[22m at \u001b[1m/Applications/JuliaPro-0.6.2.2.app/Contents/Resources/pkgs-0.6.2.2/v0.6/PyCall/src/PyCall.jl:609\u001b[22m\u001b[22m",
      " [2] \u001b[1mimport_sklearn\u001b[22m\u001b[22m\u001b[1m(\u001b[22m\u001b[22m\u001b[1m)\u001b[22m\u001b[22m at \u001b[1m/Applications/JuliaPro-0.6.2.2.app/Contents/Resources/pkgs-0.6.2.2/v0.6/ScikitLearn/src/Skcore.jl:114\u001b[22m\u001b[22m",
      " [3] \u001b[1minclude_string\u001b[22m\u001b[22m\u001b[1m(\u001b[22m\u001b[22m::String, ::String\u001b[1m)\u001b[22m\u001b[22m at \u001b[1m./loading.jl:522\u001b[22m\u001b[22m"
     ]
    }
   ],
   "source": [
    "using ScikitLearn, StatsBase\n",
    "# Load in the DecisionTreeClassifier method from ScikitLearn\n",
    "@sk_import tree: DecisionTreeClassifier;"
   ]
  },
  {
   "cell_type": "markdown",
   "metadata": {},
   "source": [
    "#### Helper functions for optimal cluster trees"
   ]
  },
  {
   "cell_type": "code",
   "execution_count": 3,
   "metadata": {},
   "outputs": [
    {
     "data": {
      "text/plain": [
       "get_parent_nodes (generic function with 1 method)"
      ]
     },
     "execution_count": 3,
     "metadata": {},
     "output_type": "execute_result"
    }
   ],
   "source": [
    "function get_parent_nodes(num_nodes)\n",
    "    \n",
    "    # Compute the parent nodes and paths through the tree for all nodes.\n",
    "    # Nodes are numbered 1:N starting top to bottom and left to right\n",
    "    # e.g.\n",
    "    #     1\n",
    "    #  2    3\n",
    "    # 4 5  6 7\n",
    "    \n",
    "    if num_nodes < 1\n",
    "        throw(ArgumentError(\"Number of nodes must be greater than 1\"))\n",
    "    end\n",
    "    \n",
    "    direct_parent = Dict()\n",
    "    direct_parent[1] = []\n",
    "    left_parents = Dict()\n",
    "    left_parents[1] = []\n",
    "    right_parents = Dict()\n",
    "    right_parents[1] = []\n",
    "\n",
    "\n",
    "    for node in 2:num_nodes\n",
    "        par = Int(floor(node/2))\n",
    "        direct_parent[node] = par\n",
    "        if (par == node/2)\n",
    "            left_parents[node] = push!(copy(left_parents[par]), par)\n",
    "            right_parents[node] = right_parents[par]\n",
    "        else\n",
    "            right_parents[node] = push!(copy(right_parents[par]), par)\n",
    "            left_parents[node] = left_parents[par]\n",
    "        end\n",
    "    end\n",
    "    return direct_parent, left_parents, right_parents\n",
    "end"
   ]
  },
  {
   "cell_type": "code",
   "execution_count": 4,
   "metadata": {},
   "outputs": [
    {
     "data": {
      "text/plain": [
       "get_child_nodes (generic function with 1 method)"
      ]
     },
     "execution_count": 4,
     "metadata": {},
     "output_type": "execute_result"
    }
   ],
   "source": [
    "function get_child_nodes(num_nodes)\n",
    "    \n",
    "    # Compute the child nodes and paths through the tree for all nodes.\n",
    "    # Nodes are numbered 1:N starting top to bottom and left to right\n",
    "    # e.g.\n",
    "    #     1\n",
    "    #  2    3\n",
    "    # 4 5  6 7\n",
    "    \n",
    "    if num_nodes < 1\n",
    "        throw(ArgumentError(\"Number of nodes must be greater than 1\"))\n",
    "    end\n",
    "    \n",
    "    all_children = Dict()\n",
    "    left_children = Dict()\n",
    "    right_children = Dict()\n",
    "    \n",
    "    Leaves = Int(2^floor(log(2,num_nodes))):num_nodes\n",
    "    for leaf in Leaves\n",
    "        all_children[leaf] = []\n",
    "        left_children[leaf] = []\n",
    "        right_children[leaf] = []   \n",
    "    end\n",
    "\n",
    "    for node in num_nodes:-1:2\n",
    "        par = Int(floor(node/2))\n",
    "\n",
    "        if !haskey(all_children,par) all_children[par] = [] end\n",
    "        if !haskey(left_children,par) left_children[par] = [] end\n",
    "        if !haskey(right_children,par) right_children[par] = [] end\n",
    "\n",
    "        all_children[par] = vcat(push!(copy(all_children[par]),node), all_children[node])\n",
    "\n",
    "        if (par == node/2) # current node is left child of parent\n",
    "            left_children[par] = vcat(push!(copy(left_children[par]),node), all_children[node])\n",
    "        else            # current node is right child of parent\n",
    "            right_children[par] = vcat(push!(copy(right_children[par]),node), all_children[node])\n",
    "        end\n",
    "    end\n",
    "    \n",
    "    return all_children, left_children, right_children\n",
    "end"
   ]
  },
  {
   "cell_type": "code",
   "execution_count": 5,
   "metadata": {},
   "outputs": [
    {
     "data": {
      "text/plain": [
       "get_branch_leaf_sets (generic function with 1 method)"
      ]
     },
     "execution_count": 5,
     "metadata": {},
     "output_type": "execute_result"
    }
   ],
   "source": [
    "num_tree_nodes(depth) = 2^(depth+1)-1\n",
    "\n",
    "function get_branch_leaf_sets(num_nodes,max_depth)\n",
    "    # Return the node numbers for the interior and leaf nodes\n",
    "    Branches = 1:2^(max_depth)-1\n",
    "    Leaves = 2^(max_depth):num_nodes\n",
    "    return Branches, Leaves\n",
    "end"
   ]
  },
  {
   "cell_type": "code",
   "execution_count": 6,
   "metadata": {},
   "outputs": [
    {
     "data": {
      "text/plain": [
       "calculate_epsilon (generic function with 1 method)"
      ]
     },
     "execution_count": 6,
     "metadata": {},
     "output_type": "execute_result"
    }
   ],
   "source": [
    "function calculate_epsilon(X,p)\n",
    "    # Calculate the epsilon used to make the splitting constraints\n",
    "    # valid (otherwise we get < constraints)\n",
    "    ϵ = zeros(p)\n",
    "    for j = 1:p\n",
    "        sXj = sort(X[:,j])\n",
    "        diffs = sXj[2:end]-sXj[1:end-1]\n",
    "        ϵ[j] = minimum(diffs[:,diffs != 0])\n",
    "    end\n",
    "    \n",
    "    ϵ_mx = maximum(ϵ)\n",
    "    return ϵ, ϵ_mx\n",
    "end"
   ]
  },
  {
   "cell_type": "code",
   "execution_count": 7,
   "metadata": {},
   "outputs": [
    {
     "data": {
      "text/plain": [
       "check_local_sparsity (generic function with 1 method)"
      ]
     },
     "execution_count": 7,
     "metadata": {},
     "output_type": "execute_result"
    }
   ],
   "source": [
    "function check_local_sparsity(local_sparsity,p)\n",
    "    if (local_sparsity != Int(local_sparsity)) & (local_sparsity != :all)\n",
    "        throw(ArgumentError(\"Local sparsity must be set to an integer or ':all'.\"))\n",
    "    elseif (local_sparsity < 1)\n",
    "        throw(ArgumentError(\"Local sparsity must be greater than 1\"))\n",
    "    elseif (local_sparsity > p)\n",
    "        throw(ArgumentError(\"Local sparsity must be less than the number of features\"))\n",
    "    end\n",
    "end"
   ]
  },
  {
   "cell_type": "code",
   "execution_count": 8,
   "metadata": {},
   "outputs": [
    {
     "data": {
      "text/plain": [
       "check_margin_parameter (generic function with 1 method)"
      ]
     },
     "execution_count": 8,
     "metadata": {},
     "output_type": "execute_result"
    }
   ],
   "source": [
    "function check_margin_parameter(maximize_margin)\n",
    "    if (maximize_margin != true) & (maximize_margin != false)\n",
    "        throw(ArgumentError(\"Maximum margin parameter must be a boolean.\")) \n",
    "    end\n",
    "    if maximize_margin m_p = 1 else m_p = 0 end\n",
    "    return m_p\n",
    "end"
   ]
  },
  {
   "cell_type": "code",
   "execution_count": 9,
   "metadata": {},
   "outputs": [
    {
     "data": {
      "text/plain": [
       "loss_normalization_factor (generic function with 1 method)"
      ]
     },
     "execution_count": 9,
     "metadata": {},
     "output_type": "execute_result"
    }
   ],
   "source": [
    "function loss_normalization_factor(X,criterion)\n",
    "    if criterion == :L1\n",
    "        return sum(abs.(X .- mean(X,1)))\n",
    "    elseif criterion == :L2\n",
    "        return sqrt(sum(abs.(X .- mean(X,1)).^2))\n",
    "    else\n",
    "        error(\"Error: criterion must be either :L2 or :L1\")\n",
    "    end\n",
    "end"
   ]
  },
  {
   "cell_type": "code",
   "execution_count": 10,
   "metadata": {},
   "outputs": [
    {
     "data": {
      "text/plain": [
       "km_pp_centers (generic function with 1 method)"
      ]
     },
     "execution_count": 10,
     "metadata": {},
     "output_type": "execute_result"
    }
   ],
   "source": [
    "function km_pp_centers(Xnor, K)\n",
    "    obs = size(Xnor,1)\n",
    "    cent_idxs = [rand(1:obs)]\n",
    "    for ii = 1:(K-1)\n",
    "        Lk = length(cent_idxs)\n",
    "        d_mat = zeros(obs,Lk)\n",
    "        for jj in 1:Lk\n",
    "            d_mat[:,jj] = sum(abs.(Xnor .- Xnor[cent_idxs[jj],:]'),2)\n",
    "        end\n",
    "\n",
    "        min_ds2 = minimum(d_mat,2)  \n",
    "        new_k = StatsBase.sample(1:obs, Weights(min_ds2[:]))\n",
    "        append!(cent_idxs,new_k)\n",
    "    end\n",
    "\n",
    "    return Xnor[cent_idxs,:];\n",
    "end"
   ]
  },
  {
   "cell_type": "code",
   "execution_count": 11,
   "metadata": {},
   "outputs": [
    {
     "data": {
      "text/plain": [
       "warmstart (generic function with 1 method)"
      ]
     },
     "execution_count": 11,
     "metadata": {},
     "output_type": "execute_result"
    }
   ],
   "source": [
    "function warmstart(Xnor,K,N_min,max_depth, m_p, c_p, Ω, local_sparsity, criterion, warm_start) \n",
    "    n, p = size(Xnor)\n",
    "    num_nodes = num_tree_nodes(max_depth)\n",
    "    Branches, Leaves = get_branch_leaf_sets(num_nodes,max_depth)\n",
    "    lenLvs = length(Leaves)\n",
    "    lB = length(Branches)\n",
    "    \n",
    "    if warm_start\n",
    "        cent_i = km_pp_centers(Xnor, K)\n",
    "        kmeans_clusters = kmeans!(Xnor',cent_i')\n",
    "\n",
    "        labels = assignments(kmeans_clusters)\n",
    "\n",
    "        tree = DecisionTreeClassifier(min_samples_leaf=N_min, max_depth=max_depth, \n",
    "            random_state=1234, min_impurity_decrease = 0.25,\n",
    "            criterion=\"entropy\")\n",
    "        ScikitLearn.fit!(tree, Xnor, labels)\n",
    "\n",
    "        new_labels = ScikitLearn.predict(tree,Xnor)\n",
    "\n",
    "        μ_st = zeros(K,p)\n",
    "\n",
    "        for ii in unique(new_labels)\n",
    "            μ_st[ii,:] = mean(Xnor[(new_labels .== ii),:],1)\n",
    "        end\n",
    "\n",
    "        f_st = μ_st[new_labels,:]\n",
    "\n",
    "        all_children, left_children, right_children = get_child_nodes(num_nodes);\n",
    "\n",
    "        tr_features = tree[:tree_][:feature]'\n",
    "        tr_bs = tree[:tree_][:threshold]'\n",
    "        tr_lc = tree[:tree_][:children_left]'\n",
    "        tr_rc =  tree[:tree_][:children_right]'\n",
    "\n",
    "        a_st = zeros(lB,p)\n",
    "        b_st = zeros(lB,1)\n",
    "\n",
    "        BranchPair = zeros(Int, num_nodes)\n",
    "        BranchPair[1] = 1\n",
    "        for m in Branches\n",
    "            idx = BranchPair[m]\n",
    "            if idx > 0\n",
    "                feat_idx = tr_features[idx]+1\n",
    "                if feat_idx > -1\n",
    "                    a_st[m,feat_idx] = 1\n",
    "                    b_st[m] = tr_bs[idx]\n",
    "                end\n",
    "                BranchPair[left_children[m][1]] = tr_lc[idx]+1\n",
    "                BranchPair[right_children[m][1]] = tr_rc[idx]+1\n",
    "            end\n",
    "        end\n",
    "\n",
    "        ah_st = abs.(a_st)\n",
    "        \n",
    "        d_st = 1*(sum(a_st,2) .== 1)\n",
    "        \n",
    "        nc = tree[:tree_][:node_count]\n",
    "        node_counts = reshape(tree[:tree_][:value],Val{2}) \n",
    "        most_pop = [indmax(node_counts[ii,:]) for ii in 1:nc]'\n",
    "\n",
    "        BranchRev = zeros(Int,num_nodes)\n",
    "        for ii = 1:num_nodes\n",
    "            curr_n = BranchPair[ii]\n",
    "            if curr_n != 0\n",
    "                BranchRev[curr_n] = ii\n",
    "            end\n",
    "        end\n",
    "\n",
    "        psleaf_clusts =  most_pop[find(tr_lc+1 .== 0)]\n",
    "        psleaves = BranchRev[find(tr_lc+1 .== 0)]\n",
    "        tot_psl = length(psleaves)\n",
    "\n",
    "        \n",
    "        leaf_clusts =  zeros(Int,lenLvs)\n",
    "        offset = Branches[end]\n",
    "        for jj = 1:tot_psl\n",
    "            curr_psl = psleaves[jj]\n",
    "            if (curr_psl in Leaves) # it's already a leaf\n",
    "                leaf_clusts[curr_psl-offset] = psleaf_clusts[jj]\n",
    "            else\n",
    "                curr_child_leaves = intersect(all_children[curr_psl], Leaves)\n",
    "                right_most = maximum(curr_child_leaves)\n",
    "                leaf_clusts[right_most-offset] = psleaf_clusts[jj]\n",
    "            end\n",
    "        end\n",
    "\n",
    "        w_st = zeros(K,lenLvs)\n",
    "        for t in 1:lenLvs\n",
    "            curr_cl = leaf_clusts[t]\n",
    "            if curr_cl != 0\n",
    "                w_st[curr_cl,t] = 1.0\n",
    "            end\n",
    "        end\n",
    "\n",
    "        clust_to_leaf = zeros(Int,K)\n",
    "        for k in unique(new_labels)\n",
    "            clust_to_leaf[k] = find(leaf_clusts .== k)[1]\n",
    "        end\n",
    "\n",
    "        z_st = zeros(n,lenLvs)\n",
    "        for ii in 1:n\n",
    "            z_st[ii,clust_to_leaf[new_labels][ii]] = 1\n",
    "        end\n",
    "        \n",
    "        l_st = 1*(leaf_clusts .!= 0)\n",
    "        s_st = a_st\n",
    "        \n",
    "        α_st = zeros(lenLvs,p,K)\n",
    "        β_st = zeros(p,lenLvs)\n",
    "        for t in 1:lenLvs\n",
    "            α_st[t,:,:] = (repmat(w_st[:,t], 1, p).*μ_st)'\n",
    "            β_st[:,t] = sum(α_st[t,:,:],2)\n",
    "        end\n",
    "\n",
    "        γ_st = zeros(lenLvs,n,p)\n",
    "        #f_st2 = zeros(n,p)\n",
    "        for j in 1:p\n",
    "            γ_st[:,:,j] = (repmat(β_st[j,:]',n, 1).*z_st)'\n",
    "            #f_st2[:,j] = sum(γ_st[:,:,j],1)\n",
    "        end\n",
    "\n",
    "        L_st = abs.(Xnor - f_st)\n",
    "        \n",
    "        margin_st = zeros(lB)\n",
    "        for m in Branches\n",
    "            leaves_L = intersect(Leaves,left_children[m])\n",
    "            leaves_R = intersect(Leaves,right_children[m])\n",
    "            dist = Xnor*a_st'[:,m]-b_st[m]\n",
    "            margL = minimum(repmat(-dist,1,length(leaves_L)) + (1-z_st[:,leaves_L-Branches[end]]))\n",
    "            margR = minimum(repmat(dist,1,length(leaves_R)) + (1-z_st[:,leaves_R-Branches[end]]))\n",
    "            margin_st[m] = min(margL,margR)\n",
    "        end\n",
    "        \n",
    "        M_p = m_p*(1/Ω^2)*(1/length(Branches))\n",
    "        if local_sparsity != 1\n",
    "            M_p = M_p/2\n",
    "        end\n",
    "        \n",
    "        θ_st = zeros(n)\n",
    "        if criterion == :L2\n",
    "            for ii = 1:n\n",
    "                θ_st[ii] = norm(L_st[ii,:]) \n",
    "            end \n",
    "        elseif criterion == :L1\n",
    "            for ii = 1:n\n",
    "                θ_st[ii] = sum(L_st[ii,:])\n",
    "            end \n",
    "        else\n",
    "            error(\"Error: criterion must be either :L2 or :L1\")\n",
    "        end\n",
    "        \n",
    "        ϕ_st = zeros(n)\n",
    "        if criterion == :L2\n",
    "            ϕ_st = norm(θ_st) \n",
    "        elseif criterion == :L1\n",
    "            ϕ_st = sum(θ_st) \n",
    "        else\n",
    "            error(\"Error: criterion must be either :L2 or :L1\")\n",
    "        end\n",
    "        \n",
    "        obj_st = (1/Ω)*ϕ_st + (c_p+M_p)*((local_sparsity == 1)*sum(d_st) + \n",
    "            (local_sparsity != 1)*sum(s_st)) - M_p*sum(margin_st)\n",
    "        \n",
    "    else\n",
    "        μ_st = NaN*ones(K,p)\n",
    "        f_st = NaN*ones(n,p)\n",
    "        a_st = NaN*ones(lB,p)\n",
    "        b_st = NaN*ones(lB,1)\n",
    "        ah_st = NaN*ones(lB,p)\n",
    "        d_st = NaN*ones(lB,1)\n",
    "        w_st = NaN*ones(K,lenLvs)\n",
    "        z_st = NaN*ones(n,lenLvs)\n",
    "        l_st = NaN*ones(lenLvs)\n",
    "        s_st = NaN*ones(lB,p)\n",
    "        α_st = NaN*ones(lenLvs,p,K)\n",
    "        β_st = NaN*ones(p,lenLvs)\n",
    "        γ_st = NaN*ones(lenLvs,n,p)\n",
    "        L_st = NaN*ones(n,p)\n",
    "        margin_st = NaN*ones(lB)\n",
    "        θ_st = NaN*ones(n)\n",
    "        obj_st = NaN\n",
    "        tree = NaN\n",
    "        ϕ_st = NaN\n",
    "    end\n",
    "    \n",
    "    return Dict(\"μ\" => μ_st, \"f\" => f_st,\n",
    "            \"a\" => a_st', \"b\" => b_st,\n",
    "            \"ah\" => ah_st', \"d\" => d_st,\n",
    "            \"w\" => w_st, \"z\" => z_st,\n",
    "            \"l\" => l_st, \"s\" => s_st,\n",
    "            \"α\" => α_st, \"β\" => β_st,\n",
    "            \"γ\" => γ_st, \"L\" => L_st,\n",
    "            \"margin\" => margin_st, \"obj\" => obj_st,\n",
    "            \"tree\" => tree, \"θ\" => θ_st, \"ϕ\" => ϕ_st)\n",
    "end"
   ]
  },
  {
   "cell_type": "markdown",
   "metadata": {},
   "source": [
    "## The model\n",
    "\n",
    "#### Parameters and pre-computed values\n",
    "Our formulation uses the following parameters, which are input into the function or pre-computed:\n",
    "* $N$ the number of nodes, which is determined by the depth of a tree\n",
    "* $P_t^L$ the set of left parents for leaf $t$. Only defined for the leaves.\n",
    "* $P_t^R$ the set of right parents for leaf $t$. Only defined for the leaves.\n",
    "* $P_m^d$ the single direct parent node for a given node $m$. Defined for every node except the root for which it is null.\n",
    "* $C_m^L$ the set of all left child nodes for a given node $m$. In the code we only ever care about the intersection of this with the set of leaf nodes.\n",
    "* $C_m^R$ the set of all right child nodes for a given node $m$. In the code we only ever care about the intersection of this with the set of leaf nodes.\n",
    "* $B$ the set of branch (interior i.e. not leaf) nodes\n",
    "* $L$ the set of leaf nodes\n",
    "* $X \\in \\mathbb{R}^{n \\times p}$ the data\n",
    "* $l_s \\in \\{1,...,p\\}$ the local sparsity parameter used to generate constraints\n",
    "* $m_p \\in \\{0,1\\}$ the Boolean specifying whether the formulation should consider margin\n",
    "* $c_p$ the complexity parameter\n",
    "* $K$ the number of clusters\n",
    "* $\\Omega$ the loss normalization factor defined as the loss from assigning all points to one cluster.\n",
    "\n",
    "#### Model variables\n",
    "* $a_{j,m}$ for $j \\in \\{1,...,p\\}$ and $m \\in B$ is the hyperplane coefficient for the $j$th variable at branch $m$\n",
    "* $\\hat{a}_{j,m}$ for $j \\in \\{1,...,p\\}$ and $m \\in B$ is the absolute value of $a$\n",
    "* $b_m$ for $m \\in B$ is the offset for the hyperplane at that split\n",
    "* $z_{i,t} \\in \\{0,1\\}$ denotes whether point $i$ is assigned to leaf $t$\n",
    "* $\\delta_{i,m}$ is the relative distance of observation $i$ from hyperplane $m$ \n",
    "* $\\eta_m \\leq 2$ is the margin for plane $m$. The constraint comes from normalizing the data.\n",
    "* $d_m \\in \\{0,1\\}$ determines whether hyperplane $m$ is included in the tree \n",
    "* $s_{j,m} \\in \\{0,1\\}$ for $j \\in \\{1,...,p\\}$ and $m \\in B$ determines whether feature $j$ is included in hyperplane $m$\n",
    "* $\\mu_{k,j}$ is the L1-centroid of the $j$th feature in cluster $k$\n",
    "* $\\beta_{t,j}$ for $t \\in L$ and $j \\in \\{1,...,p\\}$ is the model's predicted value for the $j$th feature which is constrained to be a centroid\n",
    "* $w_{k,t} \\in \\{0,1\\}$ for $k \\in \\{1,...,K\\}$ and $t \\in L$ determines whether leaf $t$ is assigned to cluster $k$\n",
    "* $f_{i,j}$ is the predicted value in the $j$th feature for point $i$ and is used to link the predicted values and centroids\n",
    "* $\\alpha_{t,j,k} \\geq 0$ for $t \\in L$, $j \\in \\{1,...,p\\}$, and $k \\in \\{1,...,K\\}$ is an auxiliary variable used to linearize $\\mu_{k,j} w_{k,t}$\n",
    "* $\\gamma_{t,j,i} \\geq 0$ for $t \\in L$, $j \\in \\{1,...,p\\}$, and point $i$ is an auxiliary variable used to linearize $\\beta_{t,j}z_{i,t}$\n",
    "* $\\psi_{i,j} \\geq 0$ is the loss in the $j$th feature for the $i$th point\n",
    "\n",
    "#### Constraints\n",
    "The following constraints are used to define the margin. The second and third constraint say that the margin is not affected by points that don't lie in a relevant leaf. In theory we would use the absolute value of distance in the second and third constraint but, because this has no upper bound and defines margin, which is substracted in the objective function, it leads to garbage solutions. Instead we use the knowledge that $\\delta_{i,m}$ is negative for all left children and positive for all right children. These rely on the upper bound on margin that was defined above.\n",
    "* $\\sum_{j=1}^p(a_{j,m}X_{i,j}) - b_m = \\delta_{i,m} \\qquad \\forall i=1,..,n; m \\in B$ defines the relative distance to the plane i.e. defines $\\delta_{i,m}$\n",
    "* $\\eta_m \\leq -\\delta_{i,m} + 2(1-z_{i,t}) \\qquad \\forall i;m,t \\in C_m^L$\n",
    "* $\\eta_m \\leq \\delta_{i,m} + 2(1-z_{i,t}) \\qquad \\forall i;m,t \\in C_m^R$\n",
    "\n",
    "The following constraints enforce all the hyperplane splits for each point in each leaf. \n",
    "* $-1 \\leq a_{j,m} \\leq 1$ for all $j;m \\in B$\n",
    "* $\\hat{a}_{j,m} \\geq a_{j,m}$ and $\\hat{a}_{j,m} \\geq - a_{j,m}$ for all $j;m$ defines the absolute value\n",
    "* $\\sum_{j=1}^p(a_{j,m}X_{i,j}) - b_m + \\epsilon \\leq (2+\\epsilon)(1-z_{i,t})$ for all $i;t \\in B;m \\in P_t^L$. This enforces the left branch splits.\n",
    "* $\\sum_{j=1}^p(a_{j,m}X_{i,j}) - b_m \\geq -2(1-z_{i,t})$ for all $i;t \\in B;m \\in P_t^R$. This enforces the right branch splits. \n",
    "\n",
    "Make sure each point is assigned to one leaf\n",
    "* $\\sum_{t \\in L} z_{i,j} = 1 \\forall i$\n",
    "\n",
    "Complexity constraints control the coefficients that can be used in a given hyperplan\n",
    "* $\\sum_{j=1}^p \\leq l_s \\forall m$ ensures that we don't use more features than allowed by the local sparsity parameter at each split $m$\n",
    "* $\\sum_{j=1}^p \\hat{a}_{j,m} \\leq d_m \\forall m$ forces all coefficents to 0 if the split isn't used\n",
    "* $-d_m \\leq b_m \\leq d_m \\forall m$ forces the offset to be 0 if a split isn't used\n",
    "* $-s_{j,m} \\leq a_{j,m} \\leq s_{j,m}$ for all $j,m$ forces $a$ to be 0 if the $j$th variable isn't used\n",
    "* $s_{j,m} \\leq d_m$ for all $j,m$ forces consistency between $d$ and $s$\n",
    "* $d_m \\leq d_{P_m^d}$ for all $m \\in B \\setminus \\{1\\}$ ensures that, if a split higher up in the tree is turned off, all splits below that are turned off\n",
    "\n",
    "Cluster constraints.  N.B. THIS CONSTRAINT IS WRONG\n",
    "* $\\beta_{t,j} \\leq d_{P_t^d}$ for all $t \\in L, j$\n",
    "\n",
    "Make sure that the prediction in each leaf is equal to the centroid of exactly one cluster\n",
    "* $\\alpha_{t,j,k} \\leq w_{k,t}$ for all $t \\in L, j \\in \\{1,...,p\\}, k \\in \\{1,..,K\\}$\n",
    "* $\\alpha_{t,j,k} \\leq \\mu_{k,j}$ for all $t \\in L, j \\in \\{1,...,p\\}, k \\in \\{1,..,K\\}$\n",
    "* $\\alpha_{t,j,k} \\geq \\mu_{k,j} - (1-w_{k,t})$ for all $t \\in L, j \\in \\{1,...,p\\}, k \\in \\{1,..,K\\}$\n",
    "* $\\sum_{k=1}^K w_{k,t} = 1$ for all $t \\in L$ ensures each leaf is assigned to one cluster\n",
    "* $\\beta_{j,t} = \\sum_{k=1}^K \\alpha_{t,j,k}$\n",
    "\n",
    "Connect the predictions to each point.\n",
    "* $f_{i,j} = \\sum_{t \\in L} \\gamma_{t,i,j}$ for all $i,j$\n",
    "* $\\gamma_{t,i,j} \\leq z_{i,t}$ for all $t \\in L,i,j$\n",
    "* $\\gamma_{t,i,j} \\leq \\beta_{t,j}$ for all $t \\in L,i,j$\n",
    "* $ \\gamma_{t,i,j} \\geq \\beta_{t,j} - (1-z_{i,t})$ for all $t \\in L,i,j$\n",
    "\n",
    "Define the loss as the L1 distance from a point to its assigned centroid\n",
    "* $\\psi_{i,j} \\geq f_{i,j} - X_{i,j}$ for all $i,j$\n",
    "* $\\psi_{i,j} \\geq -f_{i,j} + X_{i,j}$ for all $i,j$\n",
    "\n",
    "#### Objective function\n",
    "The objective function includes loss from distance to the centroid, complexity, and margin:\n",
    "$$ \\min \\frac{1}{\\Omega} \\sum_{i,j} \\psi_{i,j} + c_p \\sum_{j,m} s_{j,m} - \\frac{m_p}{\\Omega^2} \\sum_{m} \\eta_m $$"
   ]
  },
  {
   "cell_type": "code",
   "execution_count": 12,
   "metadata": {},
   "outputs": [
    {
     "data": {
      "text/plain": [
       "ClusterTree (generic function with 1 method)"
      ]
     },
     "execution_count": 12,
     "metadata": {},
     "output_type": "execute_result"
    }
   ],
   "source": [
    "function ClusterTree(X,c_p,max_depth,K;local_sparsity=1,\n",
    "        maximize_margin=true, warm_start = false, N_min = 2,\n",
    "        criterion = :L2, OutputFlag=0)\n",
    "    # Pre-compute various model factors\n",
    "    num_nodes = num_tree_nodes(max_depth)\n",
    "    Branches, Leaves = get_branch_leaf_sets(num_nodes,max_depth)\n",
    "    direct_parent, left_parents, right_parents = get_parent_nodes(num_nodes)\n",
    "    all_children, left_children, right_children = get_child_nodes(num_nodes)\n",
    "    n,p = size(X)\n",
    "    if (local_sparsity == :all) local_sparsity = p end\n",
    "    m_p = check_margin_parameter(maximize_margin)\n",
    "    check_local_sparsity(local_sparsity,p)\n",
    "    Ω = loss_normalization_factor(X,criterion)\n",
    "    \n",
    "\n",
    "    starts = warmstart(X,K,N_min,max_depth, m_p, c_p, Ω, local_sparsity, criterion, warm_start)\n",
    "    \n",
    "    mod = Model(solver = GurobiSolver(OutputFlag=OutputFlag))\n",
    "    # Split Variables\n",
    "    if (local_sparsity == 1) \n",
    "        @variable(mod, a[j=1:p,t in Branches], Bin, start = starts[\"a\"][j,t])\n",
    "        @variable(mod, b[t in Branches] >= 0, start = starts[\"b\"][t])\n",
    "    else\n",
    "        @variable(mod, a[j=1:p,t in Branches], start = starts[\"a\"][j,t])\n",
    "        @variable(mod, a_hat[j=1:p,t in Branches], start = starts[\"ah\"][j,t]) \n",
    "        @variable(mod, b[t in Branches], start = starts[\"b\"][t])\n",
    "    end\n",
    "    @variable(mod, z[i=1:n,t in Leaves], Bin, start = starts[\"z\"][i,t-Branches[end]])\n",
    "    \n",
    "    # Complexity Variables\n",
    "    @variable(mod, d[m in Branches], Bin, start = starts[\"d\"][m])\n",
    "    if (local_sparsity != 1) \n",
    "        @variable(mod, s[j=1:p,t in Branches], Bin, start = starts[\"s\"][t,j]) \n",
    "    end\n",
    "    \n",
    "    # MinBucket Variables\n",
    "    @variable(mod, l[t in Leaves], Bin, start = starts[\"l\"][t-Branches[end]])\n",
    "    \n",
    "    # MinBucket Constraints\n",
    "    @constraint(mod, MinB1[t in Leaves, i=1:n], z[i,t] <= l[t])\n",
    "    @constraint(mod, MinB2[t in Leaves], sum(z[i,t] for i = 1:n) >= N_min*l[t])\n",
    "    \n",
    "    # Hyperplane Distance / Margin Variables\n",
    "    @variable(mod, margin[m in Branches] >= 0, start = starts[\"margin\"][m])\n",
    "    \n",
    "    if (local_sparsity != 1)\n",
    "        @constraint(mod, [m in Branches], margin[m] <= 2)\n",
    "        @constraint(mod, [m in Branches], margin[m] <= 2*d[m])\n",
    "        for m in Branches                                                           \n",
    "            @constraint(mod, [i=1:n, leaf in intersect(Leaves,left_children[m])], \n",
    "                margin[m] <= -(sum(a[j,m]*X[i,j] for j = 1:p) - b[m]) + 2*(1-z[i,leaf]))\n",
    "            @constraint(mod, [i=1:n, leaf in intersect(Leaves,right_children[m])], \n",
    "                margin[m] <= (sum(a[j,m]*X[i,j] for j = 1:p) - b[m]) + 2*(1-z[i,leaf])) \n",
    "        end\n",
    "    else\n",
    "        @constraint(mod, [m in Branches], margin[m] <= 1)\n",
    "        @constraint(mod, [m in Branches], margin[m] <= d[m])\n",
    "        for m in Branches                                                           \n",
    "            @constraint(mod, [i=1:n, leaf in intersect(Leaves,left_children[m])], \n",
    "                margin[m] <= -(sum(a[j,m]*X[i,j] for j = 1:p) - b[m]) + (1-z[i,leaf]))\n",
    "            @constraint(mod, [i=1:n, leaf in intersect(Leaves,right_children[m])], \n",
    "                margin[m] <= (sum(a[j,m]*X[i,j] for j = 1:p) - b[m]) + (1-z[i,leaf])) \n",
    "        end\n",
    "    end  \n",
    "     \n",
    "    \n",
    "    # Split constraints enforce all parent splits for a leaf for each point in that leaf\n",
    "    if (local_sparsity == 1)\n",
    "        ϵ, ϵ_max = calculate_epsilon(X,p)\n",
    "        for leaf in Leaves\n",
    "            @constraint(mod, [i=1:n,m in left_parents[leaf]], \n",
    "                sum(a[j,m]*(X[i,j]+ϵ[j]) for j = 1:p) - b[m] <=  (1+ϵ_max)*(1-z[i,leaf]))\n",
    "            @constraint(mod, [i=1:n,m in right_parents[leaf]], \n",
    "                sum(a[j,m]*X[i,j] for j = 1:p) - b[m] >= - (1-z[i,leaf])) \n",
    "        end\n",
    "    else\n",
    "        ϵ = 0.005\n",
    "        @constraint(mod, [j=1:p,t in Branches], a[j,t] >= -1)\n",
    "        @constraint(mod, [j=1:p,t in Branches], a[j,t] <= 1)\n",
    "        @constraint(mod, [j=1:p,t in Branches], a_hat[j,t] >= a[j,t])\n",
    "        @constraint(mod, [j=1:p,t in Branches], a_hat[j,t] >= -a[j,t])\n",
    "        for leaf in Leaves\n",
    "            @constraint(mod, [i=1:n,m in left_parents[leaf]], \n",
    "                sum(a[j,m]*X[i,j] for j = 1:p) - b[m] + ϵ <= (2+ϵ)*(1-z[i,leaf]))\n",
    "            @constraint(mod, [i=1:n,m in right_parents[leaf]], \n",
    "                sum(a[j,m]*X[i,j] for j = 1:p) - b[m] >= - 2*(1-z[i,leaf])) \n",
    "        end\n",
    "    end\n",
    "    \n",
    "    @constraint(mod, each_point_one_leaf[i=1:n], \n",
    "        sum(z[i,t] for t in Leaves) == 1)\n",
    "    \n",
    "    # Complexity constraints\n",
    "    if (local_sparsity != 1)\n",
    "        @constraint(mod, NumSplits[t in Branches], sum(s[j,t] for j = 1:p) <= local_sparsity)\n",
    "        @constraint(mod, NumSplits2[t in Branches], sum(s[j,t] for j = 1:p) >= d[t])\n",
    "        @constraint(mod, MakeSplit1[t in Branches], sum(a_hat[j,t] for j=1:p) <= d[t])\n",
    "        @constraint(mod, MakeSplit2[t in Branches], b[t] <= d[t])\n",
    "        @constraint(mod, MakeSplit3[t in Branches], b[t] >= -d[t])\n",
    "        @constraint(mod, [j=1:p,t in Branches], a[j,t] <= s[j,t])\n",
    "        @constraint(mod, [j=1:p,t in Branches], a[j,t] >= -s[j,t])\n",
    "        @constraint(mod, [j=1:p,t in Branches], s[j,t] <= d[t])\n",
    "    else\n",
    "        @constraint(mod, MakeSplit1[t in Branches], sum(a[j,t] for j=1:p) == d[t])\n",
    "        @constraint(mod, MakeSplit2[t in Branches], b[t] <= d[t])\n",
    "    end\n",
    "    \n",
    "    @constraint(mod, [t in setdiff(Branches,1)], d[t] <= d[direct_parent[t]])\n",
    "    \n",
    "    # Cluster Variables\n",
    "    @variable(mod, μ[k = 1:K, j=1:p] >= 0,start = starts[\"μ\"][k,j])\n",
    "    @variable(mod, f[i = 1:n, j = 1:p] >= 0, start = starts[\"f\"][i,j])\n",
    "    @variable(mod, β[t in Leaves, j=1:p] >= 0, start = starts[\"β\"][j,t-Branches[end]])\n",
    "    @variable(mod, α[t in Leaves, j=1:p, k = 1:K] >= 0, start = starts[\"α\"][t-Branches[end],j,k])\n",
    "    @variable(mod, γ[t in Leaves, j=1:p, i = 1:n] >= 0, start = starts[\"γ\"][t-Branches[end],i,j])\n",
    "\n",
    "    @constraint(mod, [k = 1:K, j=1:p],  μ[k,j] <= 1)\n",
    "    @constraint(mod, [i=1:n, j=1:p],  f[i,j] <= 1)\n",
    "    @constraint(mod, [t in Leaves, j=1:p], β[t,j] <= l[t])\n",
    "    @constraint(mod, [t in Leaves, j=1:p, k = 1:K], α[t,j,k] <= l[t])\n",
    "    @constraint(mod, [t in Leaves, j=1:p, i = 1:n], γ[t,j,i] <= l[t])    \n",
    "    \n",
    "    @variable(mod, w[k = 1:K, t in Leaves], Bin, start = starts[\"w\"][k,t-Branches[end]])\n",
    "\n",
    "    # Cluster Constraints\n",
    "    for m in Branches\n",
    "        @constraint(mod, [j=1:p, t in intersect(Leaves,left_children[m])], β[t,j] <= d[m])\n",
    "        @constraint(mod, [j=1:p, t in intersect(Leaves,left_children[m]), k = 1:K], α[t,j,k] <= d[m])\n",
    "        @constraint(mod, [j=1:p, t in intersect(Leaves,left_children[m]), i = 1:n], γ[t,j,i] <= d[m])\n",
    "        @constraint(mod, [t in intersect(Leaves,left_children[m])], l[t] <= d[m])\n",
    "    end\n",
    "\n",
    "    @constraint(mod, LinearizeMean1[t in Leaves, j=1:p, k = 1:K], α[t,j,k] <= w[k,t])\n",
    "    @constraint(mod, LinearizeMean2[t in Leaves, j=1:p, k = 1:K], α[t,j,k] <= μ[k,j])\n",
    "    @constraint(mod, LinearizeMean3[t in Leaves, j=1:p, k = 1:K], α[t,j,k] >= μ[k,j]-(1-w[k,t]))\n",
    "    @constraint(mod, Mean[t in Leaves, j=1:p], sum(α[t,j,k] for k = 1:K) == β[t,j])\n",
    "    \n",
    "    @constraint(mod, wConst[t in Leaves], sum(w[k,t] for k = 1:K) == l[t])\n",
    "    \n",
    "    @constraint(mod, LinearizePred1[t in Leaves, j=1:p, i = 1:n], γ[t,j,i] <= z[i,t])\n",
    "    @constraint(mod, LinearizePred2[t in Leaves, j=1:p, i = 1:n], γ[t,j,i] <= β[t,j])\n",
    "    @constraint(mod, LinearizePred3[t in Leaves, j=1:p, i = 1:n], γ[t,j,i] >= β[t,j]-(1-z[i,t]))\n",
    "    @constraint(mod, Pred[i = 1:n, j=1:p], sum(γ[t,j,i] for t in Leaves) == f[i,j])\n",
    "    \n",
    "    # Loss Variables\n",
    "    @variable(mod, L[i = 1:n, j = 1:p] >= 0, start = starts[\"L\"][i,j])\n",
    "    \n",
    "    # Loss Constraints\n",
    "    @constraint(mod, Loss1[i = 1:n, j = 1:p], L[i,j] >= f[i,j]-X[i,j])   \n",
    "    @constraint(mod, Loss2[i=1:n, j=1:p], L[i,j] >= -f[i,j]+X[i,j]) \n",
    "    \n",
    "    @variable(mod, θ[i=1:n] >= 0, start = starts[\"θ\"][i])\n",
    "    if criterion == :L2\n",
    "        @constraint(mod, [i=1:n], θ[i] >= norm(L[i,:])) \n",
    "    elseif criterion == :L1\n",
    "        @constraint(mod, [i=1:n], θ[i] >= sum(L[i,:]))\n",
    "    else\n",
    "        error(\"Error: criterion must be either :L2 or :L1\")\n",
    "    end\n",
    "    \n",
    "    @variable(mod, ϕ >= 0, start = starts[\"ϕ\"])\n",
    "    if criterion == :L2\n",
    "        @constraint(mod, ϕ >= norm(θ)) \n",
    "    elseif criterion == :L1\n",
    "        @constraint(mod, ϕ >= sum(θ))\n",
    "    else\n",
    "        error(\"Error: criterion must be either :L2 or :L1\")\n",
    "    end\n",
    "    \n",
    "    if (local_sparsity == 1)\n",
    "        M_p = m_p*(1/Ω^2)*(1/length(Branches))\n",
    "        @objective(mod, Min, \n",
    "            (1/Ω)*ϕ + \n",
    "            (c_p+M_p)*sum(d[t] for t in Branches) -\n",
    "            M_p*sum(margin[m] for m in Branches))\n",
    "    else\n",
    "        M_p = m_p*(1/Ω^2)*(0.5/length(Branches))\n",
    "        @objective(mod, Min, \n",
    "            (1/Ω)*ϕ +\n",
    "            (c_p+M_p)*sum(s[j,t] for j=1:p, t in Branches) -\n",
    "            M_p*sum(margin[m] for m in Branches))\n",
    "    end\n",
    "\n",
    "    @time status = solve(mod)\n",
    "    \n",
    "    println(\"Status = \", status)\n",
    "    return Dict(\"z\" => getvalue(z), \"μ\" => getvalue(μ),\n",
    "                \"a\" => getvalue(a), \"b\" => getvalue(b),\n",
    "                \"d\" => getvalue(d), \"w\" => getvalue(w),\n",
    "                \"l\" => getvalue(l), \"β\" => getvalue(β),\n",
    "                \"L\" => getvalue(L), \"margin\" => getvalue(margin),\n",
    "                \"θ\" => getvalue(θ), \"f\" => getvalue(f),\n",
    "                \"branches\" => Branches, \"leaves\" => Leaves,\n",
    "                \"direct parent\" => direct_parent,\n",
    "                \"left parents\" => left_parents,\n",
    "                \"right parents\" => right_parents,\n",
    "                \"obj\" => getobjectivevalue(mod),\n",
    "                \"starts\" => starts)\n",
    "end"
   ]
  },
  {
   "cell_type": "markdown",
   "metadata": {},
   "source": [
    "## Generate test data and visualize clustering"
   ]
  },
  {
   "cell_type": "code",
   "execution_count": 13,
   "metadata": {},
   "outputs": [
    {
     "data": {
      "text/plain": [
       "plot_cluster_tree (generic function with 1 method)"
      ]
     },
     "execution_count": 13,
     "metadata": {},
     "output_type": "execute_result"
    }
   ],
   "source": [
    "function create_synthetic_data(n,μ,σ;seed = 1234)\n",
    "    srand(seed)\n",
    "    X = (μ[1].+σ[1]*randn(n[1],2)')'\n",
    "    for i = 2:size(n)[1]\n",
    "        new_x = (μ[i].+σ[i]*randn(n[i],2)')'\n",
    "        X = vcat(X,new_x)\n",
    "    end\n",
    "    return X\n",
    "end\n",
    "\n",
    "function synthetic_data_cluster_assignments(n)\n",
    "    Y = ones(Int, n[1],1)\n",
    "    for i = 2:size(n)[1]\n",
    "        y = i*ones(Int,n[i],1)\n",
    "        Y = vcat(Y,y)\n",
    "    end\n",
    "    return Y\n",
    "end\n",
    "\n",
    "function feature_scaling(X)\n",
    "    mx_X = maximum(X,1)\n",
    "    mn_X = minimum(X,1)\n",
    "    return (X .- mx_X)./(mn_X .- mx_X)\n",
    "end    \n",
    "\n",
    "function get_cluster_assignments(result)\n",
    "    obs, leaves = size(result[\"z\"][:,:])\n",
    "    which_t = [find(result[\"z\"][i,:])[1] for i = 1:obs]\n",
    "    t_to_k = zeros(Int, leaves)\n",
    "    for ii in sort(unique(which_t))\n",
    "        t_to_k[ii] = find(result[\"w\"][:,:][:,ii])[1]\n",
    "    end\n",
    "    return t_to_k[which_t]\n",
    "end\n",
    "\n",
    "function plot_cluster_tree(result,depth)\n",
    "    num_nodes = num_tree_nodes(max_depth)\n",
    "    Branches, Leaves = get_branch_leaf_sets(num_nodes,max_depth)\n",
    "    direct_parent, left_parents, right_parents = get_parent_nodes(num_nodes)\n",
    "\n",
    "    A = result[\"a\"][:,:]'\n",
    "    grid_x = linspace(0,1,1000)\n",
    "    grid_y = linspace(0,1,1000)\n",
    "    Splits = Dict()\n",
    "\n",
    "    tol = 1e-8\n",
    "    for node in Branches    \n",
    "        if (abs(A[node,2]) <= tol)     # Vertical Split\n",
    "            (curr_x,curr_y) = ((result[\"b\"][node]-A[node,2]*grid_y)/A[node,1], grid_y)\n",
    "        else # Horizontal Split or Hyperplane Split\n",
    "            (curr_x,curr_y) = (grid_x,(result[\"b\"][node]-A[node,1]*grid_x)/A[node,2])\n",
    "        end\n",
    "\n",
    "        if node != 1\n",
    "            for t_l in left_parents[node]\n",
    "                idxs = (A[t_l,1]*curr_x + A[t_l,2]*curr_y .<= result[\"b\"][t_l])\n",
    "                (curr_x,curr_y) = (curr_x[idxs],curr_y[idxs])\n",
    "            end\n",
    "\n",
    "            for t_r in right_parents[node]\n",
    "                idxs = (A[t_r,1]*curr_x + A[t_r,2]*curr_y .>= result[\"b\"][t_r])\n",
    "                (curr_x,curr_y) = (curr_x[idxs],curr_y[idxs])\n",
    "            end\n",
    "        end\n",
    "        idxs = ((curr_y .<= 1) .& (curr_y .>= 0) .& (curr_x .<= 1) .& (curr_x .>= 0))\n",
    "        Splits[node] = (curr_x[idxs],curr_y[idxs])\n",
    "    end\n",
    "    cluster_tree_assignments = get_cluster_assignments(result)\n",
    "    \n",
    "    obj = result[\"obj\"]\n",
    "    mcols = [:red, :blue, :green, :orange, :pink, :yellow];\n",
    "    scatter(Xnor[:,1],Xnor[:,2], markercolor=mcols[cluster_tree_assignments], leg=false, title = \"obj = $obj\")\n",
    "    scatter!(result[\"μ\"][unique(cluster_tree_assignments),1],\n",
    "        result[\"μ\"][unique(cluster_tree_assignments),2], \n",
    "        markercolor=mcols[unique(cluster_tree_assignments)], m=[:star7], markersize = 10)\n",
    "    for i in 1:length(result[\"d\"]) \n",
    "        plot!(Splits[i][1],Splits[i][2]) \n",
    "    end\n",
    "    plot!()\n",
    "end"
   ]
  },
  {
   "cell_type": "markdown",
   "metadata": {},
   "source": [
    "# Example"
   ]
  },
  {
   "cell_type": "code",
   "execution_count": 14,
   "metadata": {
    "collapsed": true
   },
   "outputs": [],
   "source": [
    "n = [10,10,10,10]\n",
    "μ = [[10,10],[10,0],[5,5],[0,5]]\n",
    "σ = [1/2.9, 1/2.5, 1/1.9, 1/1.9]\n",
    "X = create_synthetic_data(n,μ,σ)\n",
    "Xnor = feature_scaling(X)\n",
    "Y = synthetic_data_cluster_assignments(n);"
   ]
  },
  {
   "cell_type": "code",
   "execution_count": 15,
   "metadata": {},
   "outputs": [
    {
     "data": {
      "text/html": [
       "<img src=\"data:image/png;base64,iVBORw0KGgoAAAANSUhEUgAAAlgAAAGQCAYAAAByNR6YAAAABHNCSVQICAgIfAhkiAAAAAlwSFlzAAAPYQAAD2EBqD+naQAAIABJREFUeJzt3X98j/X+x/Hn9fl8tpFsDMvYZn7/yK8J+RXRSRGjpugkOpMfdVCdas45onRKB+knks6Oc1C+ZCoS56D86JdSyYn8GNbmt2w2jNk+n+v7B5ZlYnNt13btcb/ddqvPdV2f9/X6eHW1p/f142OYpmkKAAAAlnHZXQAAAIDTELAAAAAsZlvAMk1TGRkZ4gwlAABwGtsC1vHjxxUUFKTjx4/bVUKRSk9Pt7sEWIA+Oge9dA566RxO7iWnCIuI1+u1uwRYgD46B710DnrpHE7uJQELAADAYgQsAAAAixGwAAAALEbAAgAAsBgBCwAAwGIELAAAUGCHDh1SXFyc2rVurd533KFly5bZXVKJ4rG7AAAAULr8/PPPate6tY4dOKDeXq92ut3q9dFHeu211zRq1Ci7yysRmMECAAAFMm3aNB05cEDfe72aI+lzr1fDJY3761+VmZlpd3klAgELAAAUyJdffKFbvF5FnHttSHpAUvqJE9q+fbt9hZUgBCwAAFAgNcPC9IPHo5wLln0vyTAMVa9e3a6yShQCFgAAKJCHHnpIP/l8utMwtEzSy5Li3G71u+suhYaG2l1eiUDAAgAABdK6dWu9u2iRfqhZU710Nlz1GTBA8bNn211aicFdhAAAoMDuvPNORUdHKyUlRZUqVVKlSpXsLqlEIWABAIBCcbvdioyMtLuMEolThAAAABYjYAEAAFiMgAUAAGAxAhYAAIDFCFgAAAAWI2ABAABYjIAFAABgMZ6DBQAAiozP59N///tfrV27ViEhIfr973+v6667zu6yihwBCwAAFIns7GzF3Hmnli5bppoej372+TT+qae0bPlyde7c2e7yihSnCAEAQJH497//rQ+XLdP7klJycrTf51PU6dOKHTRIPp/P7vKKFAELAABYxufzafr06Ypq1kyjR47UzZL6SDIkBUsa7/Np108/aevWrZccIzs7W59++qnWr1+v7OzsIqvVNE0tX75c999/v+655x7NnTtXOTk5loydJ2CNHj1akZGRMgxDmzZtyl2+c+dOdejQQQ0aNFCbNm20ZcuWSw4YHx+v+vXrq27duho6dGiR/sEAAAD7pKena/Xq1fr+++9lmqYk6cknntCokSNVf8sWhWVl6cSv3pN57p/+/v75jrl27VrVDg/XTTfdpM6dO6t2eLjWrl1bJPWPGzdOPXv21Pfz52tvQoIGDRqk/nffbc3smnmBtWvXmikpKWatWrXM7777Lnd5165dzdmzZ5umaZrvvvuu2bp1azM/u3fvNkNDQ80DBw6YPp/P7N27tzlt2rR8t01PTzclmenp6fmuL+2OHj1qdwmwAH10DnrpHPSyZHj99dfNa8qVMyWZkswbb7jB/O6770w/j8d8TjJNyVx0bt1kyTwpmZsks7HbbbZq3tz0+XwX9TI1NdUMrFDBvNnlMjdI5gbJvNnlMgMrVDDT0tIsrX/Pnj2mYRjmBMn0nav33XP1rlix4qrHzzOD1blzZ4WFheUJYIcPH9bGjRs1cOBASVJMTIxSUlKUmJh4UVhbtGiRoqOjVb16dRmGoREjRmj+/PlXnwIBAECJsWbNGo0aNUqDT5/WVkkfSjrw/fcadN99ys7JUb9z290l6TFJcZIqSGop6VRoqN5esECGYVw07uLFi3UiM1Pv+HxqK6mtpPk+n05kZiohIcHSz7Bu3TqZpqnHdPb0pSTFSArzePTxxx9f9fiXvQYrJSVFoaGh8njO3nBoGIYiIiKUnJx80bbJycmqVatW7uvIyMh8t7tQRkZGnp+srKyCfgYAAFCMZs+ercZut6ZLaizpDklTc3L0v3PXVa0/t50haYKkIJdLPXr00NKlS7Vj9241atQo33GPHTumAMNQ1QuWVZEUYBg6duyYpZ8hODhYkpR0wbIMSak+n6pUqXLV49v+mIbw8PA8r+Pi4jRmzBibqrFOWlqa3SXAAvTROeilc9BL+x0+fFg1fT5dOAd1/vzXzZ07a/Snn+onn08Rkt5wueQNCNDzzz+vWrVq6fjx47nv+XUv27Ztq1M+n17X2ZkvSXpd0qlzoSc1NdWyz9C6dWvVvO46Dfz5Z03xenWtpAmGIdPjUc+ePQu8r/OB7bzLBqzw8HAdOHBAOTk58ng8Mk1TycnJioiIuGjbiIgI7dq1K/d1UlJSvttdKCUlRYGBgbmvAwICFBAQcNkPUhr8+g8bpRN9dA566Rz00l533HGHHv3Pf/SlpHaSsiVNlRQSHKzF77+vp59+Wq/84x86ceqUOt14o1a/8oqioqLyHevCXt50000KDwvT43v3Kv7csq2SKkl6LyFBDzzwgKWfY8WqVRrQr59u275dklQzJETvz5mjpk2bXvXYlz1FGBISolatWmnevHmSpISEBIWFhalevXoXbRsTE6MlS5bo4MGDMk1TM2fO1IABA35z/MDAwDw/TglXAAA4VWxsrNq2aaMOktq73Yr0ePSey6XX33hDlStX1muvvaZjx4/r1KlTWv/552rbtu0Vj33w4EE9KOnGcz8fSXpc0to1a3To0CEtWrRIH3/8sbxe71V/jqZNm+p/P/6oTZs2acOGDUrau1fdu3e/6nElyTDNc/dVSho+fLiWLVumgwcPqkqVKqpYsaISExO1fft2PfDAAzp69KgCAwM1e/ZsNWvWTJL04IMPKjo6WtHR0ZKkt956S3//+98lSTfffLNmzpwpPz+/i3ackZGhoKAgpaen55nBcorU1FT+huUA9NE56KVz0MuS4fTp05o7d67WrFmjqlWrasiQIWrevHmBxsivl+Ghoep18KDeuGDZYEkrKldW2vHjyj73nKr6tWtr6fLlatiw4VV+kqKRJ2AVJwIWSgP66Bz00jnopXPk18vnn39eT48bp2dMU90lLZP0N519fsITOjub9ZOkP7jd8mvYUJt++CHfOxLtxpPcAQBAifHnP/9Zo0aP1t88Ht0oabK/v65v2lQN3W79QdISSfslTfJ6tXnrVm3evNnegi+BgAUAAEoMt9utl195RQcOHdK3336rA4cOqXHjxkr3enW9pBE6+3ytYee2z8zMvPRgNiJgAQCAEic4OFhRUVGqVKmSqlWrpoOSXpF0StIWSZUlBbjdatWqla11XgoBCwAAlGj79u1TO0mPSAqQ1ETSJElZXq+SkpLsLO2SCFgAAKBE8+bkqLwrb2Qpd+6fOefuKixpCFgAAKBE63vnnVrj82mRzt5NeETSBJdL9WvXVuPGjW2uLn8ELAAAUKINHjxYffv00d2SQj0e1TQM/a98ec2eO1cuV8mMMrZ/FyEAAHCe84/ZtOIZVR6PRwnvvaePP/5Ya9euVUhIiAYMGKCqVate/s02KZmxDwAAlErbtm1Tr5495e/np8qBgXrkkUd08uTJqx7XMAzdcsstevbZZzVy5MgSHa4kZrAAAIBFjhw5oi4dOyooPV2TvF4dOXFCr0+frqRdu/TBhx/aXV6xImABAABLzJ49WxnHjmmzz6frzi1r5vXqvmXLtHXrVjVp0sTW+ooTpwgBAIAldu7cqetdrtxwJUndzv1zx44ddpRkGwIWAACwRNOmTbXZ61XSBcuWXLCuLCFgAQAASwwePFg1atRQB49Hf5E0VNJIl0sDf/971atXz+7yihUBCwAAWKJSpUpa/8UXum3gQM2uUkVratXS+AkTFD97tt2lFTsucgcAAJYJDw/X7DIYqH6NGSwAAACLEbAAAAAsRsACAACwGAELAADAYgQsAAAAixGwAAAALEbAAgAAsBgBCwAAwGIELAAAAIsRsAAAACxGwAIAALAYAQsAAMBiBCwAAACLEbAAAAAsRsACAACwGAELAADAYgQsAAAAixGwAAAALEbAAgAAsBgBCwAAwGIELAAAAIsRsAAAACxGwAIAALAYAQsAAMBiBCwAAACLEbAAAAAsRsACAACwGAELAADAYgQsAAAAixGwAAAALEbAAgAAsBgBCwAAwGIELAAAAIsRsAAAACxGwAIAALAYAQsAAMBiBCwAAACLEbAAAAAsRsACAACwGAELAADAYgQsAAAAixGwAAAALEbAAgAAsBgBCwAAwGIELAAAAIsRsAAAACxGwAIAALAYAQsAAMBiBCwAAACLEbAAAAAsRsACAACwGAELAADAYgQsAAAAixGwAAAALOa50g2PHj2qW265Jfd1Zmamdu/ercOHDys4ODh3eVJSkurWratmzZrlLktISFDdunUtKhkAAKBku+KAVaVKFW3atCn39Ysvvqi1a9fmCVfnVaxYMc+2AAAAZUmhTxHGx8dryJAhVtYCAADgCFc8g3Whzz//XGlpaerVq1e+60+ePKk2bdrI6/Wqb9++Gjt2rNxud77bZmRk5HkdEBCggICAwpQFAABQIhQqYMXHx2vQoEHyeC5+e2hoqPbt26eQkBClpqaqf//+mjp1quLi4vIdKzw8PM/ruLg4jRkzpjBllShpaWl2lwAL0EfnoJfOQS+dw0m9/PUlUwUOWCdOnNDChQv19ddf57s+ICBAISEhuTuLjY3VO++8c8mAlZKSosDAwDzvd8oMVn7Xp6H0oY/OQS+dg146h1N7WeCAtWDBArVo0UKNGjXKd/3hw4dVuXJl+fn5KSsrS4sXL1ZUVNQlxwsMDMwTsAAAAEq7Al/knt/F7ePHj9fMmTMlSZ9++qmioqLUokULtWrVStWrV9fYsWOtqRYAAKAUMEzTNO3YcUZGhoKCgpSenu7IGazU1FTHTnuWJfTROeilc9BL53ByL3mSOwAAgMUIWAAAABYjYAEAAFiMgAUAAGAxAhYAAIDFCFgAAAAWI2ABAABYjIAFAABgMQIWAACAxQhYAAAAFiNgAQAAWIyABQAAYDECFgAAgMUIWAAAABYjYAEAAFiMgAUAAGAxAhYAAIDFCFgAAAAWI2ABAABYjIAFAABgMQIWAACAxQhYAAAAFiNgAQAAWIyABQAAYDECFgAAgMUIWAAAABYjYAEAAFiMgAUAAGAxAhYAAIDFCFgAAAAWI2ABAABYjIAFoMwwTVMvv/yywmuFy+PnUfsO7bV27Vq7ywLgQAQsAGXGc889pz/96U/aG7xX3t959dXer/S7W3+nb775xu7SADgMAQtAmZCVlaXJL06W2knqK6md5BvskypJL774ot3lAXAYAhaAMuHIkSM6kXFCqnPBQo+UE56jLdu22FYXAGciYAEoE0JCQhRUKUjaecHCbMmT5FGLZi1sqwuAM5XJgJWRkaHs7Gy7ywBQjPz9/TX2r2OlryUtlLROcv/TLddJl5584km7ywPgMGUqYK1Zs0atoporKChIlYICNWrUKJ06dcrusgAUkyeeeEKzZs1SIzXStRuvVbfm3bRu7To1b97c7tIAOIzH7gKKy9atW3X77d3VOtKrOSOkXYdPa/JbM3QsLVVz571td3kAioFhGBo6dKiGDh1qdykAHK7MBKwZM2YouIKpVX/2qZz/2WXVKvo0eu58TZ7yokJDQ+0tEAAAOEaZOUWYlLRHrSJycsOVJLWvL/l8plJSUuwrDAAAOE6ZCVitWt2gtdvdOnjsl2ULN0jXlC+nhg0b2lcYAABwnDITsB5++GEFVqqiqKfcemSO1OtFQ5OWSnFj/qygoCC7ywMAAA5SZgJW9erV9fkXX6l3v1gtT4xUakBr/etf/9L48ePtLg0AADhMmbnIXZJq1aqlWbNm2V0GAABwuDIzgwUAAFBcCFgAAAAWI2ABAABYjIAFAABgMQIWAACAxcrUXYQASp6ff/5ZK1euVEBAgG677TZVqFDB7pIA4KoRsADYJj4+Xg89/JCyz2RLkgIrBeq9hPfUrVs3mysDgKtDwAJgi+3bt2vosKEyW5jSLZLOSCeWndCdMXdq/979zGQBKNW4BguALRYsWCBXOZd0h6RrJQVLvl4+ZRzL0PLly+0uDwCuCgELgC2ysrJkeIy8/xfy/2UdAJRmBCwAtujdu7dyMnKkLyT5JOVIWi35+fmpe/fuNlcHAFeHgAXAFu3atdNjjz0mrZQ8r3jkfskt4ztD06dPV7Vq1ewuDwCuChe5A7DNSy+9pLvvvltLlixRQECABgwYoEaNGtldFgBcNQJWCfHtt99qwjNPa8OGzxUWFq7Rj/xJ999/vwzDsLs0oEi1b99e7du3t7sMALAUAasE2LJli27q1FG1qmRreEevvvspTYMHD1ZaWpoeeeQRu8sDAAAFRMAqAaZMmaxq1+Zo47NeXRMgSaaGx0vP/e0ZPfTQQ/L397e7RAAAUABc5F4C/O/779S9ac65cHVWnxukn48e06FDh+wrDAAAFAoBqwSoV7+R1u9wK8f7y7JPtkqBFStwNxVQSKdOndKOHTt0/Phxu0sBUAYRsEqAPz3+uBIPSd0mujRzlTQ8Xpr6kfToY4+rXLlydpcHlCqmaWrKlCm6LvQ6NWzYUNVCqunxxx9XTk6O3aUBKEMIWCXAjTfeqI8+Wq7T17bQQ7OlpVur6YUX/q6nn37a7tKAUmfu3LmKi4vT8YbHpUFS1o1ZevmVlzV16lS7SwNQhhimaZp27DgjI0NBQUFKT09XYGCgHSUUqdTUVAUHBxf4fT6fTy4XubekKGwfYZ+oG6L0/cnvZd57wf/alktBO4KUdjSNR584AMelczi5l/wmL2EIV8DV2X9gv8xqv/p7Y4iUnpau7Oxse4oCUObw2xyAo3Tu2FnuH93S6XMLciTXZpeatWjGI08AFJsy8xyszZs36+2331ZmZqbuuOMO3XbbbUV+qiApKUkff/yxKlWqpB49eqh8+fJFuj8A0jPPPKMV/12h0zNOKycyR579HildmvDyBLtLA1CGlIkZrFmzZqlly5b616yXtHzRTPXo0UN/eOAB/dblZ2fOnNFrr72mLp076eYuN2nGjBkFOr0wefJk1alTR0OGDFFMTIxqR0Zo48aNVnwcAL/h+uuv13fffKdhA4ep7TVtdW/Pe7Xhyw3q0qWL3aUBKEMcf5H70aNHFRZWQwPbndGMP0get/SvdVLsLGnFihW67bbbLnqPaZrqE91bHy3/SHe0NOXzGfroeynmrru0YOG7l535+uSTT9StWzeNu1OK6yUdOCYNfMOlIzk1Nf//3tXLL72kbT/+oMZNmunJuDi1atWqqD4+rpKTL8Asa+ilc9BL53ByLws0gxUZGamGDRuqZcuWatmypRYsWJDvdvHx8apfv77q1q2roUOH2nph6Zo1a3T69Bk9fZfk55EMQ3qgs1T7Oo+WL1+e73vWrl2rpR8u08JRpj74k7T0CVNzR5h6d1GCNmzYcNl9zp8/X/VDPZoQI11bTqpfXXrp9z7tSUrRTTd11KbPFqt9yFZ9sy5BHTq002effWb1xwYAADYq8CnCBQsWaNOmTdq0aZP69+9/0fo9e/Zo3LhxWr9+vRITE3Xo0CHNmjXLkmILo0KFCpKk1JO/LMv2SsdP/bLu17744gsFVXDrzta/LOvfXirn79KXX3552X1mZ2ervL+pCye6rgmQXIbUMsLU5ok5eiNW+t8LOWpa06fx48YW6rMBZc2aNWs0ePBg9e3bVzNmzNCpU6fsLgkA8mX5NViLFi1SdHS0qlevLsMwNGLECM2fP9/q3Vyxbt26qUZoiIb9061NSdJPR84+KT31hFf33Xdfvu+pWbOmMjK9Sjryy7KdB6XTZ3yqUaPGZfcZHR2tzT95NXutZJpSRqY0bpEhGdKAdj75n7u1IMBPuqetV1999ZUFnxRwttdff11du3bVOyve0ZLNSzRy1Eh1u6WbsrKy7C4NAC5S4IA1aNAgNWvWTEOGDNGRI0cuWp+cnKxatWrlvo6MjFRycvIlx8vIyMjzY/X/LP39/fX+Bx9q78mqihorRT4qLfy6nP7xj3g1adIk3/fExMToupBq6v2SW//3hfTOZ1Lfl90KDwtVdHT0ZffZp08f9e9/j2JnSaGjPKo+0qXVP/optPp1+jYp77bfJhkKDw+z4JMCznXs2DHFjYmT2kg5D+XIHGzKfMDUl19+qbffftvu8gDgIgV6TMO6desUERGh7OxsPfXUUxo8eLA++uijqyogPDw8z+u4uDiNGTPmqsb8tbp16+qbb7/Xp59+qszMTHXq1ElBQUFKTU295HsSFr+vR0aP1L3TvpMktbsxSv9+dZoyMzOVmZl52X0+99zzGjjwfn3yyScKCgrSXXfdpeXLlysuLk6VK0jdm0krvpcWfGlq6tQRv1kL7JOWlmZ3CdDZG0dOnzot3Sjp/Kn3CMkd5taKFSvUt2/fy45BL52DXjqHk3r564v1CxSwIiIiJEl+fn569NFH1aBBg3y32bVrV+7rpKSk3PflJyUlJc9dhAEBAQoICChIWVcsJibmirft0KGDvt74rfbv3y/DMBQaGlrg/fXq1Uu9evXKfX399dfL5/Np8qQXNO2/6apapZKmTBmrxx57jK/vKMGceodLcfF6vTp+/LiCgoIK/d95nTp1zv5LmqSq5weWlH52dmvXrl1q3br1Zcenl85BL53Dqb284lOEJ0+e1LFjx3Jfz58/X1FRURdtFxMToyVLlujgwYMyTVMzZ87UgAEDLjluYGBgnp+iCleFVaNGjUKFq/wYhqExY8bowMHD2rdvn/btP6QnnniCcAVH8vl8mjhxoqpWq6rKlSurVu1amjdvXqHGatmypaJuiJLnI4+0VVKKpEWSN8OrlStXqm3btupxRw8uegdQYlxxwDp06JC6du2q5s2bq1mzZlq7dq3mzJkjSXrwwQe1ZMkSSWf/pjlhwgR17NhR9erVU7Vq1TR8+PCiqb6U8vf3V40aNfjaDjja5MmTNfapsTpW/5gUI6VUSNH999+vpUuXFngswzD0wXsf6IZGN0gLJcVL2i7pJknjJN0jrVy1Us8995y1HwIACsnxDxq1i5MfnlaW0MfC8fl8qhpSVWm106TzZ8lNyfVvlzpGdNS6tesKPfb27dvVokULZbXNkm65YMWHUtiRMKUkpeT7PnrpHPTSOZzcyzLzXYQAik9mZqbSjqZJnS9YaEi+mj7t3rNbkpSYmKglS5bI4/HorrvuUljYld1N26BBA3l9Xqncr1b4i0c2ACgxysR3EQIoXhUqVFCdenWkLZLOz5FnS+4dbrVp3UZTp05VgwYN9ORfntRjjz+myNqRV3x9lmEY6tWrl9wb3dL5m28PSu7v3Yrpe+U3sgBAUeIUYRFx8rRnWUIfC+/dd9/VPffcI3e4W96aXrl3ueU57tHb895Wv379pPaSuuns3YAfSX7b/LRv7z5Vq1btkmN6vV6dOnVKP//8szp17qT9+/bLU9mj7KPZatCogT5d9+kl308vnYNeOoeTe8kMFoAicffdd+s///mPbm50syIOReium+/Sl198qW3btsld3n32+ik/nT3Vd7uUfSZby5Yty3esM2fOaMyYMQqqHKSKFSuqV3QvTX99uma9OUujHxitYcOGqWP7jnrttde0e/fu4vyYAJCvUhewTNPUm2++qQb168jPz6Mb296gFStW2F0WgHx0795dq/67Sj/t/kkLFy5Uy5Yt5XK5fjlteN6515d6ZMljjz2mKVOn6GTzk1JfaeuJrep3dz81btxY69av06xZszT3P3P1wksvqHGTxlq5cmXRfjAAuIxSd4pw2rRpGjVqlO7tILWvJy362qVPt5v6+ONP1KVLlyKsuGCcPO1ZltBH623fvl2NGzeW2cY8O4vlk7RM8t/pr/379qtKlSp5tj927JiqhVRTTuecs49lkCSv5JnhUfPI5tr0/Sb5HvBJYZLOSMb/GQr3hWvPrj1nw9w59NI56KVzOLmXpWoGy+fz6YWJf9Mfukjv/FEadZv08V99alnLpcmTXrC7PABXoGHDhnr11Vfl2uiSMdmQMcWQ3w4/zfn3nIvClSTt379fOdk50oXfquWWckJzlLgrUb6658KVJPlLZntTyUnJ2rlzZ7F8HgDIT6l6TMOJEye0/8Bh3XrXL8vcLqlbE68Wb9lqX2EACmTUqFGKjo7W0qVL5efnp759++q6667Ld9vatWurYlBFHd96XIo8t/CU5E5yq0pIFZ04dUI++X55w7mvCr322muL9DMAwG8pVTNY1157rcLDQrVs0y/LsnOk//7gVtNmLewrDECB1apVSyNHjtTw4cMvGa4kqXz58hr/1HjpK8l425D+I7nfdOtav2sV92ScfMk+6WNJ6ZISJc8nHnXt1lU1a9Ysts8CAL9WqmawXC6Xxo2foGHDhinjlKEO9U0t3ujS1n3SG+/8xe7yABSRxx9/XKGhoXpt2ms6sP+AuvTuonFPjVP9+vW1f/9+TXxhorzrvJKk66Ou19w5c22uGEBZV+oucpekefPmaeqUSdqTlKRWrVrp6WeeLVEXuEvOvnCvLKGPpcPBgwe1YcMGhYaGqk2bNvnejUgvnYNeOoeTe1kqA1Zp4OT/aMoS+lj6eb1eud1ueukg9NI5nNzLUnUNFgBcCdM09corr6hGWA15PB41bd6U5+UBKFYELACOM3XqVD322GM6UO2A1EvamrlVAwcO1CeffGJ3aQDKCAIWAEfxer16YdILUmtJfSW1lsz7TLlquDRpyiS7ywNQRhCwHGz16tW6rfvvVCcyTNG9e+mLL76wuySgyB0/flypP6f+8swsSXJJ3givtm3fZldZAMoYApZDffjhh7r11luVtnuN7m62T0mbV6hLl85av3693aUBRSowMFChNUOlbfrlOw9zJPcut6JaRNlZGoAyhIBlI9M0lZOTUyRjPz1+rLpdL335jFeT7pW++ZtXzcNNPTvh6SLZH1BSuFwuPffsc9IPkuttl/SJ5I53y3XMpbF/HWt3eQDKCAKWDUzT1IwZM1Q7Mlx+fn5q0riBFi5caOn43363WTFtTJ3/rls/j9S3lVffffetZfsBSqrY2FgtXLhQUZWjFLw1WL9r8Tur9PG0AAAW10lEQVQtXbJUrVu3trs0AGVEqXqSu1O88cYb+uMf/6j7O0ldbpPe35io/v37q3z58urdu/dVj28YhmpHhuvzHSl66Hdnl5mm9NlOQ7Uja1/1+EBpcPfdd+vuu+/OfZ2ammpjNQDKGgJWMTNNU5P+/rzu7yTNeejsstgupro+79KUyS9YErAk6cm4v+jhhx+Wn0e65XppyTfSiu9NLVjAVwoBAFDUOEVYzLxer5JT9qtL41+WGYbUpZFPiTt3WrafESNG6NVXX9V/doRo4Azpq4Nhio+P1z333GPZPgAAQP4IWMXM4/GocaP6en+jofNfUpSdIy3d5FbzFi0t249hGBo9erRS9h5QRkaGdu9JVmxsrGXjAwCAS+MUoQ2emfCc+vfvr67Pu9SlkU9LN7n1vxTpkznW3+HncrlUsWJFy8cFAACXRsC6QklJSUpISFBOTo769OmjRo0aFXqse+65R+XLl9eUyS/orc93qnmLlvpkztPq1KmThRUDAAC7GKZ5/kRV8crIyFBQUJDS09MVGBhoRwlX7J///KeGDRsqf4/kdhk6ccqrSZMmKS4u7pLvcfI3hJcl9NE56KVz0EvncHIvuQbrMg4ePKgRI4ZrcCefjszw6ec3vHryDmnMmDH68ccf7S4PAACUQASsy1i2bJlycnI09T6pQjkpwE/6291SxWvcev/99+0uDwAAlEAErMtwu90yTSnb+8synyn5fGfXAQAA/BoB6zJ69eqlcuX8NfLfhn4+LqVnSo/NlU6dMRUTE2N3eQAAoATiLsLLqFq1qubOfVv333+f3n3ojAxDcrncmjFjuurWrWt3eQAAoAQiYF2Bfv36qUuXLlqyZIm8Xq/uuOMO1axZ0+6yAABACUXAukLVqlXTkCFD7C4DAACUAlyDBQAAYDECFgAAgMUIWAAAABYjYAEAAFiMgAUAAGAxAhYAAIDFCFgAAAAWI2ABAABYjIAFAABgMQIWAACAxQhYAAAAFiNgAQAAWIyABQAAYDECFgAAgMUIWAAAABYjYAEAAFiMgAUAAGAxAhYAAIDFCFgAAAAWI2ABAABYjIAFAABgMQIWAACAxQhYAAAAFiNgAQAAWIyABQAAYDECFgAAgMUIWAAAABYjYAEAAFiMgAUAAGAxAhYAAIDFCFgAAAAWI2ABAABYjIAFAABgMQIWAACAxQhYAAAAFiNgAQAAWIyABQAAYLErDlinT59W37591aBBA7Vo0UK33nqrEhMTL9ouKSlJbrdbLVu2zP3ZtWuXpUUDAACUZJ6CbDxs2DD16NFDhmFo2rRpevDBB7VmzZqLtqtYsaI2bdpkVY0AAAClyhXPYJUrV049e/aUYRiSpHbt2ikpKamo6gIAACi1CjSDdaFXX31Vffr0yXfdyZMn1aZNG3m9XvXt21djx46V2+3Od9uMjIw8rwMCAhQQEFDYsgAAAGxXqIA1ceJEJSYmavXq1RetCw0N1b59+xQSEqLU1FT1799fU6dOVVxcXL5jhYeH53kdFxenMWPGFKasEiUtLc3uEmAB+ugc9NI56KVzOKmXwcHBeV4XOGC9+OKLWrx4sVatWqVrrrnmovUBAQEKCQnJ3VlsbKzeeeedSwaslJQUBQYG5nm/U2awfv2HjdKJPjoHvXQOeukcTu1lgQLWSy+9pPnz52vVqlWqVKlSvtscPnxYlStXlp+fn7KysrR48WJFRUVdcszAwMA8AQsAAKC0u+KL3Pfu3avHH39cx44dU9euXdWyZUvdeOONkqTx48dr5syZkqRPP/1UUVFRatGihVq1aqXq1atr7NixRVM9AABACWSYpmnaseOMjAwFBQUpPT3dkTNYqampjp32LEvoo3PQS+egl87h5F7yJHcAAACLEbAAAAAsRsACAACwGAELAADAYgQsAAAAixGwAAAALEbAAgAAsBgBCwAAwGIELAAAAIsRsAAAACxGwAIAALAYAQsAAMBiBCwAAACLEbAAAAAsRsACAACwGAELAADAYgQsAAAAixGwAAAALEbAAgAAsBgBCwAAwGIELAAAAIsRsAAAACxGwAIAALAYAQsAAMBiBCwAAACLEbAAAAAsRsACAACwGAELAADAYgQsAAAAixGwAAAALEbAAgAAsBgBCwAAwGIELAAAAIsRsAAAACxGwAIAALAYAQsAAMBiBCwAAACLEbAAAAAsRsACAACwGAELAADAYgQsAAAAixGwAAAALEbAAgAAsBgBCwAAwGIELAAAAIsRsAAAACxGwAIAALAYAQsAAMBiBCwAAACLEbAAAAAsRsACAACwGAELAADAYgQsAAAAixGwAAAALEbAAgAAsBgBCwAAwGIELAAAAIsRsAAAACxGwAIAALm2b9+ulStX6tChQ3aXUqoRsAAAgNLT03XbbT3VqFEjde/eXTVrhmnMmDEyTbPI910c+yhuBCwAAKCRI0dp9eovJM2XlCivd7wmT56sf/3rX0W2zx9//FG3395Tfn7+qlSpip588kmdPn26yPZXnAzTptiYkZGhoKAgpaenKzAw0I4SilRqaqqCg4PtLgNXiT46B710DnppvczMTAUFVVJOzkRJT+Qud7nu0I03Zujzz9dbvs/9+/erceOmOnnyOnm9wyTtl8s1TTExfbRw4f9Zvr/i5rG7AAAAYK9Tp04pJydbUo08y32+GkpLSymSfb711ls6cSJbPt+nkqqc219DvfvuUO3ePVF16tQpkv0WF04RAgBQxgUHB6tZsyi5XK9LOnFuaaLc7kXq2fPWItnnzp07JbXU+XB11i0XrCvdCFgAAJRxhmFoxozX5O+/WW53hNzuTjKMJoqIqKYxY8ZYuq8TJ05ow4YNqlmzpqSNkvZfsHapDMOlJk2aWLpPO3CKEAAAqFOnTtq69Qe99dZb+umnn9S6dYxiY2MVFBRk2T5eeeUVjR07XpmZxyVJ/v7XyOu9UV7vYEn7ZRhzFBsbq/DwcMv2aRcuci8iXITpDPTROeilc9DL0unDDz9U7969JT0saYik/8nlGqWwsGAdP56pwMAgDR8eqyeffFIeT+mf/yn9nwAAAJR4M2fOktt9o7zeaZIMSa3k8x3X3r2P6PDhw6pSpcrlhrikM2fO6MMPP1RKSoratm2rdu3ayTAMy2ovDAIWAAAockeOHJXXW0dnw9V5deXz+ZSenl7ogLV792517XqrkpN3y+UKkM+Xpejovnr33QXy9/e3pPbC4CJ3AABKgLS0NM2bN09z5szRkSNH7C7Hcrfe2lVu94eSdp1bki3DmK6wsEjVqlWr0OM++OBw7dsnSf+Tz5cpaYGWLv1Q06dPv/qirwIBCwAAmy1evFg1aoTp/vvv1+DBg1WzZrjmzp1rd1mWevTRRxURUV0uV1NJt8vjqSeX6z+aNu0Vud3uQo2ZmpqqTz5ZJa93rKSmOhtr7pFp9tHbby+wsPqCK1DA2rlzpzp06KAGDRqoTZs22rJlS77bxcfHq379+qpbt66GDh2q7OxsS4oFAMBpfv75Z9177306fbqHpAOSjig7+x794Q+xSk5Otrs8SZLX61VSUpIyMjIKPUbVqlX1zTcb9PzzT6t3b38NGdJDq1evUp8+fQo95i/36f06oHnk8/kKPa4VChSwhg8frmHDhmnHjh0aM2aMHnjggYu22bNnj8aNG6f169crMTFRhw4d0qxZs6yqFwAAR/nggw905kyWpJmSqkuqKmm6TNOjhIQEe4uTtHDhQkVE1FHt2rVVpUpVxcYOUWZmZqHGqly5sv785z9ryZIlmjlzppo1a3ZVtVWpUkWdOnWR2/2Czp56NCUtk8v1nvr3j7mqsa/WFQesw4cPa+PGjRo4cKAkKSYmRikpKUpMTMyz3aJFixQdHa3q1avLMAyNGDFC8+fPt7ZqAAAcIjs7W4bhkhRwwVJ/GYZHZ86csassSdJnn32mAQMGaP/+GyQtU07ORM2Zs0AjRjxsa10X+sc/3lTVqick1ZfbXUVSL918cxc98sgjttZ1xXcRpqSkKDQ0NPfZFIZhKCIiQsnJyapXr17udsnJyXkuVouMjPzNKc5fTzcGBAQoICDgElsDAOAsPXv2lGFIpvlXSS/q7NzHM/J6T1zV6TMrTJs2XS5XI3m9i87V1VNer5/eeecJvfzy1Kt6tIJVGjZsqF27tishISH3MQ233HKLXC57LzO3/TENv35aa1xcnOWP5bdDWlqa3SXAAvTROeilczitl9dee60mTnxef/nLX+RyzZHkktd7TE899ZRCQkKUmppqW227d/8kr7e58p7waiGvN0c7duxQw4YNr2p8K3vZq1ev3H8/duyYZeNeqV8//PaKA1Z4eLgOHDignJwceTwemaap5ORkRURE5NkuIiJCu3btyn2dlJR00TYXSklJyfMkdyfNYPGkYWegj85BL53Dab0cM2aM+vTpo0WLFsnn8+nOO++86uuTrHDzzZ30zTdvyus9IClUZ69x+pcqV66mG264wZLnTDmtl+dd8fxZSEiIWrVqpXnz5kmSEhISFBYWluf0oHT22qwlS5bo4MGDMk1TM2fO1IABAy45bmBgYJ4fp4QrAAAKolGjRnrqqac0fvz4EhGupLOPVqhWraLc7qaSBsvtbivp35o06XnbHuKZlZWl48eP27LvgijQCco333xTb775pho0aKC///3vmj17tiTpwQcf1JIlSyRJderU0YQJE9SxY0fVq1dP1apV0/Dhw62vHAAAFKnQ0FB9880GjR49WFFR29SjRw2tWLFCQ4cOLfZaMjIyFBs7RBUrBikwMFBt27bXhg0bir2OK8WXPRcRvozUGeijc9BL56CXzlGQXvbo0UsrV66X1/tnSaFyuaapXLkd+vHHH37zUiS78CR3AABQom3btk0rViyT1ztT0l8kPSCf72NlZRl666237C4vXwQsAABQJBISEtSxYxdFRNTVvff+Xlu3bi3UOElJSef+rf0FSwMlNb1gXclCwAIAAJabOXOm+vXrpy+/9FNKyp1atGiD2rZtrx07dhR4rObNm8vlcku68PsFd8vn+1qtWrWyrGYrEbAAAIClsrOz9dRTz+jsqbyVkl5UTs4mZWVV1OTJUwo8Xo0aNTRy5EhJf5Fh3CXpj3K72yoiIkKxsbHWFm8RAhYAALDUgQMHdPToIUl3SzLOLa2onJwe+uqrbws15ssvv6Q33pihli33qk6d1XrooXv15ZefKigoyKqyLWX7k9wBAICzVKtWTeXLX6tTpz6X1PPcUq88ni9Vr17hnv7ucrk0YsQIjRgxwrI6ixIzWAAAwFLly5fXqFEPyzD+LulPkubJMHrK692qxx9/zO7yigUzWAAAwHLPP/+8AgIC9Oqr05SR8bLq12+iKVPeU8eOHW2p58iRI/rss88UHBysTp06FfmXQTODBQAALOfxePTss88qNfWIMjIytG3bD4qOjrallqlTp6pGjTDdeeed6tKlixo0aFKouxkLgoAFAACKjNvtVsWKFWUYxuU3LgJr167VE088oZychyWlSPpMSUmG7rrrHhXll9kQsAAAgCVM0yzS0FIYc+bMkcfTQNJLksIkdZDX+4q2bPlemzdvLrL9ErAAAMBV2b9/v37/+/tUvnwFVahQUbGxQ3T06FG7y5IknTx5Uj5fFf3yuAhJqipJOnHiRJHtl4AFAAAKLSsrS507d9PChR8rK2usTp16UnPmfKDf/e52+Xw+u8vT7bffLp/vC0krzi05LWmiKleuqtatWxfZfglYAACg0N577z3t2rVdXu9/JY2V9LS83sXatGmjVq1aZXd5uu+++3TrrbdL6iGP53p5PGFyu5forbdmKiAgoMj2y2MaAABAoW3fvl0eT4hycppdsPQmGYZH27dvV/fu3W2rTZL8/Pz00UdL9f7772v16tUKDg7WoEGD1LBh4R54eqUIWAAAoNCaNWumnJzDkr6S1Pbc0v/KNHPUtGlTGyv7hcfjUb9+/dSvX7/i22ex7QkAADhO79691bRpS/344+3yeodIypbbHa927Trr5ptvtrs823ANFgAAKDQ/Pz+tWbNKw4ffq2rV3tZ11yXokUeGafnyD2179lVJwAwWAAC4KlWqVNH06dM1ffp0u0spMZjBAgAAsBgBqwhkZWVp0qRJysrKsrsUXAX66Bz00jnopXM4vZeGadMz7TMyMhQUFKT09HQFBgbaUUKRcfJnK0voo3PQS+egl87h9F4ygwUAAGAxAhYAAIDFbLuL8PyZyYyMDLtKKDLnP5MTP1tZQh+dg146B710Dif2smLFirmPprDtGqy9e/cqPDzcjl0DAABY7sLryWwLWD6fT/v378+T9gAAAEqrEjGDBQAA4FRc5A4AAGAxAhYAAIDFCFhXYefOnerQoYMaNGigNm3aaMuWLfluFx8fr/r166tu3boaOnSosrOzi7lSXMrp06fVt29fNWjQQC1atNCtt96qxMTEi7ZLSkqS2+1Wy5Ytc3927dplQ8X4LZGRkWrYsGFujxYsWJDvdhyTJdvRo0fzHGsNGjSQx+NRampqnu04Lkum0aNHKzIyUoZhaNOmTbnLr/R3puSQY9REoXXt2tWcPXu2aZqm+e6775qtW7e+aJvdu3eboaGh5oEDB0yfz2f27t3bnDZtWjFXiks5deqUuWzZMtPn85mmaZqvv/662aVLl4u227NnjxkUFFTM1aGgatWqZX733Xe/uQ3HZOkzZcoUs1evXhct57gsmdauXWumpKRcdDxeye9M03TOMcoMViEdPnxYGzdu1MCBAyVJMTExSklJuWj2Y9GiRYqOjlb16tVlGIZGjBih+fPn21Ey8lGuXDn17Nkz966Pdu3aKSkpyd6iUKQ4Jkuf+Ph4DRkyxO4ycIU6d+6ssLCwPMuu9Hem5JxjlIBVSCkpKQoNDZXHc/ZZrYZhKCIiQsnJyXm2S05OVq1atXJfR0ZGXrQNSo5XX31Vffr0yXfdyZMn1aZNG7Vq1UrPPvusvF5vMVeHKzFo0CA1a9ZMQ4YM0ZEjRy5azzFZunz++edKS0tTr1698l3PcVk6XOnvTMk5xygBCzhn4sSJSkxM1AsvvHDRutDQUO3bt09ff/21Vq1apfXr12vq1Kk2VInfsm7dOm3evFnffvutqlatqsGDB9tdEq5SfHy8Bg0alPuL+UIclyjJCFiFFB4ergMHDignJ0fS2a/+SU5OVkRERJ7tIiIi9NNPP+W+TkpKumgb2O/FF1/U4sWLtXz5cl1zzTUXrQ8ICFBISIgkKTg4WLGxsVq/fn1xl4nLOH9s+fn56dFHH823RxyTpceJEye0cOFCxcbG5rue47L0uNLfmZJzjlECViGFhISoVatWmjdvniQpISFBYWFhqlevXp7tYmJitGTJEh08eFCmaWrmzJkaMGCAHSXjEl566SXNnz9fK1euVKVKlfLd5vDhw7l3sWRlZWnx4sWKiooqzjJxGSdPntSxY8dyX8+fPz/fHnFMlh4LFixQixYt1KhRo3zXc1yWHlf6O1Ny0DFq6yX2pdy2bdvMdu3amfXr1zdvuOEGc/PmzaZpmuaQIUPMDz74IHe7WbNmmXXq1DHr1KljxsbGmmfOnLGrZPxKSkqKKcmsU6eO2aJFC7NFixZm27ZtTdM0zXHjxplvvPGGaZqmmZCQYF5//fVm8+bNzSZNmpgjR440T58+bWfp+JVdu3aZLVu2NJs1a2Y2bdrUjI6ONvfs2WOaJsdkadW+fXvzn//8Z55lHJcl37Bhw8yaNWuabrfbDAkJMevWrWua5qV/Z5qmM49RvioHAADAYpwiBAAAsBgBCwAAwGIELAAAAIv9PxkdgpbF174EAAAAAElFTkSuQmCC\" />"
      ]
     },
     "execution_count": 15,
     "metadata": {},
     "output_type": "execute_result"
    }
   ],
   "source": [
    "mcols = [:red, :blue, :green, :orange]\n",
    "scatter(X[:,1],X[:,2], markercolor=mcols[Y], leg=false)"
   ]
  },
  {
   "cell_type": "code",
   "execution_count": 16,
   "metadata": {},
   "outputs": [
    {
     "data": {
      "text/html": [
       "<img src=\"data:image/png;base64,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\" />"
      ]
     },
     "execution_count": 16,
     "metadata": {},
     "output_type": "execute_result"
    }
   ],
   "source": [
    "mcols = [:red, :blue, :green, :orange]\n",
    "scatter(Xnor[:,1],Xnor[:,2], markercolor=mcols[Y], leg=false)"
   ]
  },
  {
   "cell_type": "code",
   "execution_count": 17,
   "metadata": {},
   "outputs": [
    {
     "name": "stdout",
     "output_type": "stream",
     "text": [
      "Academic license - for non-commercial use only\n",
      " 15.135686 seconds (813.79 k allocations: 44.522 MiB, 0.23% gc time)\n",
      "Status = Optimal\n",
      " 35.785760 seconds (12.40 M allocations: 544.400 MiB, 2.12% gc time)\n"
     ]
    }
   ],
   "source": [
    "c_p = 0.1\n",
    "max_depth = 2\n",
    "K = 4\n",
    "srand(1235)\n",
    "@time result = ClusterTree(Xnor,c_p,max_depth,K);"
   ]
  },
  {
   "cell_type": "markdown",
   "metadata": {},
   "source": [
    "## See Sample Warm Starts"
   ]
  },
  {
   "cell_type": "code",
   "execution_count": 19,
   "metadata": {},
   "outputs": [
    {
     "ename": "LoadError",
     "evalue": "\u001b[91mMethodError: no method matching loss_normalization_factor(::Array{Float64,2})\u001b[0m\nClosest candidates are:\n  loss_normalization_factor(::Any, \u001b[91m::Any\u001b[39m) at In[10]:2\u001b[39m",
     "output_type": "error",
     "traceback": [
      "\u001b[91mMethodError: no method matching loss_normalization_factor(::Array{Float64,2})\u001b[0m\nClosest candidates are:\n  loss_normalization_factor(::Any, \u001b[91m::Any\u001b[39m) at In[10]:2\u001b[39m",
      "",
      "Stacktrace:",
      " [1] \u001b[1minclude_string\u001b[22m\u001b[22m\u001b[1m(\u001b[22m\u001b[22m::String, ::String\u001b[1m)\u001b[22m\u001b[22m at \u001b[1m./loading.jl:522\u001b[22m\u001b[22m"
     ]
    }
   ],
   "source": [
    "c_p = 0.1\n",
    "max_depth = 3\n",
    "K = 4\n",
    "m_p = true\n",
    "N_min=2\n",
    "local_sparsity = 1\n",
    "warm_start = true\n",
    "Ω = loss_normalization_factor(Xnor)\n",
    "srand(1235)\n",
    "criterion = :L2\n",
    "@time starts = warmstart(Xnor,K,N_min,max_depth, m_p, c_p, Ω, local_sparsity, criterion, warm_start);"
   ]
  },
  {
   "cell_type": "code",
   "execution_count": 20,
   "metadata": {},
   "outputs": [
    {
     "ename": "LoadError",
     "evalue": "\u001b[91mBoundsError: attempt to access 3×2 Array{Float64,2} at index [4, 2]\u001b[39m",
     "output_type": "error",
     "traceback": [
      "\u001b[91mBoundsError: attempt to access 3×2 Array{Float64,2} at index [4, 2]\u001b[39m",
      "",
      "Stacktrace:",
      " [1] \u001b[1mgetindex\u001b[22m\u001b[22m\u001b[1m(\u001b[22m\u001b[22m::Array{Float64,2}, ::Int64, ::Int64\u001b[1m)\u001b[22m\u001b[22m at \u001b[1m./array.jl:555\u001b[22m\u001b[22m",
      " [2] \u001b[1mplot_cluster_tree\u001b[22m\u001b[22m\u001b[1m(\u001b[22m\u001b[22m::Dict{String,Any}, ::Int64\u001b[1m)\u001b[22m\u001b[22m at \u001b[1m./In[14]:48\u001b[22m\u001b[22m",
      " [3] \u001b[1minclude_string\u001b[22m\u001b[22m\u001b[1m(\u001b[22m\u001b[22m::String, ::String\u001b[1m)\u001b[22m\u001b[22m at \u001b[1m./loading.jl:522\u001b[22m\u001b[22m"
     ]
    }
   ],
   "source": [
    "plot_cluster_tree(starts,max_depth)"
   ]
  },
  {
   "cell_type": "code",
   "execution_count": 21,
   "metadata": {},
   "outputs": [
    {
     "ename": "LoadError",
     "evalue": "\u001b[91mUndefVarError: showtree not defined\u001b[39m",
     "output_type": "error",
     "traceback": [
      "\u001b[91mUndefVarError: showtree not defined\u001b[39m",
      "",
      "Stacktrace:",
      " [1] \u001b[1minclude_string\u001b[22m\u001b[22m\u001b[1m(\u001b[22m\u001b[22m::String, ::String\u001b[1m)\u001b[22m\u001b[22m at \u001b[1m./loading.jl:522\u001b[22m\u001b[22m"
     ]
    }
   ],
   "source": [
    "showtree(starts[\"tree\"])"
   ]
  },
  {
   "cell_type": "markdown",
   "metadata": {},
   "source": [
    "## Plot 2D Results"
   ]
  },
  {
   "cell_type": "code",
   "execution_count": 18,
   "metadata": {},
   "outputs": [
    {
     "data": {
      "text/html": [
       "<img src=\"data:image/png;base64,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\" />"
      ]
     },
     "execution_count": 18,
     "metadata": {},
     "output_type": "execute_result"
    },
    {
     "name": "stderr",
     "output_type": "stream",
     "text": [
      "\u001b[1m\u001b[33mWARNING: \u001b[39m\u001b[22m\u001b[33mVectors of markers are currently unsupported in PyPlot: Symbol[:star7]\u001b[39m\n"
     ]
    }
   ],
   "source": [
    "plot_cluster_tree(result,max_depth)"
   ]
  },
  {
   "cell_type": "code",
   "execution_count": 19,
   "metadata": {},
   "outputs": [
    {
     "data": {
      "text/html": [
       "<img src=\"data:image/png;base64,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\" />"
      ]
     },
     "execution_count": 19,
     "metadata": {},
     "output_type": "execute_result"
    },
    {
     "name": "stderr",
     "output_type": "stream",
     "text": [
      "\u001b[1m\u001b[33mWARNING: \u001b[39m\u001b[22m\u001b[33mVectors of markers are currently unsupported in PyPlot: Symbol[:star7]\u001b[39m\n"
     ]
    }
   ],
   "source": [
    "plot_cluster_tree(starts,max_depth)"
   ]
  },
  {
   "cell_type": "code",
   "execution_count": 20,
   "metadata": {},
   "outputs": [
    {
     "name": "stdout",
     "output_type": "stream",
     "text": [
      "  1.347487 seconds (327.09 k allocations: 16.151 MiB)\n"
     ]
    },
    {
     "data": {
      "text/html": [
       "<img src=\"data:image/png;base64,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\" />"
      ]
     },
     "execution_count": 20,
     "metadata": {},
     "output_type": "execute_result"
    },
    {
     "name": "stderr",
     "output_type": "stream",
     "text": [
      "\u001b[1m\u001b[33mWARNING: \u001b[39m\u001b[22m\u001b[33mVectors of markers are currently unsupported in PyPlot: Symbol[:star7]\u001b[39m\n"
     ]
    }
   ],
   "source": [
    "@time kmeans_clusters = kmeans(Xnor',K)\n",
    "mcols = [:red, :blue, :green, :orange, :pink, :yellow]\n",
    "scatter(Xnor[:,1],Xnor[:,2], markercolor=mcols[assignments(kmeans_clusters)], leg=false)\n",
    "scatter!(kmeans_clusters.centers[1,:],kmeans_clusters.centers[2,:], markercolor=mcols, m=[:star7], markersize = 10)"
   ]
  },
  {
   "cell_type": "markdown",
   "metadata": {},
   "source": [
    "## Visualize tree"
   ]
  },
  {
   "cell_type": "code",
   "execution_count": 21,
   "metadata": {
    "collapsed": true
   },
   "outputs": [],
   "source": [
    "using GraphViz"
   ]
  },
  {
   "cell_type": "code",
   "execution_count": 22,
   "metadata": {},
   "outputs": [
    {
     "data": {
      "text/plain": [
       "leaf_label_string (generic function with 1 method)"
      ]
     },
     "execution_count": 22,
     "metadata": {},
     "output_type": "execute_result"
    }
   ],
   "source": [
    "function find_nonzero_nodes(tree)\n",
    "    n = tree[\"branches\"][end]\n",
    "    b = tree[\"b\"]\n",
    "    nonzeros = Int64[]\n",
    "    zeros = Int64[]\n",
    "    for i = 1:n\n",
    "        if b[i] != 0\n",
    "            append!(nonzeros,i)\n",
    "        else\n",
    "            append!(zeros, i)\n",
    "        end\n",
    "    end\n",
    "    return(Dict(\"nonzeros\" => nonzeros, \"zeros\" => zeros))\n",
    "end\n",
    "\n",
    "function generate_edges(tree)\n",
    "    out = string()\n",
    "    cluster_indices = Int64[]\n",
    "    \n",
    "    branch_index_split = find_nonzero_nodes(tree)\n",
    "    non_zero = branch_index_split[\"nonzeros\"]\n",
    "    zero = branch_index_split[\"zeros\"]\n",
    "    \n",
    "    leaves = tree[\"leaves\"]\n",
    "    \n",
    "    dps = result[\"direct parent\"]\n",
    "    \n",
    "    # generate branches where there is a split\n",
    "    for i in non_zero\n",
    "        if i > 1\n",
    "            out = string(out, \"$(dps[i])\",\" -- \",i,\"; \")\n",
    "        end\n",
    "    end\n",
    "    \n",
    "    # add leaf node for branches that were set to 0, also track what's a true leaf\n",
    "    for i in zero\n",
    "        if i > 1 && dps[i] in non_zero\n",
    "            out = string(out, \"$(dps[i])\",\" -- \",i,\"; \")\n",
    "            append!(cluster_indices, i)\n",
    "        end\n",
    "    end\n",
    "    \n",
    "    # add leaf node for true leaves\n",
    "    for i in leaves\n",
    "        if i > 1 && dps[i] in non_zero\n",
    "            out = string(out, \"$(dps[i])\",\" -- \",i,\"; \")\n",
    "            append!(cluster_indices, i)\n",
    "        end\n",
    "    end\n",
    "    \n",
    "    return(Dict(\"edge text\" => out, \"clusters\" => cluster_indices))\n",
    "end\n",
    "\n",
    "function get_branch_label(tree,i)\n",
    "    a = tree[\"a\"][:,:]'\n",
    "    b = round.(tree[\"b\"][:],2)\n",
    "    n, p = size(a)\n",
    "    str = string(\"\"\"[label = \" \"\"\")\n",
    "    first_label = true\n",
    "    \n",
    "    for j = 1:p\n",
    "        if a[i,j] != 0\n",
    "            if first_label == true\n",
    "                if a[i,j] == 1\n",
    "                    str = string(str,\"x$(j)\")\n",
    "                else\n",
    "                    str = string(str,\"$(a[i,j])\",\"x$(j)\")\n",
    "                end\n",
    "                first_label = false\n",
    "            else\n",
    "                if a[i,j] == 1\n",
    "                    str = string(str,\" + \",\"x$(j)\")\n",
    "                else\n",
    "                    str = string(str,\" + \",\"$(a[i,j])\",\"x$(j)\")\n",
    "                end\n",
    "            end\n",
    "        end\n",
    "    end\n",
    "    str = string(str, \"\"\" < $(b[i])\"]\"\"\")\n",
    "    return(str)\n",
    "end\n",
    "\n",
    "function branch_label_string(tree)\n",
    "    branch_index_split = find_nonzero_nodes(tree)\n",
    "    non_zero = branch_index_split[\"nonzeros\"]\n",
    "    result = string()\n",
    "    for i in non_zero\n",
    "        label = get_branch_label(tree,i)\n",
    "        result = string(result, \"$(i) \", label,\"; \")\n",
    "    end\n",
    "    return(result)\n",
    "end\n",
    "\n",
    "function leaf_label_string(tree)\n",
    "    clusters =  generate_edges(result)[\"clusters\"]\n",
    "    str = string()\n",
    "    for i = 1:length(clusters)\n",
    "        str = string(str,\"\"\"$(clusters[i]) [label = \"Cluster $(i)\"]; \"\"\")\n",
    "    end\n",
    "    return(str)\n",
    "end"
   ]
  },
  {
   "cell_type": "code",
   "execution_count": 23,
   "metadata": {},
   "outputs": [
    {
     "data": {
      "image/svg+xml": [
       "<?xml version=\"1.0\" encoding=\"UTF-8\" standalone=\"no\"?>\n",
       "<!DOCTYPE svg PUBLIC \"-//W3C//DTD SVG 1.1//EN\"\n",
       " \"http://www.w3.org/Graphics/SVG/1.1/DTD/svg11.dtd\">\n",
       "<!-- Generated by graphviz version 2.40.1 (20161225.0304)\n",
       " -->\n",
       "<!-- Title: graphname Pages: 1 -->\n",
       "<svg width=\"405pt\" height=\"188pt\"\n",
       " viewBox=\"0.00 0.00 404.57 188.00\" xmlns=\"http://www.w3.org/2000/svg\" xmlns:xlink=\"http://www.w3.org/1999/xlink\">\n",
       "<g id=\"graph0\" class=\"graph\" transform=\"scale(1 1) rotate(0) translate(4 184)\">\n",
       "<title>graphname</title>\n",
       "<polygon fill=\"#ffffff\" stroke=\"transparent\" points=\"-4,4 -4,-184 400.5706,-184 400.5706,4 -4,4\"/>\n",
       "<!-- 1 -->\n",
       "<g id=\"node1\" class=\"node\">\n",
       "<title>1</title>\n",
       "<ellipse fill=\"none\" stroke=\"#000000\" cx=\"198.2853\" cy=\"-162\" rx=\"46.0928\" ry=\"18\"/>\n",
       "<text text-anchor=\"middle\" x=\"198.2853\" y=\"-157.8\" font-family=\"Times,serif\" font-size=\"14.00\" fill=\"#000000\"> x1 &lt; 0.33</text>\n",
       "</g>\n",
       "<!-- 2 -->\n",
       "<g id=\"node2\" class=\"node\">\n",
       "<title>2</title>\n",
       "<ellipse fill=\"none\" stroke=\"#000000\" cx=\"143.2853\" cy=\"-90\" rx=\"46.0928\" ry=\"18\"/>\n",
       "<text text-anchor=\"middle\" x=\"143.2853\" y=\"-85.8\" font-family=\"Times,serif\" font-size=\"14.00\" fill=\"#000000\"> x2 &lt; 0.51</text>\n",
       "</g>\n",
       "<!-- 1&#45;&#45;2 -->\n",
       "<g id=\"edge1\" class=\"edge\">\n",
       "<title>1&#45;&#45;2</title>\n",
       "<path fill=\"none\" stroke=\"#000000\" d=\"M184.9713,-144.5708C176.324,-133.2506 165.0995,-118.5568 156.4766,-107.2687\"/>\n",
       "</g>\n",
       "<!-- 3 -->\n",
       "<g id=\"node3\" class=\"node\">\n",
       "<title>3</title>\n",
       "<ellipse fill=\"none\" stroke=\"#000000\" cx=\"253.2853\" cy=\"-90\" rx=\"46.0928\" ry=\"18\"/>\n",
       "<text text-anchor=\"middle\" x=\"253.2853\" y=\"-85.8\" font-family=\"Times,serif\" font-size=\"14.00\" fill=\"#000000\"> x1 &lt; 0.71</text>\n",
       "</g>\n",
       "<!-- 1&#45;&#45;3 -->\n",
       "<g id=\"edge2\" class=\"edge\">\n",
       "<title>1&#45;&#45;3</title>\n",
       "<path fill=\"none\" stroke=\"#000000\" d=\"M211.5993,-144.5708C220.2466,-133.2506 231.4711,-118.5568 240.0939,-107.2687\"/>\n",
       "</g>\n",
       "<!-- 4 -->\n",
       "<g id=\"node4\" class=\"node\">\n",
       "<title>4</title>\n",
       "<ellipse fill=\"none\" stroke=\"#000000\" cx=\"42.2853\" cy=\"-18\" rx=\"42.0717\" ry=\"18\"/>\n",
       "<text text-anchor=\"middle\" x=\"42.2853\" y=\"-13.8\" font-family=\"Times,serif\" font-size=\"14.00\" fill=\"#000000\">Cluster 1</text>\n",
       "</g>\n",
       "<!-- 2&#45;&#45;4 -->\n",
       "<g id=\"edge3\" class=\"edge\">\n",
       "<title>2&#45;&#45;4</title>\n",
       "<path fill=\"none\" stroke=\"#000000\" d=\"M120.8701,-74.0209C104.0165,-62.0064 81.0436,-45.6297 64.2903,-33.6867\"/>\n",
       "</g>\n",
       "<!-- 5 -->\n",
       "<g id=\"node5\" class=\"node\">\n",
       "<title>5</title>\n",
       "<ellipse fill=\"none\" stroke=\"#000000\" cx=\"145.2853\" cy=\"-18\" rx=\"42.0717\" ry=\"18\"/>\n",
       "<text text-anchor=\"middle\" x=\"145.2853\" y=\"-13.8\" font-family=\"Times,serif\" font-size=\"14.00\" fill=\"#000000\">Cluster 2</text>\n",
       "</g>\n",
       "<!-- 2&#45;&#45;5 -->\n",
       "<g id=\"edge4\" class=\"edge\">\n",
       "<title>2&#45;&#45;5</title>\n",
       "<path fill=\"none\" stroke=\"#000000\" d=\"M143.79,-71.8314C144.0908,-61 144.4717,-47.2876 144.7738,-36.4133\"/>\n",
       "</g>\n",
       "<!-- 6 -->\n",
       "<g id=\"node6\" class=\"node\">\n",
       "<title>6</title>\n",
       "<ellipse fill=\"none\" stroke=\"#000000\" cx=\"251.2853\" cy=\"-18\" rx=\"42.0717\" ry=\"18\"/>\n",
       "<text text-anchor=\"middle\" x=\"251.2853\" y=\"-13.8\" font-family=\"Times,serif\" font-size=\"14.00\" fill=\"#000000\">Cluster 3</text>\n",
       "</g>\n",
       "<!-- 3&#45;&#45;6 -->\n",
       "<g id=\"edge5\" class=\"edge\">\n",
       "<title>3&#45;&#45;6</title>\n",
       "<path fill=\"none\" stroke=\"#000000\" d=\"M252.7806,-71.8314C252.4797,-61 252.0988,-47.2876 251.7968,-36.4133\"/>\n",
       "</g>\n",
       "<!-- 7 -->\n",
       "<g id=\"node7\" class=\"node\">\n",
       "<title>7</title>\n",
       "<ellipse fill=\"none\" stroke=\"#000000\" cx=\"354.2853\" cy=\"-18\" rx=\"42.0717\" ry=\"18\"/>\n",
       "<text text-anchor=\"middle\" x=\"354.2853\" y=\"-13.8\" font-family=\"Times,serif\" font-size=\"14.00\" fill=\"#000000\">Cluster 4</text>\n",
       "</g>\n",
       "<!-- 3&#45;&#45;7 -->\n",
       "<g id=\"edge6\" class=\"edge\">\n",
       "<title>3&#45;&#45;7</title>\n",
       "<path fill=\"none\" stroke=\"#000000\" d=\"M275.7005,-74.0209C292.5541,-62.0064 315.527,-45.6297 332.2803,-33.6867\"/>\n",
       "</g>\n",
       "</g>\n",
       "</svg>\n"
      ],
      "text/plain": [
       "GraphViz.Graph(Ptr{Void} @0x00007fe36d78c970, true)"
      ]
     },
     "execution_count": 23,
     "metadata": {},
     "output_type": "execute_result"
    }
   ],
   "source": [
    "edge_text = generate_edges(result)[\"edge text\"]\n",
    "label_text = branch_label_string(result)\n",
    "leaf_text = leaf_label_string(result)\n",
    "g = Graph(\"\"\"\n",
    "graph graphname {\n",
    "    $(label_text)\n",
    "    $(edge_text) \n",
    "    $(leaf_text)\n",
    " }\n",
    "\"\"\")\n",
    "\n",
    "\n",
    "GraphViz.layout!(g; engine=\"dot\")\n",
    "g"
   ]
  },
  {
   "cell_type": "markdown",
   "metadata": {},
   "source": [
    "## Evaluation"
   ]
  },
  {
   "cell_type": "code",
   "execution_count": null,
   "metadata": {},
   "outputs": [],
   "source": [
    "c_p = 0.1\n",
    "max_depth = 2\n",
    "K = 4\n",
    "\n",
    "function evaluate_cluster_trees(X, y, K, depth; c_p = 0.1, seed = 1235)\n",
    "    \n",
    "    if K > 2^(depth - 1)\n",
    "        throw(ArgumentError(\"number of clusters is incompatible with the depth\"))\n",
    "    end\n",
    "    \n",
    "    srand(seed)\n",
    "    tree = ClusterTree(X,c_p,max_depth,K);\n",
    "end\n",
    "\n"
   ]
  },
  {
   "cell_type": "code",
   "execution_count": null,
   "metadata": {},
   "outputs": [],
   "source": [
    "function cluster_accuracy(tree, y)\n",
    "    tree_assignments = get_cluster_assignments(tree)\n",
    "    n_clusters = length(unique(y))\n",
    "    n_points = length(tree_assignments)\n",
    "    \n",
    "end"
   ]
  },
  {
   "cell_type": "code",
   "execution_count": 39,
   "metadata": {},
   "outputs": [
    {
     "data": {
      "text/plain": [
       "40"
      ]
     },
     "execution_count": 39,
     "metadata": {},
     "output_type": "execute_result"
    }
   ],
   "source": [
    "length(get_cluster_assignments(result))"
   ]
  },
  {
   "cell_type": "code",
   "execution_count": 30,
   "metadata": {},
   "outputs": [
    {
     "data": {
      "text/plain": [
       "2-element Array{Set{Int64},1}:\n",
       " Set([7, 4, 2, 3, 5, 6, 1])\n",
       " Set([2, 3, 1])            "
      ]
     },
     "execution_count": 30,
     "metadata": {},
     "output_type": "execute_result"
    }
   ],
   "source": [
    "[Set(1:7),Set(1:3)]"
   ]
  },
  {
   "cell_type": "code",
   "execution_count": null,
   "metadata": {},
   "outputs": [],
   "source": []
  }
 ],
 "metadata": {
  "kernelspec": {
   "display_name": "Julia 0.6.2",
   "language": "julia",
   "name": "julia-0.6"
  },
  "language_info": {
   "file_extension": ".jl",
   "mimetype": "application/julia",
   "name": "julia",
   "version": "0.6.2"
  }
 },
 "nbformat": 4,
 "nbformat_minor": 2
}
