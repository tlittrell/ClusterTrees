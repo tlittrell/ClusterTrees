{
 "cells": [
  {
   "cell_type": "code",
   "execution_count": null,
   "metadata": {
    "collapsed": true
   },
   "outputs": [],
   "source": [
    "using JuMP, Gurobi, GLM, DataFrames"
   ]
  },
  {
   "cell_type": "code",
   "execution_count": null,
   "metadata": {
    "collapsed": true
   },
   "outputs": [],
   "source": [
    "using Plots"
   ]
  },
  {
   "cell_type": "code",
   "execution_count": null,
   "metadata": {
    "collapsed": true
   },
   "outputs": [],
   "source": [
    "using Clustering"
   ]
  },
  {
   "cell_type": "code",
   "execution_count": 1,
   "metadata": {},
   "outputs": [
    {
     "ename": "LoadError",
     "evalue": "\u001b[91mUndefVarError: @variable not defined\u001b[39m",
     "output_type": "error",
     "traceback": [
      "\u001b[91mUndefVarError: @variable not defined\u001b[39m",
      "",
      "Stacktrace:",
      " [1] \u001b[1minclude_string\u001b[22m\u001b[22m\u001b[1m(\u001b[22m\u001b[22m::String, ::String\u001b[1m)\u001b[22m\u001b[22m at \u001b[1m/Applications/Julia-0.6.app/Contents/Resources/julia/lib/julia/sys.dylib:?\u001b[22m\u001b[22m"
     ]
    }
   ],
   "source": [
    "function D2ClusterTree(X)\n",
    "    c = 2 # number of clusters\n",
    "    d = 2 # Tree depth\n",
    "    T = 2^(d-1) # Number of leaves\n",
    "    N = 2^d - 1 # Number of Nodes total (including leaves)\n",
    "    H = 2^(d-1) - 1 # Number of hyperplanes\n",
    "    Ti = N-T+1  # first enumerated leaf\n",
    "    Tf = N      # last enumerated leaf\n",
    "    \n",
    "    Msplit = 2\n",
    "    Ms = maximum(abs.(X),1)\n",
    "    n,p = size(X)\n",
    "    \n",
    "    m = Model(solver = GurobiSolver(OutputFlag=0))\n",
    "\n",
    "    @variable(m, L_ijt[i=1:n,j=1:p,t=Ti:Tf] >=0) # Contribution loss of obs i to leaf t, feature j\n",
    "    @variable(m, μ_jt[j=1:p,t=Ti:Tf]) # Mean of leaf t, feature j\n",
    "    @variable(m, z[i=1:n,t=Ti:Tf],Bin) # = 1 if obs. i ends in leaf t\n",
    "    @variable(m, a[j=1:p]) # Hyperplane values\n",
    "    @variable(m, b >= 0) # Hyperplane bias\n",
    "\n",
    "\n",
    "\n",
    "    @constraint(m, LeafLoss1[i=1:n, j=1:p, t = Ti:Tf], \n",
    "        L_ijt[i,j,t] >= z[i,t]*X[i,j]-μ_jt[j,t]-Ms[j]*(1-z[i,t]))\n",
    "    @constraint(m, LeafLoss2[i=1:n, j=1:p, t = Ti:Tf], \n",
    "        L_ijt[i,j,t] >= μ_jt[j,t] - z[i,t]*X[i,j]-Ms[j]*(1-z[i,t]))\n",
    "    \n",
    "    @constraint(m, bConst, b <= 1)\n",
    "\n",
    "    @constraint(m, Split1[i=1:n], \n",
    "        sum(a[j]*X[i,j] for j = 1:p) <= b + Msplit*(1-z[i,2]))\n",
    "\n",
    "    @constraint(m, Split2[i=1:n], \n",
    "        sum(a[j]*X[i,j] for j = 1:p) >= b - Msplit*(1-z[i,3]))\n",
    "\n",
    "    @constraint(m, norm(a) <= 1)\n",
    "    @constraint(m, zConst[i=1:n], \n",
    "        sum(z[i,t] for t = Ti:Tf) == 1)\n",
    "    \n",
    "    \n",
    "    @objective(m, Min, sum(L_ijt[i,j,t] for i=1:n, j=1:p, t=Ti:Tf));\n",
    "\n",
    "    status = solve(m)\n",
    "    println(\"Status = \", status)\n",
    "    z_soln = getvalue(z)\n",
    "    μ_soln = getvalue(μ_jt)\n",
    "    a_soln = getvalue(a)\n",
    "    b_soln = getvalue(b)\n",
    "    obj = getobjectivevalue(m)\n",
    "    z_soln, μ_soln, a_soln, b_soln, obj\n",
    "end;"
   ]
  },
  {
   "cell_type": "code",
   "execution_count": null,
   "metadata": {
    "collapsed": true
   },
   "outputs": [],
   "source": [
    "n1 = 30\n",
    "μ1 = [10,10]\n",
    "σ1 = (1/0.9)\n",
    "x1 = (μ1.+σ1*randn(n1,2)')'\n",
    "y1 = ones(Int, n1,1)\n",
    "\n",
    "n2 = 30\n",
    "μ2 = [0,0]\n",
    "σ2 = (1/0.15)\n",
    "x2 = (μ2.+σ2*randn(n2,2)')'\n",
    "y2 = zeros(Int,n2,1)\n",
    "\n",
    "X = [x1;x2]\n",
    "Y = [y1;y2];"
   ]
  },
  {
   "cell_type": "code",
   "execution_count": null,
   "metadata": {
    "collapsed": true
   },
   "outputs": [],
   "source": [
    "Xm = X .- mean(X,1)\n",
    "Xnor = Xm./std(Xm,1);"
   ]
  },
  {
   "cell_type": "code",
   "execution_count": null,
   "metadata": {
    "collapsed": true
   },
   "outputs": [],
   "source": [
    "mcols = [:red, :blue]\n",
    "scatter(Xnor[:,1],Xnor[:,2], markercolor=mcols[Y+1])"
   ]
  },
  {
   "cell_type": "code",
   "execution_count": null,
   "metadata": {
    "collapsed": true
   },
   "outputs": [],
   "source": [
    "@time z_soln, μ_soln, a_soln, b_soln, obj = D2ClusterTree(Xnor);"
   ]
  },
  {
   "cell_type": "code",
   "execution_count": null,
   "metadata": {
    "collapsed": true
   },
   "outputs": [],
   "source": [
    "mcols = [:red, :blue]\n",
    "scatter(Xnor[:,1],Xnor[:,2], markercolor=mcols[convert(Vector{Int},z_soln[:,2]+1)])"
   ]
  },
  {
   "cell_type": "code",
   "execution_count": null,
   "metadata": {
    "collapsed": true
   },
   "outputs": [],
   "source": [
    "wstart = kmeans(Xnor',2).assignments-1;\n",
    "mcols = [:red, :blue]\n",
    "scatter(Xnor[:,1],Xnor[:,2], markercolor=mcols[wstart+1])"
   ]
  }
 ],
 "metadata": {
  "kernelspec": {
   "display_name": "Julia 0.6.2",
   "language": "julia",
   "name": "julia-0.6"
  },
  "language_info": {
   "file_extension": ".jl",
   "mimetype": "application/julia",
   "name": "julia",
   "version": "0.6.2"
  }
 },
 "nbformat": 4,
 "nbformat_minor": 2
}
