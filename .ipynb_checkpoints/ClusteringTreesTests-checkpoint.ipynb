{
 "cells": [
  {
   "cell_type": "markdown",
   "metadata": {},
   "source": [
    "## The model\n",
    "\n",
    "#### Parameters and pre-computed values\n",
    "Our formulation uses the following parameters, which are input into the function or pre-computed:\n",
    "* $N$ the number of nodes, which is determined by the depth of a tree\n",
    "* $P_t^L$ the set of left parents for leaf $t$. Only defined for the leaves.\n",
    "* $P_t^R$ the set of right parents for leaf $t$. Only defined for the leaves.\n",
    "* $P_m^d$ the single direct parent node for a given node $m$. Defined for every node except the root for which it is null.\n",
    "* $C_m^L$ the set of all left child nodes for a given node $m$. In the code we only ever care about the intersection of this with the set of leaf nodes.\n",
    "* $C_m^R$ the set of all right child nodes for a given node $m$. In the code we only ever care about the intersection of this with the set of leaf nodes.\n",
    "* $B$ the set of branch (interior i.e. not leaf) nodes\n",
    "* $L$ the set of leaf nodes\n",
    "* $X \\in \\mathbb{R}^{n \\times p}$ the data\n",
    "* $l_s \\in \\{1,...,p\\}$ the local sparsity parameter used to generate constraints\n",
    "* $m_p \\in \\{0,1\\}$ the Boolean specifying whether the formulation should consider margin\n",
    "* $c_p$ the complexity parameter\n",
    "* $K$ the number of clusters\n",
    "* $\\Omega$ the loss normalization factor defined as the loss from assigning all points to one cluster.\n",
    "\n",
    "#### Model variables\n",
    "* $a_{j,m}$ for $j \\in \\{1,...,p\\}$ and $m \\in B$ is the hyperplane coefficient for the $j$th variable at branch $m$\n",
    "* $\\hat{a}_{j,m}$ for $j \\in \\{1,...,p\\}$ and $m \\in B$ is the absolute value of $a$\n",
    "* $b_m$ for $m \\in B$ is the offset for the hyperplane at that split\n",
    "* $z_{i,t} \\in \\{0,1\\}$ denotes whether point $i$ is assigned to leaf $t$\n",
    "* $\\delta_{i,m}$ is the relative distance of observation $i$ from hyperplane $m$ \n",
    "* $\\eta_m \\leq 2$ is the margin for plane $m$. The constraint comes from normalizing the data.\n",
    "* $d_m \\in \\{0,1\\}$ determines whether hyperplane $m$ is included in the tree \n",
    "* $s_{j,m} \\in \\{0,1\\}$ for $j \\in \\{1,...,p\\}$ and $m \\in B$ determines whether feature $j$ is included in hyperplane $m$\n",
    "* $\\mu_{k,j}$ is the L1-centroid of the $j$th feature in cluster $k$\n",
    "* $\\beta_{t,j}$ for $t \\in L$ and $j \\in \\{1,...,p\\}$ is the model's predicted value for the $j$th feature which is constrained to be a centroid\n",
    "* $w_{k,t} \\in \\{0,1\\}$ for $k \\in \\{1,...,K\\}$ and $t \\in L$ determines whether leaf $t$ is assigned to cluster $k$\n",
    "* $f_{i,j}$ is the predicted value in the $j$th feature for point $i$ and is used to link the predicted values and centroids\n",
    "* $\\alpha_{t,j,k} \\geq 0$ for $t \\in L$, $j \\in \\{1,...,p\\}$, and $k \\in \\{1,...,K\\}$ is an auxiliary variable used to linearize $\\mu_{k,j} w_{k,t}$\n",
    "* $\\gamma_{t,j,i} \\geq 0$ for $t \\in L$, $j \\in \\{1,...,p\\}$, and point $i$ is an auxiliary variable used to linearize $\\beta_{t,j}z_{i,t}$\n",
    "* $\\psi_{i,j} \\geq 0$ is the loss in the $j$th feature for the $i$th point\n",
    "\n",
    "#### Constraints\n",
    "The following constraints are used to define the margin. The second and third constraint say that the margin is not affected by points that don't lie in a relevant leaf. In theory we would use the absolute value of distance in the second and third constraint but, because this has no upper bound and defines margin, which is substracted in the objective function, it leads to garbage solutions. Instead we use the knowledge that $\\delta_{i,m}$ is negative for all left children and positive for all right children. These rely on the upper bound on margin that was defined above.\n",
    "* $\\sum_{j=1}^p(a_{j,m}X_{i,j}) - b_m = \\delta_{i,m} \\qquad \\forall i=1,..,n; m \\in B$ defines the relative distance to the plane i.e. defines $\\delta_{i,m}$\n",
    "* $\\eta_m \\leq -\\delta_{i,m} + 2(1-z_{i,t}) \\qquad \\forall i;m,t \\in C_m^L$\n",
    "* $\\eta_m \\leq \\delta_{i,m} + 2(1-z_{i,t}) \\qquad \\forall i;m,t \\in C_m^R$\n",
    "\n",
    "The following constraints enforce all the hyperplane splits for each point in each leaf. \n",
    "* $-1 \\leq a_{j,m} \\leq 1$ for all $j;m \\in B$\n",
    "* $\\hat{a}_{j,m} \\geq a_{j,m}$ and $\\hat{a}_{j,m} \\geq - a_{j,m}$ for all $j;m$ defines the absolute value\n",
    "* $\\sum_{j=1}^p(a_{j,m}X_{i,j}) - b_m + \\epsilon \\leq (2+\\epsilon)(1-z_{i,t})$ for all $i;t \\in B;m \\in P_t^L$. This enforces the left branch splits.\n",
    "* $\\sum_{j=1}^p(a_{j,m}X_{i,j}) - b_m \\geq -2(1-z_{i,t})$ for all $i;t \\in B;m \\in P_t^R$. This enforces the right branch splits. \n",
    "\n",
    "Make sure each point is assigned to one leaf\n",
    "* $\\sum_{t \\in L} z_{i,j} = 1 \\forall i$\n",
    "\n",
    "Complexity constraints control the coefficients that can be used in a given hyperplan\n",
    "* $\\sum_{j=1}^p \\leq l_s \\forall m$ ensures that we don't use more features than allowed by the local sparsity parameter at each split $m$\n",
    "* $\\sum_{j=1}^p \\hat{a}_{j,m} \\leq d_m \\forall m$ forces all coefficents to 0 if the split isn't used\n",
    "* $-d_m \\leq b_m \\leq d_m \\forall m$ forces the offset to be 0 if a split isn't used\n",
    "* $-s_{j,m} \\leq a_{j,m} \\leq s_{j,m}$ for all $j,m$ forces $a$ to be 0 if the $j$th variable isn't used\n",
    "* $s_{j,m} \\leq d_m$ for all $j,m$ forces consistency between $d$ and $s$\n",
    "* $d_m \\leq d_{P_m^d}$ for all $m \\in B \\setminus \\{1\\}$ ensures that, if a split higher up in the tree is turned off, all splits below that are turned off\n",
    "\n",
    "Cluster constraints.  N.B. THIS CONSTRAINT IS WRONG\n",
    "* $\\beta_{t,j} \\leq d_{P_t^d}$ for all $t \\in L, j$\n",
    "\n",
    "Make sure that the prediction in each leaf is equal to the centroid of exactly one cluster\n",
    "* $\\alpha_{t,j,k} \\leq w_{k,t}$ for all $t \\in L, j \\in \\{1,...,p\\}, k \\in \\{1,..,K\\}$\n",
    "* $\\alpha_{t,j,k} \\leq \\mu_{k,j}$ for all $t \\in L, j \\in \\{1,...,p\\}, k \\in \\{1,..,K\\}$\n",
    "* $\\alpha_{t,j,k} \\geq \\mu_{k,j} - (1-w_{k,t})$ for all $t \\in L, j \\in \\{1,...,p\\}, k \\in \\{1,..,K\\}$\n",
    "* $\\sum_{k=1}^K w_{k,t} = 1$ for all $t \\in L$ ensures each leaf is assigned to one cluster\n",
    "* $\\beta_{j,t} = \\sum_{k=1}^K \\alpha_{t,j,k}$\n",
    "\n",
    "Connect the predictions to each point.\n",
    "* $f_{i,j} = \\sum_{t \\in L} \\gamma_{t,i,j}$ for all $i,j$\n",
    "* $\\gamma_{t,i,j} \\leq z_{i,t}$ for all $t \\in L,i,j$\n",
    "* $\\gamma_{t,i,j} \\leq \\beta_{t,j}$ for all $t \\in L,i,j$\n",
    "* $ \\gamma_{t,i,j} \\geq \\beta_{t,j} - (1-z_{i,t})$ for all $t \\in L,i,j$\n",
    "\n",
    "Define the loss as the L1 distance from a point to its assigned centroid\n",
    "* $\\psi_{i,j} \\geq f_{i,j} - X_{i,j}$ for all $i,j$\n",
    "* $\\psi_{i,j} \\geq -f_{i,j} + X_{i,j}$ for all $i,j$\n",
    "\n",
    "#### Objective function\n",
    "The objective function includes loss from distance to the centroid, complexity, and margin:\n",
    "$$ \\min \\frac{1}{\\Omega} \\sum_{i,j} \\psi_{i,j} + c_p \\sum_{j,m} s_{j,m} - \\frac{m_p}{\\Omega^2} \\sum_{m} \\eta_m $$"
   ]
  },
  {
   "cell_type": "code",
   "execution_count": 1,
   "metadata": {},
   "outputs": [],
   "source": [
    "include(\"ClustTreeOpt.jl\")\n",
    "include(\"ClustTreeViz.jl\")\n",
    "include(\"ClustTreeSynthData.jl\")\n",
    "include(\"ClustTreeEval.jl\");"
   ]
  },
  {
   "cell_type": "markdown",
   "metadata": {},
   "source": [
    "# Example"
   ]
  },
  {
   "cell_type": "code",
   "execution_count": 2,
   "metadata": {
    "collapsed": true
   },
   "outputs": [],
   "source": [
    "n = [10,10,10,10]\n",
    "μ = [[10,0],[0,0],[5,5],[10,10]]\n",
    "σ = [1/1, 1/1, 1/1, 1/1]\n",
    "X = create_synthetic_data(n,μ,σ,seed=1234)\n",
    "Y = synthetic_data_cluster_assignments(n);"
   ]
  },
  {
   "cell_type": "code",
   "execution_count": 3,
   "metadata": {},
   "outputs": [
    {
     "data": {
      "text/html": [
       "<img src=\"data:image/png;base64,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\" />"
      ]
     },
     "execution_count": 3,
     "metadata": {},
     "output_type": "execute_result"
    }
   ],
   "source": [
    "mcols = [:red, :blue, :green, :orange, :pink, :yellow];\n",
    "scatter(X[:,1],X[:,2], markercolor=mcols[Y], leg=false)"
   ]
  },
  {
   "cell_type": "code",
   "execution_count": 4,
   "metadata": {},
   "outputs": [
    {
     "name": "stdout",
     "output_type": "stream",
     "text": [
      "Academic license - for non-commercial use only\n",
      " 12.018785 seconds (774.30 k allocations: 42.382 MiB, 0.22% gc time)\n",
      "Status = Optimal\n",
      " 34.615902 seconds (13.99 M allocations: 616.688 MiB, 1.54% gc time)\n"
     ]
    }
   ],
   "source": [
    "c_p = 0.1\n",
    "max_depth = 2\n",
    "K = 4\n",
    "srand(1234)\n",
    "@time result, starts = ClusterTree(X,c_p,max_depth,K; warm_start = true);"
   ]
  },
  {
   "cell_type": "markdown",
   "metadata": {},
   "source": [
    "# Solution Viz"
   ]
  },
  {
   "cell_type": "code",
   "execution_count": 5,
   "metadata": {},
   "outputs": [
    {
     "data": {
      "text/html": [
       "<img src=\"data:image/png;base64,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\" />"
      ]
     },
     "execution_count": 5,
     "metadata": {},
     "output_type": "execute_result"
    },
    {
     "name": "stderr",
     "output_type": "stream",
     "text": [
      "\u001b[1m\u001b[33mWARNING: \u001b[39m\u001b[22m\u001b[33mVectors of markers are currently unsupported in PyPlot: Symbol[:star7]\u001b[39m\n"
     ]
    }
   ],
   "source": [
    "plot_cluster_tree(result,max_depth,X)"
   ]
  },
  {
   "cell_type": "code",
   "execution_count": 6,
   "metadata": {},
   "outputs": [
    {
     "data": {
      "image/svg+xml": [
       "<?xml version=\"1.0\" encoding=\"UTF-8\" standalone=\"no\"?>\n",
       "<!DOCTYPE svg PUBLIC \"-//W3C//DTD SVG 1.1//EN\"\n",
       " \"http://www.w3.org/Graphics/SVG/1.1/DTD/svg11.dtd\">\n",
       "<!-- Generated by graphviz version 2.40.1 (20161225.0304)\n",
       " -->\n",
       "<!-- Title: graphname Pages: 1 -->\n",
       "<svg width=\"586pt\" height=\"270pt\"\n",
       " viewBox=\"0.00 0.00 585.58 269.71\" xmlns=\"http://www.w3.org/2000/svg\" xmlns:xlink=\"http://www.w3.org/1999/xlink\">\n",
       "<g id=\"graph0\" class=\"graph\" transform=\"scale(1 1) rotate(0) translate(4 265.7107)\">\n",
       "<title>graphname</title>\n",
       "<polygon fill=\"#ffffff\" stroke=\"transparent\" points=\"-4,4 -4,-265.7107 581.5841,-265.7107 581.5841,4 -4,4\"/>\n",
       "<!-- 1 -->\n",
       "<g id=\"node1\" class=\"node\">\n",
       "<title>1</title>\n",
       "<polygon fill=\"#f0f0f0\" stroke=\"#000000\" points=\"334.6296,-261.7107 241.9545,-261.7107 241.9545,-209.7107 334.6296,-209.7107 334.6296,-261.7107\"/>\n",
       "<text text-anchor=\"middle\" x=\"288.2921\" y=\"-246.5107\" font-family=\"Times,serif\" font-size=\"14.00\" fill=\"#000000\"> x1 &lt; 6.79 </text>\n",
       "<text text-anchor=\"middle\" x=\"288.2921\" y=\"-216.5107\" font-family=\"Times,serif\" font-size=\"14.00\" fill=\"#000000\">Samples = 40</text>\n",
       "</g>\n",
       "<!-- 2 -->\n",
       "<g id=\"node2\" class=\"node\">\n",
       "<title>2</title>\n",
       "<polygon fill=\"#f0f0f0\" stroke=\"#000000\" points=\"260.6296,-159.7107 167.9545,-159.7107 167.9545,-107.7107 260.6296,-107.7107 260.6296,-159.7107\"/>\n",
       "<text text-anchor=\"middle\" x=\"214.2921\" y=\"-144.5107\" font-family=\"Times,serif\" font-size=\"14.00\" fill=\"#000000\"> x2 &lt; 2.39 </text>\n",
       "<text text-anchor=\"middle\" x=\"214.2921\" y=\"-114.5107\" font-family=\"Times,serif\" font-size=\"14.00\" fill=\"#000000\">Samples = 20</text>\n",
       "</g>\n",
       "<!-- 1&#45;&#45;2 -->\n",
       "<g id=\"edge1\" class=\"edge\">\n",
       "<title>1&#45;&#45;2</title>\n",
       "<path fill=\"none\" stroke=\"#000000\" d=\"M269.4273,-209.7079C260.2783,-197.0971 249.1639,-181.7773 239.3176,-168.2054\"/>\n",
       "<polygon fill=\"#000000\" stroke=\"#000000\" points=\"242.085,-166.0596 233.3797,-160.0207 236.419,-170.1702 242.085,-166.0596\"/>\n",
       "<text text-anchor=\"middle\" x=\"266.481\" y=\"-180.5107\" font-family=\"Times,serif\" font-size=\"14.00\" fill=\"#000000\">Yes</text>\n",
       "</g>\n",
       "<!-- 3 -->\n",
       "<g id=\"node3\" class=\"node\">\n",
       "<title>3</title>\n",
       "<polygon fill=\"#f0f0f0\" stroke=\"#000000\" points=\"409.6296,-159.7107 316.9545,-159.7107 316.9545,-107.7107 409.6296,-107.7107 409.6296,-159.7107\"/>\n",
       "<text text-anchor=\"middle\" x=\"363.2921\" y=\"-144.5107\" font-family=\"Times,serif\" font-size=\"14.00\" fill=\"#000000\"> x2 &lt; 4.94 </text>\n",
       "<text text-anchor=\"middle\" x=\"363.2921\" y=\"-114.5107\" font-family=\"Times,serif\" font-size=\"14.00\" fill=\"#000000\">Samples = 20</text>\n",
       "</g>\n",
       "<!-- 1&#45;&#45;3 -->\n",
       "<g id=\"edge2\" class=\"edge\">\n",
       "<title>1&#45;&#45;3</title>\n",
       "<path fill=\"none\" stroke=\"#000000\" d=\"M307.4118,-209.7079C316.6844,-197.0971 327.949,-181.7773 337.9283,-168.2054\"/>\n",
       "<polygon fill=\"#000000\" stroke=\"#000000\" points=\"340.8423,-170.1506 343.9465,-160.0207 335.2027,-166.0038 340.8423,-170.1506\"/>\n",
       "<text text-anchor=\"middle\" x=\"338.8472\" y=\"-180.5107\" font-family=\"Times,serif\" font-size=\"14.00\" fill=\"#000000\">No</text>\n",
       "</g>\n",
       "<!-- 4 -->\n",
       "<g id=\"node4\" class=\"node\">\n",
       "<title>4</title>\n",
       "<ellipse fill=\"#ff6a6a\" stroke=\"#000000\" cx=\"65.2921\" cy=\"-35.3553\" rx=\"65.0848\" ry=\"35.2113\"/>\n",
       "<text text-anchor=\"middle\" x=\"65.2921\" y=\"-45.1553\" font-family=\"Times,serif\" font-size=\"14.00\" fill=\"#000000\">Cluster 1 </text>\n",
       "<text text-anchor=\"middle\" x=\"65.2921\" y=\"-31.1553\" font-family=\"Times,serif\" font-size=\"14.00\" fill=\"#000000\"> </text>\n",
       "<text text-anchor=\"middle\" x=\"65.2921\" y=\"-17.1553\" font-family=\"Times,serif\" font-size=\"14.00\" fill=\"#000000\">Samples = 10</text>\n",
       "</g>\n",
       "<!-- 2&#45;&#45;4 -->\n",
       "<g id=\"edge3\" class=\"edge\">\n",
       "<title>2&#45;&#45;4</title>\n",
       "<path fill=\"none\" stroke=\"#000000\" d=\"M174.754,-107.6115C156.5044,-95.5649 134.635,-81.1288 115.2581,-68.3381\"/>\n",
       "<polygon fill=\"#000000\" stroke=\"#000000\" points=\"117.1133,-65.3689 106.8394,-62.7809 113.257,-71.2109 117.1133,-65.3689\"/>\n",
       "</g>\n",
       "<!-- 5 -->\n",
       "<g id=\"node5\" class=\"node\">\n",
       "<title>5</title>\n",
       "<ellipse fill=\"#00f5ff\" stroke=\"#000000\" cx=\"214.2921\" cy=\"-35.3553\" rx=\"65.0848\" ry=\"35.2113\"/>\n",
       "<text text-anchor=\"middle\" x=\"214.2921\" y=\"-45.1553\" font-family=\"Times,serif\" font-size=\"14.00\" fill=\"#000000\">Cluster 2 </text>\n",
       "<text text-anchor=\"middle\" x=\"214.2921\" y=\"-31.1553\" font-family=\"Times,serif\" font-size=\"14.00\" fill=\"#000000\"> </text>\n",
       "<text text-anchor=\"middle\" x=\"214.2921\" y=\"-17.1553\" font-family=\"Times,serif\" font-size=\"14.00\" fill=\"#000000\">Samples = 10</text>\n",
       "</g>\n",
       "<!-- 2&#45;&#45;5 -->\n",
       "<g id=\"edge4\" class=\"edge\">\n",
       "<title>2&#45;&#45;5</title>\n",
       "<path fill=\"none\" stroke=\"#000000\" d=\"M214.2921,-107.6115C214.2921,-99.4243 214.2921,-90.1336 214.2921,-81.0057\"/>\n",
       "<polygon fill=\"#000000\" stroke=\"#000000\" points=\"217.7922,-80.8367 214.2921,-70.8367 210.7922,-80.8368 217.7922,-80.8367\"/>\n",
       "</g>\n",
       "<!-- 6 -->\n",
       "<g id=\"node6\" class=\"node\">\n",
       "<title>6</title>\n",
       "<ellipse fill=\"#00ff00\" stroke=\"#000000\" cx=\"363.2921\" cy=\"-35.3553\" rx=\"65.0848\" ry=\"35.2113\"/>\n",
       "<text text-anchor=\"middle\" x=\"363.2921\" y=\"-45.1553\" font-family=\"Times,serif\" font-size=\"14.00\" fill=\"#000000\">Cluster 3 </text>\n",
       "<text text-anchor=\"middle\" x=\"363.2921\" y=\"-31.1553\" font-family=\"Times,serif\" font-size=\"14.00\" fill=\"#000000\"> </text>\n",
       "<text text-anchor=\"middle\" x=\"363.2921\" y=\"-17.1553\" font-family=\"Times,serif\" font-size=\"14.00\" fill=\"#000000\">Samples = 10</text>\n",
       "</g>\n",
       "<!-- 3&#45;&#45;6 -->\n",
       "<g id=\"edge5\" class=\"edge\">\n",
       "<title>3&#45;&#45;6</title>\n",
       "<path fill=\"none\" stroke=\"#000000\" d=\"M363.2921,-107.6115C363.2921,-99.4243 363.2921,-90.1336 363.2921,-81.0057\"/>\n",
       "<polygon fill=\"#000000\" stroke=\"#000000\" points=\"366.7922,-80.8367 363.2921,-70.8367 359.7922,-80.8368 366.7922,-80.8367\"/>\n",
       "</g>\n",
       "<!-- 7 -->\n",
       "<g id=\"node7\" class=\"node\">\n",
       "<title>7</title>\n",
       "<ellipse fill=\"#ffa500\" stroke=\"#000000\" cx=\"512.2921\" cy=\"-35.3553\" rx=\"65.0848\" ry=\"35.2113\"/>\n",
       "<text text-anchor=\"middle\" x=\"512.2921\" y=\"-45.1553\" font-family=\"Times,serif\" font-size=\"14.00\" fill=\"#000000\">Cluster 4 </text>\n",
       "<text text-anchor=\"middle\" x=\"512.2921\" y=\"-31.1553\" font-family=\"Times,serif\" font-size=\"14.00\" fill=\"#000000\"> </text>\n",
       "<text text-anchor=\"middle\" x=\"512.2921\" y=\"-17.1553\" font-family=\"Times,serif\" font-size=\"14.00\" fill=\"#000000\">Samples = 10</text>\n",
       "</g>\n",
       "<!-- 3&#45;&#45;7 -->\n",
       "<g id=\"edge6\" class=\"edge\">\n",
       "<title>3&#45;&#45;7</title>\n",
       "<path fill=\"none\" stroke=\"#000000\" d=\"M402.8301,-107.6115C421.0797,-95.5649 442.9491,-81.1288 462.326,-68.3381\"/>\n",
       "<polygon fill=\"#000000\" stroke=\"#000000\" points=\"464.3272,-71.2109 470.7447,-62.7809 460.4708,-65.3689 464.3272,-71.2109\"/>\n",
       "</g>\n",
       "</g>\n",
       "</svg>\n"
      ],
      "text/plain": [
       "GraphViz.Graph(Ptr{Void} @0x00007fcf4a88f960, true)"
      ]
     },
     "execution_count": 6,
     "metadata": {},
     "output_type": "execute_result"
    }
   ],
   "source": [
    "VizClusterTree(result)"
   ]
  },
  {
   "cell_type": "markdown",
   "metadata": {},
   "source": [
    "# Warm Start Viz"
   ]
  },
  {
   "cell_type": "code",
   "execution_count": 7,
   "metadata": {},
   "outputs": [
    {
     "data": {
      "text/html": [
       "<img src=\"data:image/png;base64,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\" />"
      ]
     },
     "execution_count": 7,
     "metadata": {},
     "output_type": "execute_result"
    },
    {
     "name": "stderr",
     "output_type": "stream",
     "text": [
      "\u001b[1m\u001b[33mWARNING: \u001b[39m\u001b[22m\u001b[33mVectors of markers are currently unsupported in PyPlot: Symbol[:star7]\u001b[39m\n"
     ]
    }
   ],
   "source": [
    "plot_cluster_tree(starts,max_depth, X)"
   ]
  },
  {
   "cell_type": "code",
   "execution_count": 8,
   "metadata": {},
   "outputs": [
    {
     "data": {
      "image/svg+xml": [
       "<?xml version=\"1.0\" encoding=\"UTF-8\" standalone=\"no\"?>\n",
       "<!DOCTYPE svg PUBLIC \"-//W3C//DTD SVG 1.1//EN\"\n",
       " \"http://www.w3.org/Graphics/SVG/1.1/DTD/svg11.dtd\">\n",
       "<!-- Generated by graphviz version 2.40.1 (20161225.0304)\n",
       " -->\n",
       "<!-- Title: graphname Pages: 1 -->\n",
       "<svg width=\"586pt\" height=\"270pt\"\n",
       " viewBox=\"0.00 0.00 585.58 269.71\" xmlns=\"http://www.w3.org/2000/svg\" xmlns:xlink=\"http://www.w3.org/1999/xlink\">\n",
       "<g id=\"graph0\" class=\"graph\" transform=\"scale(1 1) rotate(0) translate(4 265.7107)\">\n",
       "<title>graphname</title>\n",
       "<polygon fill=\"#ffffff\" stroke=\"transparent\" points=\"-4,4 -4,-265.7107 581.5841,-265.7107 581.5841,4 -4,4\"/>\n",
       "<!-- 1 -->\n",
       "<g id=\"node1\" class=\"node\">\n",
       "<title>1</title>\n",
       "<polygon fill=\"#f0f0f0\" stroke=\"#000000\" points=\"334.6296,-261.7107 241.9545,-261.7107 241.9545,-209.7107 334.6296,-209.7107 334.6296,-261.7107\"/>\n",
       "<text text-anchor=\"middle\" x=\"288.2921\" y=\"-246.5107\" font-family=\"Times,serif\" font-size=\"14.00\" fill=\"#000000\"> x1 &lt; 6.79 </text>\n",
       "<text text-anchor=\"middle\" x=\"288.2921\" y=\"-216.5107\" font-family=\"Times,serif\" font-size=\"14.00\" fill=\"#000000\">Samples = 40</text>\n",
       "</g>\n",
       "<!-- 2 -->\n",
       "<g id=\"node2\" class=\"node\">\n",
       "<title>2</title>\n",
       "<polygon fill=\"#f0f0f0\" stroke=\"#000000\" points=\"260.6296,-159.7107 167.9545,-159.7107 167.9545,-107.7107 260.6296,-107.7107 260.6296,-159.7107\"/>\n",
       "<text text-anchor=\"middle\" x=\"214.2921\" y=\"-144.5107\" font-family=\"Times,serif\" font-size=\"14.00\" fill=\"#000000\"> x2 &lt; 2.39 </text>\n",
       "<text text-anchor=\"middle\" x=\"214.2921\" y=\"-114.5107\" font-family=\"Times,serif\" font-size=\"14.00\" fill=\"#000000\">Samples = 20</text>\n",
       "</g>\n",
       "<!-- 1&#45;&#45;2 -->\n",
       "<g id=\"edge1\" class=\"edge\">\n",
       "<title>1&#45;&#45;2</title>\n",
       "<path fill=\"none\" stroke=\"#000000\" d=\"M269.4273,-209.7079C260.2783,-197.0971 249.1639,-181.7773 239.3176,-168.2054\"/>\n",
       "<polygon fill=\"#000000\" stroke=\"#000000\" points=\"242.085,-166.0596 233.3797,-160.0207 236.419,-170.1702 242.085,-166.0596\"/>\n",
       "<text text-anchor=\"middle\" x=\"266.481\" y=\"-180.5107\" font-family=\"Times,serif\" font-size=\"14.00\" fill=\"#000000\">Yes</text>\n",
       "</g>\n",
       "<!-- 3 -->\n",
       "<g id=\"node3\" class=\"node\">\n",
       "<title>3</title>\n",
       "<polygon fill=\"#f0f0f0\" stroke=\"#000000\" points=\"409.6296,-159.7107 316.9545,-159.7107 316.9545,-107.7107 409.6296,-107.7107 409.6296,-159.7107\"/>\n",
       "<text text-anchor=\"middle\" x=\"363.2921\" y=\"-144.5107\" font-family=\"Times,serif\" font-size=\"14.00\" fill=\"#000000\"> x2 &lt; 4.94 </text>\n",
       "<text text-anchor=\"middle\" x=\"363.2921\" y=\"-114.5107\" font-family=\"Times,serif\" font-size=\"14.00\" fill=\"#000000\">Samples = 20</text>\n",
       "</g>\n",
       "<!-- 1&#45;&#45;3 -->\n",
       "<g id=\"edge2\" class=\"edge\">\n",
       "<title>1&#45;&#45;3</title>\n",
       "<path fill=\"none\" stroke=\"#000000\" d=\"M307.4118,-209.7079C316.6844,-197.0971 327.949,-181.7773 337.9283,-168.2054\"/>\n",
       "<polygon fill=\"#000000\" stroke=\"#000000\" points=\"340.8423,-170.1506 343.9465,-160.0207 335.2027,-166.0038 340.8423,-170.1506\"/>\n",
       "<text text-anchor=\"middle\" x=\"338.8472\" y=\"-180.5107\" font-family=\"Times,serif\" font-size=\"14.00\" fill=\"#000000\">No</text>\n",
       "</g>\n",
       "<!-- 4 -->\n",
       "<g id=\"node4\" class=\"node\">\n",
       "<title>4</title>\n",
       "<ellipse fill=\"#ff6a6a\" stroke=\"#000000\" cx=\"65.2921\" cy=\"-35.3553\" rx=\"65.0848\" ry=\"35.2113\"/>\n",
       "<text text-anchor=\"middle\" x=\"65.2921\" y=\"-45.1553\" font-family=\"Times,serif\" font-size=\"14.00\" fill=\"#000000\">Cluster 1 </text>\n",
       "<text text-anchor=\"middle\" x=\"65.2921\" y=\"-31.1553\" font-family=\"Times,serif\" font-size=\"14.00\" fill=\"#000000\"> </text>\n",
       "<text text-anchor=\"middle\" x=\"65.2921\" y=\"-17.1553\" font-family=\"Times,serif\" font-size=\"14.00\" fill=\"#000000\">Samples = 10</text>\n",
       "</g>\n",
       "<!-- 2&#45;&#45;4 -->\n",
       "<g id=\"edge3\" class=\"edge\">\n",
       "<title>2&#45;&#45;4</title>\n",
       "<path fill=\"none\" stroke=\"#000000\" d=\"M174.754,-107.6115C156.5044,-95.5649 134.635,-81.1288 115.2581,-68.3381\"/>\n",
       "<polygon fill=\"#000000\" stroke=\"#000000\" points=\"117.1133,-65.3689 106.8394,-62.7809 113.257,-71.2109 117.1133,-65.3689\"/>\n",
       "</g>\n",
       "<!-- 5 -->\n",
       "<g id=\"node5\" class=\"node\">\n",
       "<title>5</title>\n",
       "<ellipse fill=\"#00f5ff\" stroke=\"#000000\" cx=\"214.2921\" cy=\"-35.3553\" rx=\"65.0848\" ry=\"35.2113\"/>\n",
       "<text text-anchor=\"middle\" x=\"214.2921\" y=\"-45.1553\" font-family=\"Times,serif\" font-size=\"14.00\" fill=\"#000000\">Cluster 2 </text>\n",
       "<text text-anchor=\"middle\" x=\"214.2921\" y=\"-31.1553\" font-family=\"Times,serif\" font-size=\"14.00\" fill=\"#000000\"> </text>\n",
       "<text text-anchor=\"middle\" x=\"214.2921\" y=\"-17.1553\" font-family=\"Times,serif\" font-size=\"14.00\" fill=\"#000000\">Samples = 10</text>\n",
       "</g>\n",
       "<!-- 2&#45;&#45;5 -->\n",
       "<g id=\"edge4\" class=\"edge\">\n",
       "<title>2&#45;&#45;5</title>\n",
       "<path fill=\"none\" stroke=\"#000000\" d=\"M214.2921,-107.6115C214.2921,-99.4243 214.2921,-90.1336 214.2921,-81.0057\"/>\n",
       "<polygon fill=\"#000000\" stroke=\"#000000\" points=\"217.7922,-80.8367 214.2921,-70.8367 210.7922,-80.8368 217.7922,-80.8367\"/>\n",
       "</g>\n",
       "<!-- 6 -->\n",
       "<g id=\"node6\" class=\"node\">\n",
       "<title>6</title>\n",
       "<ellipse fill=\"#00ff00\" stroke=\"#000000\" cx=\"363.2921\" cy=\"-35.3553\" rx=\"65.0848\" ry=\"35.2113\"/>\n",
       "<text text-anchor=\"middle\" x=\"363.2921\" y=\"-45.1553\" font-family=\"Times,serif\" font-size=\"14.00\" fill=\"#000000\">Cluster 3 </text>\n",
       "<text text-anchor=\"middle\" x=\"363.2921\" y=\"-31.1553\" font-family=\"Times,serif\" font-size=\"14.00\" fill=\"#000000\"> </text>\n",
       "<text text-anchor=\"middle\" x=\"363.2921\" y=\"-17.1553\" font-family=\"Times,serif\" font-size=\"14.00\" fill=\"#000000\">Samples = 10</text>\n",
       "</g>\n",
       "<!-- 3&#45;&#45;6 -->\n",
       "<g id=\"edge5\" class=\"edge\">\n",
       "<title>3&#45;&#45;6</title>\n",
       "<path fill=\"none\" stroke=\"#000000\" d=\"M363.2921,-107.6115C363.2921,-99.4243 363.2921,-90.1336 363.2921,-81.0057\"/>\n",
       "<polygon fill=\"#000000\" stroke=\"#000000\" points=\"366.7922,-80.8367 363.2921,-70.8367 359.7922,-80.8368 366.7922,-80.8367\"/>\n",
       "</g>\n",
       "<!-- 7 -->\n",
       "<g id=\"node7\" class=\"node\">\n",
       "<title>7</title>\n",
       "<ellipse fill=\"#ffa500\" stroke=\"#000000\" cx=\"512.2921\" cy=\"-35.3553\" rx=\"65.0848\" ry=\"35.2113\"/>\n",
       "<text text-anchor=\"middle\" x=\"512.2921\" y=\"-45.1553\" font-family=\"Times,serif\" font-size=\"14.00\" fill=\"#000000\">Cluster 4 </text>\n",
       "<text text-anchor=\"middle\" x=\"512.2921\" y=\"-31.1553\" font-family=\"Times,serif\" font-size=\"14.00\" fill=\"#000000\"> </text>\n",
       "<text text-anchor=\"middle\" x=\"512.2921\" y=\"-17.1553\" font-family=\"Times,serif\" font-size=\"14.00\" fill=\"#000000\">Samples = 10</text>\n",
       "</g>\n",
       "<!-- 3&#45;&#45;7 -->\n",
       "<g id=\"edge6\" class=\"edge\">\n",
       "<title>3&#45;&#45;7</title>\n",
       "<path fill=\"none\" stroke=\"#000000\" d=\"M402.8301,-107.6115C421.0797,-95.5649 442.9491,-81.1288 462.326,-68.3381\"/>\n",
       "<polygon fill=\"#000000\" stroke=\"#000000\" points=\"464.3272,-71.2109 470.7447,-62.7809 460.4708,-65.3689 464.3272,-71.2109\"/>\n",
       "</g>\n",
       "</g>\n",
       "</svg>\n"
      ],
      "text/plain": [
       "GraphViz.Graph(Ptr{Void} @0x00007fcf49e92390, true)"
      ]
     },
     "execution_count": 8,
     "metadata": {},
     "output_type": "execute_result"
    }
   ],
   "source": [
    "VizClusterTree(starts)"
   ]
  },
  {
   "cell_type": "code",
   "execution_count": 9,
   "metadata": {},
   "outputs": [
    {
     "data": {
      "image/svg+xml": [
       "<?xml version=\"1.0\" encoding=\"UTF-8\" standalone=\"no\"?>\n",
       "<!DOCTYPE svg PUBLIC \"-//W3C//DTD SVG 1.1//EN\"\n",
       " \"http://www.w3.org/Graphics/SVG/1.1/DTD/svg11.dtd\">\n",
       "<!-- Generated by graphviz version 2.40.1 (20161225.0304)\n",
       " -->\n",
       "<!-- Title: Tree Pages: 1 -->\n",
       "<svg width=\"606pt\" height=\"258pt\"\n",
       " viewBox=\"0.00 0.00 606.47 258.00\" xmlns=\"http://www.w3.org/2000/svg\" xmlns:xlink=\"http://www.w3.org/1999/xlink\">\n",
       "<g id=\"graph0\" class=\"graph\" transform=\"scale(1 1) rotate(0) translate(4 254)\">\n",
       "<title>Tree</title>\n",
       "<polygon fill=\"#ffffff\" stroke=\"transparent\" points=\"-4,4 -4,-254 602.4717,-254 602.4717,4 -4,4\"/>\n",
       "<!-- 0 -->\n",
       "<g id=\"node1\" class=\"node\">\n",
       "<title>0</title>\n",
       "<path fill=\"transparent\" stroke=\"#000000\" d=\"M366.066,-250C366.066,-250 231.4057,-250 231.4057,-250 225.4057,-250 219.4057,-244 219.4057,-238 219.4057,-238 219.4057,-198 219.4057,-198 219.4057,-192 225.4057,-186 231.4057,-186 231.4057,-186 366.066,-186 366.066,-186 372.066,-186 378.066,-192 378.066,-198 378.066,-198 378.066,-238 378.066,-238 378.066,-244 372.066,-250 366.066,-250\"/>\n",
       "<text text-anchor=\"middle\" x=\"298.7358\" y=\"-234.8\" font-family=\"Helvetica,sans-Serif\" font-size=\"14.00\" fill=\"#000000\">X[0] &lt;= 0.649</text>\n",
       "<text text-anchor=\"middle\" x=\"298.7358\" y=\"-220.8\" font-family=\"Helvetica,sans-Serif\" font-size=\"14.00\" fill=\"#000000\">entropy = 2.0</text>\n",
       "<text text-anchor=\"middle\" x=\"298.7358\" y=\"-206.8\" font-family=\"Helvetica,sans-Serif\" font-size=\"14.00\" fill=\"#000000\">samples = 40</text>\n",
       "<text text-anchor=\"middle\" x=\"298.7358\" y=\"-192.8\" font-family=\"Helvetica,sans-Serif\" font-size=\"14.00\" fill=\"#000000\">value = [10, 10, 10, 10]</text>\n",
       "</g>\n",
       "<!-- 1 -->\n",
       "<g id=\"node2\" class=\"node\">\n",
       "<title>1</title>\n",
       "<path fill=\"transparent\" stroke=\"#000000\" d=\"M278.4939,-150C278.4939,-150 158.9778,-150 158.9778,-150 152.9778,-150 146.9778,-144 146.9778,-138 146.9778,-138 146.9778,-98 146.9778,-98 146.9778,-92 152.9778,-86 158.9778,-86 158.9778,-86 278.4939,-86 278.4939,-86 284.4939,-86 290.4939,-92 290.4939,-98 290.4939,-98 290.4939,-138 290.4939,-138 290.4939,-144 284.4939,-150 278.4939,-150\"/>\n",
       "<text text-anchor=\"middle\" x=\"218.7358\" y=\"-134.8\" font-family=\"Helvetica,sans-Serif\" font-size=\"14.00\" fill=\"#000000\">X[1] &lt;= 0.289</text>\n",
       "<text text-anchor=\"middle\" x=\"218.7358\" y=\"-120.8\" font-family=\"Helvetica,sans-Serif\" font-size=\"14.00\" fill=\"#000000\">entropy = 1.0</text>\n",
       "<text text-anchor=\"middle\" x=\"218.7358\" y=\"-106.8\" font-family=\"Helvetica,sans-Serif\" font-size=\"14.00\" fill=\"#000000\">samples = 20</text>\n",
       "<text text-anchor=\"middle\" x=\"218.7358\" y=\"-92.8\" font-family=\"Helvetica,sans-Serif\" font-size=\"14.00\" fill=\"#000000\">value = [10, 0, 10, 0]</text>\n",
       "</g>\n",
       "<!-- 0&#45;&gt;1 -->\n",
       "<g id=\"edge1\" class=\"edge\">\n",
       "<title>0&#45;&gt;1</title>\n",
       "<path fill=\"none\" stroke=\"#000000\" d=\"M272.983,-185.8089C265.9173,-176.9769 258.1695,-167.2921 250.7966,-158.0759\"/>\n",
       "<polygon fill=\"#000000\" stroke=\"#000000\" points=\"253.4205,-155.753 244.4404,-150.1308 247.9544,-160.1259 253.4205,-155.753\"/>\n",
       "<text text-anchor=\"middle\" x=\"241.6797\" y=\"-170.7779\" font-family=\"Helvetica,sans-Serif\" font-size=\"14.00\" fill=\"#000000\">True</text>\n",
       "</g>\n",
       "<!-- 4 -->\n",
       "<g id=\"node5\" class=\"node\">\n",
       "<title>4</title>\n",
       "<path fill=\"transparent\" stroke=\"#000000\" d=\"M439.4939,-150C439.4939,-150 319.9778,-150 319.9778,-150 313.9778,-150 307.9778,-144 307.9778,-138 307.9778,-138 307.9778,-98 307.9778,-98 307.9778,-92 313.9778,-86 319.9778,-86 319.9778,-86 439.4939,-86 439.4939,-86 445.4939,-86 451.4939,-92 451.4939,-98 451.4939,-98 451.4939,-138 451.4939,-138 451.4939,-144 445.4939,-150 439.4939,-150\"/>\n",
       "<text text-anchor=\"middle\" x=\"379.7358\" y=\"-134.8\" font-family=\"Helvetica,sans-Serif\" font-size=\"14.00\" fill=\"#000000\">X[1] &lt;= 0.476</text>\n",
       "<text text-anchor=\"middle\" x=\"379.7358\" y=\"-120.8\" font-family=\"Helvetica,sans-Serif\" font-size=\"14.00\" fill=\"#000000\">entropy = 1.0</text>\n",
       "<text text-anchor=\"middle\" x=\"379.7358\" y=\"-106.8\" font-family=\"Helvetica,sans-Serif\" font-size=\"14.00\" fill=\"#000000\">samples = 20</text>\n",
       "<text text-anchor=\"middle\" x=\"379.7358\" y=\"-92.8\" font-family=\"Helvetica,sans-Serif\" font-size=\"14.00\" fill=\"#000000\">value = [0, 10, 0, 10]</text>\n",
       "</g>\n",
       "<!-- 0&#45;&gt;4 -->\n",
       "<g id=\"edge4\" class=\"edge\">\n",
       "<title>0&#45;&gt;4</title>\n",
       "<path fill=\"none\" stroke=\"#000000\" d=\"M324.8106,-185.8089C331.9646,-176.9769 339.8093,-167.2921 347.2743,-158.0759\"/>\n",
       "<polygon fill=\"#000000\" stroke=\"#000000\" points=\"350.1354,-160.1044 353.7099,-150.1308 344.6959,-155.6984 350.1354,-160.1044\"/>\n",
       "<text text-anchor=\"middle\" x=\"356.3199\" y=\"-170.7941\" font-family=\"Helvetica,sans-Serif\" font-size=\"14.00\" fill=\"#000000\">False</text>\n",
       "</g>\n",
       "<!-- 2 -->\n",
       "<g id=\"node3\" class=\"node\">\n",
       "<title>2</title>\n",
       "<path fill=\"#399de5\" stroke=\"#000000\" d=\"M123.7083,-50C123.7083,-50 11.7633,-50 11.7633,-50 5.7633,-50 -.2367,-44 -.2367,-38 -.2367,-38 -.2367,-12 -.2367,-12 -.2367,-6 5.7633,0 11.7633,0 11.7633,0 123.7083,0 123.7083,0 129.7083,0 135.7083,-6 135.7083,-12 135.7083,-12 135.7083,-38 135.7083,-38 135.7083,-44 129.7083,-50 123.7083,-50\"/>\n",
       "<text text-anchor=\"middle\" x=\"67.7358\" y=\"-34.8\" font-family=\"Helvetica,sans-Serif\" font-size=\"14.00\" fill=\"#000000\">entropy = 0.0</text>\n",
       "<text text-anchor=\"middle\" x=\"67.7358\" y=\"-20.8\" font-family=\"Helvetica,sans-Serif\" font-size=\"14.00\" fill=\"#000000\">samples = 10</text>\n",
       "<text text-anchor=\"middle\" x=\"67.7358\" y=\"-6.8\" font-family=\"Helvetica,sans-Serif\" font-size=\"14.00\" fill=\"#000000\">value = [0, 0, 10, 0]</text>\n",
       "</g>\n",
       "<!-- 1&#45;&gt;2 -->\n",
       "<g id=\"edge2\" class=\"edge\">\n",
       "<title>1&#45;&gt;2</title>\n",
       "<path fill=\"none\" stroke=\"#000000\" d=\"M166.7702,-85.9947C150.6465,-76.0642 132.9318,-65.1538 116.9977,-55.3401\"/>\n",
       "<polygon fill=\"#000000\" stroke=\"#000000\" points=\"118.7001,-52.2781 108.35,-50.014 115.0292,-58.2383 118.7001,-52.2781\"/>\n",
       "</g>\n",
       "<!-- 3 -->\n",
       "<g id=\"node4\" class=\"node\">\n",
       "<title>3</title>\n",
       "<path fill=\"#e58139\" stroke=\"#000000\" d=\"M276.7083,-50C276.7083,-50 164.7633,-50 164.7633,-50 158.7633,-50 152.7633,-44 152.7633,-38 152.7633,-38 152.7633,-12 152.7633,-12 152.7633,-6 158.7633,0 164.7633,0 164.7633,0 276.7083,0 276.7083,0 282.7083,0 288.7083,-6 288.7083,-12 288.7083,-12 288.7083,-38 288.7083,-38 288.7083,-44 282.7083,-50 276.7083,-50\"/>\n",
       "<text text-anchor=\"middle\" x=\"220.7358\" y=\"-34.8\" font-family=\"Helvetica,sans-Serif\" font-size=\"14.00\" fill=\"#000000\">entropy = 0.0</text>\n",
       "<text text-anchor=\"middle\" x=\"220.7358\" y=\"-20.8\" font-family=\"Helvetica,sans-Serif\" font-size=\"14.00\" fill=\"#000000\">samples = 10</text>\n",
       "<text text-anchor=\"middle\" x=\"220.7358\" y=\"-6.8\" font-family=\"Helvetica,sans-Serif\" font-size=\"14.00\" fill=\"#000000\">value = [10, 0, 0, 0]</text>\n",
       "</g>\n",
       "<!-- 1&#45;&gt;3 -->\n",
       "<g id=\"edge3\" class=\"edge\">\n",
       "<title>1&#45;&gt;3</title>\n",
       "<path fill=\"none\" stroke=\"#000000\" d=\"M219.4241,-85.9947C219.6041,-77.6273 219.799,-68.5643 219.9821,-60.0478\"/>\n",
       "<polygon fill=\"#000000\" stroke=\"#000000\" points=\"223.482,-60.087 220.1979,-50.014 216.4836,-59.9364 223.482,-60.087\"/>\n",
       "</g>\n",
       "<!-- 5 -->\n",
       "<g id=\"node6\" class=\"node\">\n",
       "<title>5</title>\n",
       "<path fill=\"#d739e5\" stroke=\"#000000\" d=\"M433.7083,-50C433.7083,-50 321.7633,-50 321.7633,-50 315.7633,-50 309.7633,-44 309.7633,-38 309.7633,-38 309.7633,-12 309.7633,-12 309.7633,-6 315.7633,0 321.7633,0 321.7633,0 433.7083,0 433.7083,0 439.7083,0 445.7083,-6 445.7083,-12 445.7083,-12 445.7083,-38 445.7083,-38 445.7083,-44 439.7083,-50 433.7083,-50\"/>\n",
       "<text text-anchor=\"middle\" x=\"377.7358\" y=\"-34.8\" font-family=\"Helvetica,sans-Serif\" font-size=\"14.00\" fill=\"#000000\">entropy = 0.0</text>\n",
       "<text text-anchor=\"middle\" x=\"377.7358\" y=\"-20.8\" font-family=\"Helvetica,sans-Serif\" font-size=\"14.00\" fill=\"#000000\">samples = 10</text>\n",
       "<text text-anchor=\"middle\" x=\"377.7358\" y=\"-6.8\" font-family=\"Helvetica,sans-Serif\" font-size=\"14.00\" fill=\"#000000\">value = [0, 0, 0, 10]</text>\n",
       "</g>\n",
       "<!-- 4&#45;&gt;5 -->\n",
       "<g id=\"edge5\" class=\"edge\">\n",
       "<title>4&#45;&gt;5</title>\n",
       "<path fill=\"none\" stroke=\"#000000\" d=\"M379.0476,-85.9947C378.8676,-77.6273 378.6727,-68.5643 378.4896,-60.0478\"/>\n",
       "<polygon fill=\"#000000\" stroke=\"#000000\" points=\"381.9881,-59.9364 378.2738,-50.014 374.9897,-60.087 381.9881,-59.9364\"/>\n",
       "</g>\n",
       "<!-- 6 -->\n",
       "<g id=\"node7\" class=\"node\">\n",
       "<title>6</title>\n",
       "<path fill=\"#47e539\" stroke=\"#000000\" d=\"M586.7083,-50C586.7083,-50 474.7633,-50 474.7633,-50 468.7633,-50 462.7633,-44 462.7633,-38 462.7633,-38 462.7633,-12 462.7633,-12 462.7633,-6 468.7633,0 474.7633,0 474.7633,0 586.7083,0 586.7083,0 592.7083,0 598.7083,-6 598.7083,-12 598.7083,-12 598.7083,-38 598.7083,-38 598.7083,-44 592.7083,-50 586.7083,-50\"/>\n",
       "<text text-anchor=\"middle\" x=\"530.7358\" y=\"-34.8\" font-family=\"Helvetica,sans-Serif\" font-size=\"14.00\" fill=\"#000000\">entropy = 0.0</text>\n",
       "<text text-anchor=\"middle\" x=\"530.7358\" y=\"-20.8\" font-family=\"Helvetica,sans-Serif\" font-size=\"14.00\" fill=\"#000000\">samples = 10</text>\n",
       "<text text-anchor=\"middle\" x=\"530.7358\" y=\"-6.8\" font-family=\"Helvetica,sans-Serif\" font-size=\"14.00\" fill=\"#000000\">value = [0, 10, 0, 0]</text>\n",
       "</g>\n",
       "<!-- 4&#45;&gt;6 -->\n",
       "<g id=\"edge6\" class=\"edge\">\n",
       "<title>4&#45;&gt;6</title>\n",
       "<path fill=\"none\" stroke=\"#000000\" d=\"M431.7015,-85.9947C447.8251,-76.0642 465.5399,-65.1538 481.474,-55.3401\"/>\n",
       "<polygon fill=\"#000000\" stroke=\"#000000\" points=\"483.4425,-58.2383 490.1217,-50.014 479.7715,-52.2781 483.4425,-58.2383\"/>\n",
       "</g>\n",
       "</g>\n",
       "</svg>\n"
      ],
      "text/plain": [
       "GraphViz.Graph(Ptr{Void} @0x00007fcf4a8e3fd0, true)"
      ]
     },
     "execution_count": 9,
     "metadata": {},
     "output_type": "execute_result"
    }
   ],
   "source": [
    "showtree(starts[\"tree\"])"
   ]
  },
  {
   "cell_type": "markdown",
   "metadata": {},
   "source": [
    "# K-means"
   ]
  },
  {
   "cell_type": "code",
   "execution_count": 10,
   "metadata": {},
   "outputs": [
    {
     "name": "stdout",
     "output_type": "stream",
     "text": [
      "  0.826790 seconds (308.22 k allocations: 15.017 MiB, 2.76% gc time)\n"
     ]
    },
    {
     "data": {
      "text/html": [
       "<img src=\"data:image/png;base64,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\" />"
      ]
     },
     "execution_count": 10,
     "metadata": {},
     "output_type": "execute_result"
    },
    {
     "name": "stderr",
     "output_type": "stream",
     "text": [
      "\u001b[1m\u001b[33mWARNING: \u001b[39m\u001b[22m\u001b[33mVectors of markers are currently unsupported in PyPlot: Symbol[:star7]\u001b[39m\n"
     ]
    }
   ],
   "source": [
    "@time kmeans_clusters = kmeans(X',K)\n",
    "mcols = [:red, :blue, :green, :orange, :pink, :yellow]\n",
    "scatter(X[:,1],X[:,2], markercolor=mcols[assignments(kmeans_clusters)], leg=false)\n",
    "scatter!(kmeans_clusters.centers[1,:],kmeans_clusters.centers[2,:], markercolor=mcols, m=[:star7], markersize = 10)"
   ]
  },
  {
   "cell_type": "markdown",
   "metadata": {},
   "source": [
    "# Evaluation"
   ]
  },
  {
   "cell_type": "code",
   "execution_count": 18,
   "metadata": {},
   "outputs": [
    {
     "data": {
      "text/html": [
       "<table class=\"data-frame\"><thead><tr><th></th><th>accuracy</th><th>min_cluster_size</th><th>max_cluster_size</th><th>totalss</th><th>total_withinss</th><th>total_betweenss</th></tr></thead><tbody><tr><th>1</th><td>1.0</td><td>10</td><td>10</td><td>37.33845591424498</td><td>7.377425115580016</td><td>29.961030798664964</td></tr></tbody></table>"
      ],
      "text/plain": [
       "1×6 DataFrames.DataFrame\n",
       "│ Row │ accuracy │ min_cluster_size │ max_cluster_size │ totalss │\n",
       "├─────┼──────────┼──────────────────┼──────────────────┼─────────┤\n",
       "│ 1   │ 1.0      │ 10               │ 10               │ 37.3385 │\n",
       "\n",
       "│ Row │ total_withinss │ total_betweenss │\n",
       "├─────┼────────────────┼─────────────────┤\n",
       "│ 1   │ 7.37743        │ 29.961          │"
      ]
     },
     "execution_count": 18,
     "metadata": {},
     "output_type": "execute_result"
    }
   ],
   "source": [
    "evaluate_cluster_trees(X, Y, result)"
   ]
  }
 ],
 "metadata": {
  "kernelspec": {
   "display_name": "Julia 0.6.2",
   "language": "julia",
   "name": "julia-0.6"
  },
  "language_info": {
   "file_extension": ".jl",
   "mimetype": "application/julia",
   "name": "julia",
   "version": "0.6.2"
  }
 },
 "nbformat": 4,
 "nbformat_minor": 2
}
