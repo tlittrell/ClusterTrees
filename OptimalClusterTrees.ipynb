{
 "cells": [
  {
   "cell_type": "markdown",
   "metadata": {},
   "source": [
    "## Cluster trees function"
   ]
  },
  {
   "cell_type": "code",
   "execution_count": 1,
   "metadata": {},
   "outputs": [],
   "source": [
    "using JuMP, Gurobi, GLM, DataFrames, Plots, Clustering"
   ]
  },
  {
   "cell_type": "code",
   "execution_count": 21,
   "metadata": {
    "collapsed": true
   },
   "outputs": [
    {
     "ename": "LoadError",
     "evalue": "\u001b[91mFailed to import required Python module sklearn.\n\nFor automated sklearn installation, try configuring PyCall to use the Conda.jl package's Python \"Miniconda\" distribution within Julia. Relaunch Julia and run:\n    ENV[\"PYTHON\"]=\"\"\n    Pkg.build(\"PyCall\")\nbefore trying again.\n\nThe pyimport exception was: PyError (ccall(@pysym(:PyImport_ImportModule), PyPtr, (Cstring,), name)\n\nThe Python package sklearn could not be found by pyimport. Usually this means\nthat you did not install sklearn in the Python version being used by PyCall.\n\nPyCall is currently configured to use the Python version at:\n\n/usr/bin/python\n\nand you should use whatever mechanism you usually use (apt-get, pip, conda,\netcetera) to install the Python package containing the sklearn module.\n\nOne alternative is to re-configure PyCall to use a different Python\nversion on your system: set ENV[\"PYTHON\"] to the path/name of the python\nexecutable you want to use, run Pkg.build(\"PyCall\"), and re-launch Julia.\n\nAnother alternative is to configure PyCall to use a Julia-specific Python\ndistribution via the Conda.jl package (which installs a private Anaconda\nPython distribution), which has the advantage that packages can be installed\nand kept up-to-date via Julia.  As explained in the PyCall documentation,\nset ENV[\"PYTHON\"]=\"\", run Pkg.build(\"PyCall\"), and re-launch Julia. Then,\nTo install the sklearn module, you can use `pyimport_conda(\"sklearn\", PKG)`,\nwhere PKG is the Anaconda package the contains the module sklearn,\nor alternatively you can use the Conda package directly (via\n`using Conda` followed by `Conda.add` etcetera).\n\n) <type 'exceptions.ImportError'>\nImportError('No module named sklearn',)\n\n\u001b[39m",
     "output_type": "error",
     "traceback": [
      "\u001b[91mFailed to import required Python module sklearn.\n\nFor automated sklearn installation, try configuring PyCall to use the Conda.jl package's Python \"Miniconda\" distribution within Julia. Relaunch Julia and run:\n    ENV[\"PYTHON\"]=\"\"\n    Pkg.build(\"PyCall\")\nbefore trying again.\n\nThe pyimport exception was: PyError (ccall(@pysym(:PyImport_ImportModule), PyPtr, (Cstring,), name)\n\nThe Python package sklearn could not be found by pyimport. Usually this means\nthat you did not install sklearn in the Python version being used by PyCall.\n\nPyCall is currently configured to use the Python version at:\n\n/usr/bin/python\n\nand you should use whatever mechanism you usually use (apt-get, pip, conda,\netcetera) to install the Python package containing the sklearn module.\n\nOne alternative is to re-configure PyCall to use a different Python\nversion on your system: set ENV[\"PYTHON\"] to the path/name of the python\nexecutable you want to use, run Pkg.build(\"PyCall\"), and re-launch Julia.\n\nAnother alternative is to configure PyCall to use a Julia-specific Python\ndistribution via the Conda.jl package (which installs a private Anaconda\nPython distribution), which has the advantage that packages can be installed\nand kept up-to-date via Julia.  As explained in the PyCall documentation,\nset ENV[\"PYTHON\"]=\"\", run Pkg.build(\"PyCall\"), and re-launch Julia. Then,\nTo install the sklearn module, you can use `pyimport_conda(\"sklearn\", PKG)`,\nwhere PKG is the Anaconda package the contains the module sklearn,\nor alternatively you can use the Conda package directly (via\n`using Conda` followed by `Conda.add` etcetera).\n\n) <type 'exceptions.ImportError'>\nImportError('No module named sklearn',)\n\n\u001b[39m",
      "",
      "Stacktrace:",
      " [1] \u001b[1mpyimport_conda\u001b[22m\u001b[22m\u001b[1m(\u001b[22m\u001b[22m::String, ::String, ::String\u001b[1m)\u001b[22m\u001b[22m at \u001b[1m/Applications/JuliaPro-0.6.2.2.app/Contents/Resources/pkgs-0.6.2.2/v0.6/PyCall/src/PyCall.jl:609\u001b[22m\u001b[22m",
      " [2] \u001b[1mimport_sklearn\u001b[22m\u001b[22m\u001b[1m(\u001b[22m\u001b[22m\u001b[1m)\u001b[22m\u001b[22m at \u001b[1m/Applications/JuliaPro-0.6.2.2.app/Contents/Resources/pkgs-0.6.2.2/v0.6/ScikitLearn/src/Skcore.jl:114\u001b[22m\u001b[22m",
      " [3] \u001b[1minclude_string\u001b[22m\u001b[22m\u001b[1m(\u001b[22m\u001b[22m::String, ::String\u001b[1m)\u001b[22m\u001b[22m at \u001b[1m./loading.jl:522\u001b[22m\u001b[22m"
     ]
    }
   ],
   "source": [
    "using ScikitLearn, StatsBase\n",
    "# Load in the DecisionTreeClassifier method from ScikitLearn\n",
    "@sk_import tree: DecisionTreeClassifier;"
   ]
  },
  {
   "cell_type": "markdown",
   "metadata": {},
   "source": [
    "#### Helper functions for optimal cluster trees"
   ]
  },
  {
   "cell_type": "code",
   "execution_count": 3,
   "metadata": {},
   "outputs": [
    {
     "data": {
      "text/plain": [
       "get_parent_nodes (generic function with 1 method)"
      ]
     },
     "execution_count": 3,
     "metadata": {},
     "output_type": "execute_result"
    }
   ],
   "source": [
    "function get_parent_nodes(num_nodes)\n",
    "    \n",
    "    # Compute the parent nodes and paths through the tree for all nodes.\n",
    "    # Nodes are numbered 1:N starting top to bottom and left to right\n",
    "    # e.g.\n",
    "    #     1\n",
    "    #  2    3\n",
    "    # 4 5  6 7\n",
    "    \n",
    "    if num_nodes < 1\n",
    "        throw(ArgumentError(\"Number of nodes must be greater than 1\"))\n",
    "    end\n",
    "    \n",
    "    direct_parent = Dict()\n",
    "    direct_parent[1] = []\n",
    "    left_parents = Dict()\n",
    "    left_parents[1] = []\n",
    "    right_parents = Dict()\n",
    "    right_parents[1] = []\n",
    "\n",
    "\n",
    "    for node in 2:num_nodes\n",
    "        par = Int(floor(node/2))\n",
    "        direct_parent[node] = par\n",
    "        if (par == node/2)\n",
    "            left_parents[node] = push!(copy(left_parents[par]), par)\n",
    "            right_parents[node] = right_parents[par]\n",
    "        else\n",
    "            right_parents[node] = push!(copy(right_parents[par]), par)\n",
    "            left_parents[node] = left_parents[par]\n",
    "        end\n",
    "    end\n",
    "    return direct_parent, left_parents, right_parents\n",
    "end"
   ]
  },
  {
   "cell_type": "code",
   "execution_count": 4,
   "metadata": {},
   "outputs": [
    {
     "data": {
      "text/plain": [
       "get_child_nodes (generic function with 1 method)"
      ]
     },
     "execution_count": 4,
     "metadata": {},
     "output_type": "execute_result"
    }
   ],
   "source": [
    "function get_child_nodes(num_nodes)\n",
    "    \n",
    "    # Compute the child nodes and paths through the tree for all nodes.\n",
    "    # Nodes are numbered 1:N starting top to bottom and left to right\n",
    "    # e.g.\n",
    "    #     1\n",
    "    #  2    3\n",
    "    # 4 5  6 7\n",
    "    \n",
    "    if num_nodes < 1\n",
    "        throw(ArgumentError(\"Number of nodes must be greater than 1\"))\n",
    "    end\n",
    "    \n",
    "    all_children = Dict()\n",
    "    left_children = Dict()\n",
    "    right_children = Dict()\n",
    "    \n",
    "    Leaves = Int(2^floor(log(2,num_nodes))):num_nodes\n",
    "    for leaf in Leaves\n",
    "        all_children[leaf] = []\n",
    "        left_children[leaf] = []\n",
    "        right_children[leaf] = []   \n",
    "    end\n",
    "\n",
    "    for node in num_nodes:-1:2\n",
    "        par = Int(floor(node/2))\n",
    "\n",
    "        if !haskey(all_children,par) all_children[par] = [] end\n",
    "        if !haskey(left_children,par) left_children[par] = [] end\n",
    "        if !haskey(right_children,par) right_children[par] = [] end\n",
    "\n",
    "        all_children[par] = vcat(push!(copy(all_children[par]),node), all_children[node])\n",
    "\n",
    "        if (par == node/2) # current node is left child of parent\n",
    "            left_children[par] = vcat(push!(copy(left_children[par]),node), all_children[node])\n",
    "        else            # current node is right child of parent\n",
    "            right_children[par] = vcat(push!(copy(right_children[par]),node), all_children[node])\n",
    "        end\n",
    "    end\n",
    "    \n",
    "    return all_children, left_children, right_children\n",
    "end"
   ]
  },
  {
   "cell_type": "code",
   "execution_count": 5,
   "metadata": {},
   "outputs": [
    {
     "data": {
      "text/plain": [
       "get_branch_leaf_sets (generic function with 1 method)"
      ]
     },
     "execution_count": 5,
     "metadata": {},
     "output_type": "execute_result"
    }
   ],
   "source": [
    "num_tree_nodes(depth) = 2^(depth+1)-1\n",
    "\n",
    "function get_branch_leaf_sets(num_nodes,max_depth)\n",
    "    # Return the node numbers for the interior and leaf nodes\n",
    "    Branches = 1:2^(max_depth)-1\n",
    "    Leaves = 2^(max_depth):num_nodes\n",
    "    return Branches, Leaves\n",
    "end"
   ]
  },
  {
   "cell_type": "code",
   "execution_count": 6,
   "metadata": {},
   "outputs": [
    {
     "data": {
      "text/plain": [
       "calculate_epsilon (generic function with 1 method)"
      ]
     },
     "execution_count": 6,
     "metadata": {},
     "output_type": "execute_result"
    }
   ],
   "source": [
    "function calculate_epsilon(X,p)\n",
    "    # Calculate the epsilon used to make the splitting constraints\n",
    "    # valid (otherwise we get < constraints)\n",
    "    ϵ = zeros(p)\n",
    "    for j = 1:p\n",
    "        sXj = sort(X[:,j])\n",
    "        diffs = sXj[2:end]-sXj[1:end-1]\n",
    "        ϵ[j] = minimum(diffs[:,diffs != 0])\n",
    "    end\n",
    "    \n",
    "    ϵ_mx = maximum(ϵ)\n",
    "    return ϵ, ϵ_mx\n",
    "end"
   ]
  },
  {
   "cell_type": "code",
   "execution_count": 7,
   "metadata": {},
   "outputs": [
    {
     "data": {
      "text/plain": [
       "check_local_sparsity (generic function with 1 method)"
      ]
     },
     "execution_count": 7,
     "metadata": {},
     "output_type": "execute_result"
    }
   ],
   "source": [
    "function check_local_sparsity(local_sparsity,p)\n",
    "    if (local_sparsity != Int(local_sparsity)) & (local_sparsity != :all)\n",
    "        throw(ArgumentError(\"Local sparsity must be set to an integer or ':all'.\"))\n",
    "    elseif (local_sparsity < 1)\n",
    "        throw(ArgumentError(\"Local sparsity must be greater than 1\"))\n",
    "    elseif (local_sparsity > p)\n",
    "        throw(ArgumentError(\"Local sparsity must be less than the number of features\"))\n",
    "    end\n",
    "end"
   ]
  },
  {
   "cell_type": "code",
   "execution_count": 8,
   "metadata": {},
   "outputs": [
    {
     "data": {
      "text/plain": [
       "check_margin_parameter (generic function with 1 method)"
      ]
     },
     "execution_count": 8,
     "metadata": {},
     "output_type": "execute_result"
    }
   ],
   "source": [
    "function check_margin_parameter(maximize_margin)\n",
    "    if (maximize_margin != true) & (maximize_margin != false)\n",
    "        throw(ArgumentError(\"Maximum margin parameter must be a boolean.\")) \n",
    "    end\n",
    "    if maximize_margin m_p = 1 else m_p = 0 end\n",
    "    return m_p\n",
    "end"
   ]
  },
  {
   "cell_type": "code",
   "execution_count": 9,
   "metadata": {},
   "outputs": [
    {
     "data": {
      "text/plain": [
       "loss_normalization_factor (generic function with 1 method)"
      ]
     },
     "execution_count": 9,
     "metadata": {},
     "output_type": "execute_result"
    }
   ],
   "source": [
    "loss_normalization_factor(X) = sum(abs.(X .- mean(X,1)))"
   ]
  },
  {
   "cell_type": "code",
   "execution_count": 10,
   "metadata": {},
   "outputs": [
    {
     "data": {
      "text/plain": [
       "f_start (generic function with 1 method)"
      ]
     },
     "execution_count": 10,
     "metadata": {},
     "output_type": "execute_result"
    }
   ],
   "source": [
    "function f_start(kmeans)\n",
    "    clustering = assignments(kmeans)\n",
    "    result = kmeans_clusters.centers'[clustering,:]\n",
    "    return result\n",
    "end"
   ]
  },
  {
   "cell_type": "code",
   "execution_count": 11,
   "metadata": {},
   "outputs": [
    {
     "data": {
      "text/plain": [
       "km_pp_centers (generic function with 1 method)"
      ]
     },
     "execution_count": 11,
     "metadata": {},
     "output_type": "execute_result"
    }
   ],
   "source": [
    "function km_pp_centers(Xnor, K)\n",
    "    obs = size(Xnor,1)\n",
    "    cent_idxs = [rand(1:obs)]\n",
    "    for ii = 1:(K-1)\n",
    "        Lk = length(cent_idxs)\n",
    "        d_mat = zeros(obs,Lk)\n",
    "        for jj in 1:Lk\n",
    "            d_mat[:,jj] = sum(abs.(Xnor .- Xnor[cent_idxs[jj],:]'),2)\n",
    "        end\n",
    "\n",
    "        min_ds2 = minimum(d_mat,2)  \n",
    "        new_k = StatsBase.sample(1:obs, Weights(min_ds2[:]))\n",
    "        append!(cent_idxs,new_k)\n",
    "    end\n",
    "\n",
    "    return Xnor[cent_idxs,:];\n",
    "end"
   ]
  },
  {
   "cell_type": "code",
   "execution_count": 12,
   "metadata": {},
   "outputs": [
    {
     "data": {
      "text/plain": [
       "warmstart (generic function with 1 method)"
      ]
     },
     "execution_count": 12,
     "metadata": {},
     "output_type": "execute_result"
    }
   ],
   "source": [
    "function warmstart(Xnor,K,N_min,max_depth, warm_start) \n",
    "    n, p = size(Xnor)\n",
    "    if warm_start\n",
    "        cent_i = km_pp_centers(Xnor, K)\n",
    "        kmeans_clusters = kmeans!(Xnor',cent_i')\n",
    "\n",
    "        labels = assignments(kmeans_clusters)\n",
    "\n",
    "        tree = DecisionTreeClassifier(min_samples_leaf=N_min, max_depth=max_depth, \n",
    "            random_state=1234, min_impurity_decrease = 0.25,\n",
    "            criterion=\"entropy\")\n",
    "        ScikitLearn.fit!(tree, Xnor, labels)\n",
    "\n",
    "        new_labels = ScikitLearn.predict(tree,Xnor)\n",
    "\n",
    "        μ_st = zeros(K,p)\n",
    "\n",
    "        for ii in unique(new_labels)\n",
    "            μ_st[ii,:] = mean(Xnor[(new_labels .== ii),:],1)\n",
    "        end\n",
    "\n",
    "        f_st = μ_st[new_labels,:]\n",
    "\n",
    "        num_nodes = num_tree_nodes(max_depth)\n",
    "        Branches, Leaves = get_branch_leaf_sets(num_nodes,max_depth)\n",
    "        all_children, left_children, right_children = get_child_nodes(num_nodes);\n",
    "\n",
    "        tr_features = tree[:tree_][:feature]'\n",
    "        tr_bs = tree[:tree_][:threshold]'\n",
    "        tr_lc = tree[:tree_][:children_left]'\n",
    "        tr_rc =  tree[:tree_][:children_right]'\n",
    "\n",
    "        lB = length(Branches)\n",
    "        a_st = zeros(lB,p)\n",
    "        b_st = zeros(lB,1)\n",
    "\n",
    "        BranchPair = zeros(Int, num_nodes)\n",
    "        BranchPair[1] = 1\n",
    "        for m in Branches\n",
    "            idx = BranchPair[m]\n",
    "            feat_idx = tr_features[idx]+1\n",
    "            if feat_idx > -1\n",
    "                a_st[m,feat_idx] = 1\n",
    "                b_st[m] = tr_bs[idx]\n",
    "            end\n",
    "            BranchPair[left_children[m][1]] = tr_lc[idx]+1\n",
    "            BranchPair[right_children[m][1]] = tr_rc[idx]+1\n",
    "        end\n",
    "\n",
    "        ah_st = abs.(a_st)\n",
    "        \n",
    "        d_st = 1*(sum(a_st,2) .== 1)\n",
    "    else\n",
    "        num_nodes = num_tree_nodes(max_depth)\n",
    "        Branches, Leaves = get_branch_leaf_sets(num_nodes,max_depth)\n",
    "        lB = length(Branches)\n",
    "        \n",
    "        μ_st = NaN*ones(K,p)\n",
    "        f_st = NaN*ones(n,p)\n",
    "        a_st = NaN*ones(lB,p)\n",
    "        b_st = NaN*ones(lB,1)\n",
    "        ah_st = NaN*ones(lB,p)\n",
    "        d_st = NaN*ones(lB,1)\n",
    "    end\n",
    "    \n",
    "    return Dict(\"μ_st\" => μ_st, \"f_st\" => f_st,\n",
    "            \"a_st\" => a_st, \"b_st\" => b_st,\n",
    "            \"ah_st\" => ah_st, \"d_st\" => d_st)\n",
    "end"
   ]
  },
  {
   "cell_type": "markdown",
   "metadata": {},
   "source": [
    "## The model\n",
    "\n",
    "#### Parameters and pre-computed values\n",
    "Our formulation uses the following parameters, which are input into the function or pre-computed:\n",
    "* $N$ the number of nodes, which is determined by the depth of a tree\n",
    "* $P_t^L$ the set of left parents for leaf $t$. Only defined for the leaves.\n",
    "* $P_t^R$ the set of right parents for leaf $t$. Only defined for the leaves.\n",
    "* $P_m^d$ the single direct parent node for a given node $m$. Defined for every node except the root for which it is null.\n",
    "* $C_m^L$ the set of all left child nodes for a given node $m$. In the code we only ever care about the intersection of this with the set of leaf nodes.\n",
    "* $C_m^R$ the set of all right child nodes for a given node $m$. In the code we only ever care about the intersection of this with the set of leaf nodes.\n",
    "* $B$ the set of branch (interior i.e. not leaf) nodes\n",
    "* $L$ the set of leaf nodes\n",
    "* $X \\in \\mathbb{R}^{n \\times p}$ the data\n",
    "* $l_s \\in \\{1,...,p\\}$ the local sparsity parameter used to generate constraints\n",
    "* $m_p \\in \\{0,1\\}$ the Boolean specifying whether the formulation should consider margin\n",
    "* $c_p$ the complexity parameter\n",
    "* $K$ the number of clusters\n",
    "* $\\Omega$ the loss normalization factor defined as the loss from assigning all points to one cluster.\n",
    "\n",
    "#### Model variables\n",
    "* $a_{j,m}$ for $j \\in \\{1,...,p\\}$ and $m \\in B$ is the hyperplane coefficient for the $j$th variable at branch $m$\n",
    "* $\\hat{a}_{j,m}$ for $j \\in \\{1,...,p\\}$ and $m \\in B$ is the absolute value of $a$\n",
    "* $b_m$ for $m \\in B$ is the offset for the hyperplane at that split\n",
    "* $z_{i,t} \\in \\{0,1\\}$ denotes whether point $i$ is assigned to leaf $t$\n",
    "* $\\delta_{i,m}$ is the relative distance of observation $i$ from hyperplane $m$ \n",
    "* $\\eta_m \\leq 2$ is the margin for plane $m$. The constraint comes from normalizing the data.\n",
    "* $d_m \\in \\{0,1\\}$ determines whether hyperplane $m$ is included in the tree \n",
    "* $s_{j,m} \\in \\{0,1\\}$ for $j \\in \\{1,...,p\\}$ and $m \\in B$ determines whether feature $j$ is included in hyperplane $m$\n",
    "* $\\mu_{k,j}$ is the L1-centroid of the $j$th feature in cluster $k$\n",
    "* $\\beta_{t,j}$ for $t \\in L$ and $j \\in \\{1,...,p\\}$ is the model's predicted value for the $j$th feature which is constrained to be a centroid\n",
    "* $w_{k,t} \\in \\{0,1\\}$ for $k \\in \\{1,...,K\\}$ and $t \\in L$ determines whether leaf $t$ is assigned to cluster $k$\n",
    "* $f_{i,j}$ is the predicted value in the $j$th feature for point $i$ and is used to link the predicted values and centroids\n",
    "* $\\alpha_{t,j,k} \\geq 0$ for $t \\in L$, $j \\in \\{1,...,p\\}$, and $k \\in \\{1,...,K\\}$ is an auxiliary variable used to linearize $\\mu_{k,j} w_{k,t}$\n",
    "* $\\gamma_{t,j,i} \\geq 0$ for $t \\in L$, $j \\in \\{1,...,p\\}$, and point $i$ is an auxiliary variable used to linearize $\\beta_{t,j}z_{i,t}$\n",
    "* $\\psi_{i,j} \\geq 0$ is the loss in the $j$th feature for the $i$th point\n",
    "\n",
    "#### Constraints\n",
    "The following constraints are used to define the margin. The second and third constraint say that the margin is not affected by points that don't lie in a relevant leaf. In theory we would use the absolute value of distance in the second and third constraint but, because this has no upper bound and defines margin, which is substracted in the objective function, it leads to garbage solutions. Instead we use the knowledge that $\\delta_{i,m}$ is negative for all left children and positive for all right children. These rely on the upper bound on margin that was defined above.\n",
    "* $\\sum_{j=1}^p(a_{j,m}X_{i,j}) - b_m = \\delta_{i,m} \\qquad \\forall i=1,..,n; m \\in B$ defines the relative distance to the plane i.e. defines $\\delta_{i,m}$\n",
    "* $\\eta_m \\leq -\\delta_{i,m} + 2(1-z_{i,t}) \\qquad \\forall i;m,t \\in C_m^L$\n",
    "* $\\eta_m \\leq \\delta_{i,m} + 2(1-z_{i,t}) \\qquad \\forall i;m,t \\in C_m^R$\n",
    "\n",
    "The following constraints enforce all the hyperplane splits for each point in each leaf. \n",
    "* $-1 \\leq a_{j,m} \\leq 1$ for all $j;m \\in B$\n",
    "* $\\hat{a}_{j,m} \\geq a_{j,m}$ and $\\hat{a}_{j,m} \\geq - a_{j,m}$ for all $j;m$ defines the absolute value\n",
    "* $\\sum_{j=1}^p(a_{j,m}X_{i,j}) - b_m + \\epsilon \\leq (2+\\epsilon)(1-z_{i,t})$ for all $i;t \\in B;m \\in P_t^L$. This enforces the left branch splits.\n",
    "* $\\sum_{j=1}^p(a_{j,m}X_{i,j}) - b_m \\geq -2(1-z_{i,t})$ for all $i;t \\in B;m \\in P_t^R$. This enforces the right branch splits. \n",
    "\n",
    "Make sure each point is assigned to one leaf\n",
    "* $\\sum_{t \\in L} z_{i,j} = 1 \\forall i$\n",
    "\n",
    "Complexity constraints control the coefficients that can be used in a given hyperplan\n",
    "* $\\sum_{j=1}^p \\leq l_s \\forall m$ ensures that we don't use more features than allowed by the local sparsity parameter at each split $m$\n",
    "* $\\sum_{j=1}^p \\hat{a}_{j,m} \\leq d_m \\forall m$ forces all coefficents to 0 if the split isn't used\n",
    "* $-d_m \\leq b_m \\leq d_m \\forall m$ forces the offset to be 0 if a split isn't used\n",
    "* $-s_{j,m} \\leq a_{j,m} \\leq s_{j,m}$ for all $j,m$ forces $a$ to be 0 if the $j$th variable isn't used\n",
    "* $s_{j,m} \\leq d_m$ for all $j,m$ forces consistency between $d$ and $s$\n",
    "* $d_m \\leq d_{P_m^d}$ for all $m \\in B \\setminus \\{1\\}$ ensures that, if a split higher up in the tree is turned off, all splits below that are turned off\n",
    "\n",
    "Cluster constraints.  N.B. THIS CONSTRAINT IS WRONG\n",
    "* $\\beta_{t,j} \\leq d_{P_t^d}$ for all $t \\in L, j$\n",
    "\n",
    "Make sure that the prediction in each leaf is equal to the centroid of exactly one cluster\n",
    "* $\\alpha_{t,j,k} \\leq w_{k,t}$ for all $t \\in L, j \\in \\{1,...,p\\}, k \\in \\{1,..,K\\}$\n",
    "* $\\alpha_{t,j,k} \\leq \\mu_{k,j}$ for all $t \\in L, j \\in \\{1,...,p\\}, k \\in \\{1,..,K\\}$\n",
    "* $\\alpha_{t,j,k} \\geq \\mu_{k,j} - (1-w_{k,t})$ for all $t \\in L, j \\in \\{1,...,p\\}, k \\in \\{1,..,K\\}$\n",
    "* $\\sum_{k=1}^K w_{k,t} = 1$ for all $t \\in L$ ensures each leaf is assigned to one cluster\n",
    "* $\\beta_{j,t} = \\sum_{k=1}^K \\alpha_{t,j,k}$\n",
    "\n",
    "Connect the predictions to each point.\n",
    "* $f_{i,j} = \\sum_{t \\in L} \\gamma_{t,i,j}$ for all $i,j$\n",
    "* $\\gamma_{t,i,j} \\leq z_{i,t}$ for all $t \\in L,i,j$\n",
    "* $\\gamma_{t,i,j} \\leq \\beta_{t,j}$ for all $t \\in L,i,j$\n",
    "* $ \\gamma_{t,i,j} \\geq \\beta_{t,j} - (1-z_{i,t})$ for all $t \\in L,i,j$\n",
    "\n",
    "Define the loss as the L1 distance from a point to its assigned centroid\n",
    "* $\\psi_{i,j} \\geq f_{i,j} - X_{i,j}$ for all $i,j$\n",
    "* $\\psi_{i,j} \\geq -f_{i,j} + X_{i,j}$ for all $i,j$\n",
    "\n",
    "#### Objective function\n",
    "The objective function includes loss from distance to the centroid, complexity, and margin:\n",
    "$$ \\min \\frac{1}{\\Omega} \\sum_{i,j} \\psi_{i,j} + c_p \\sum_{j,m} s_{j,m} - \\frac{m_p}{\\Omega^2} \\sum_{m} \\eta_m $$"
   ]
  },
  {
   "cell_type": "code",
   "execution_count": 13,
   "metadata": {},
   "outputs": [
    {
     "data": {
      "text/plain": [
       "ClusterTree (generic function with 1 method)"
      ]
     },
     "execution_count": 13,
     "metadata": {},
     "output_type": "execute_result"
    }
   ],
   "source": [
    "function ClusterTree(X,c_p,max_depth,K;local_sparsity=1,maximize_margin=true, warm_start = false, N_min = 2)\n",
    "    # Pre-compute various model factors\n",
    "    num_nodes = num_tree_nodes(max_depth)\n",
    "    Branches, Leaves = get_branch_leaf_sets(num_nodes,max_depth)\n",
    "    direct_parent, left_parents, right_parents = get_parent_nodes(num_nodes)\n",
    "    all_children, left_children, right_children = get_child_nodes(num_nodes)\n",
    "    n,p = size(X)\n",
    "    if (local_sparsity == :all) local_sparsity = p end\n",
    "    m_p = check_margin_parameter(maximize_margin)\n",
    "    check_local_sparsity(local_sparsity,p)\n",
    "    Ω = loss_normalization_factor(X)\n",
    "    \n",
    "\n",
    "    starts = warmstart(X,K,N_min,max_depth,warm_start)\n",
    "    \n",
    "    mod = Model(solver = GurobiSolver(OutputFlag=0))\n",
    "    # Split Variables\n",
    "    if (local_sparsity == 1) \n",
    "        @variable(mod, a[j=1:p,t in Branches], Bin, start = starts[\"a_st\"][t,j])\n",
    "        @variable(mod, b[t in Branches] >= 0, start = starts[\"b_st\"][t])\n",
    "    else\n",
    "        @variable(mod, a[j=1:p,t in Branches], start = starts[\"a_st\"][t,j])\n",
    "        @variable(mod, a_hat[j=1:p,t in Branches], start = starts[\"ah_st\"][t,j]) \n",
    "        @variable(mod, b[t in Branches], start = starts[\"b_st\"][t])\n",
    "    end\n",
    "    @variable(mod, z[i=1:n,t in Leaves], Bin)\n",
    "    \n",
    "    # MinBucket Variables\n",
    "    @variable(mod, l[t in Leaves], Bin)\n",
    "    \n",
    "    # MinBucket Constraints\n",
    "    @constraint(mod, MinB1[t in Leaves, i=1:n], z[i,t] <= l[t])\n",
    "    @constraint(mod, MinB2[t in Leaves], sum(z[i,t] for i = 1:n) >= N_min*l[t])\n",
    "    \n",
    "    # Hyperplane Distance / Margin Variables\n",
    "    @variable(mod, margin[m in Branches] >= 0)\n",
    "    \n",
    "    if (local_sparsity != 1)\n",
    "        @constraint(mod, [m in Branches], margin[m] <= 2)                           \n",
    "        for m in Branches                                                           \n",
    "            @constraint(mod, [i=1:n, leaf in intersect(Leaves,left_children[m])], \n",
    "                margin[m] <= -(sum(a[j,m]*X[i,j] for j = 1:p) - b[m]) + 2*(1-z[i,leaf]))\n",
    "            @constraint(mod, [i=1:n, leaf in intersect(Leaves,right_children[m])], \n",
    "                margin[m] <= (sum(a[j,m]*X[i,j] for j = 1:p) - b[m]) + 2*(1-z[i,leaf])) \n",
    "        end\n",
    "    else\n",
    "        @constraint(mod, [m in Branches], margin[m] <= 1)  \n",
    "        for m in Branches                                                           \n",
    "            @constraint(mod, [i=1:n, leaf in intersect(Leaves,left_children[m])], \n",
    "                margin[m] <= -(sum(a[j,m]*X[i,j] for j = 1:p) - b[m]) + (1-z[i,leaf]))\n",
    "            @constraint(mod, [i=1:n, leaf in intersect(Leaves,right_children[m])], \n",
    "                margin[m] <= (sum(a[j,m]*X[i,j] for j = 1:p) - b[m]) + (1-z[i,leaf])) \n",
    "        end\n",
    "    end\n",
    "\n",
    "    # Split constraints enforce all parent splits for a leaf for each point in that leaf\n",
    "    if (local_sparsity == 1)\n",
    "        ϵ, ϵ_max = calculate_epsilon(X,p)\n",
    "        for leaf in Leaves\n",
    "            @constraint(mod, [i=1:n,m in left_parents[leaf]], \n",
    "                sum(a[j,m]*(X[i,j]+ϵ[j]) for j = 1:p) - b[m] <=  (1+ϵ_max)*(1-z[i,leaf]))\n",
    "            @constraint(mod, [i=1:n,m in right_parents[leaf]], \n",
    "                sum(a[j,m]*X[i,j] for j = 1:p) - b[m] >= - (1-z[i,leaf])) \n",
    "        end\n",
    "    else\n",
    "        ϵ = 0.005\n",
    "        @constraint(mod, [j=1:p,t in Branches], a[j,t] >= -1)\n",
    "        @constraint(mod, [j=1:p,t in Branches], a[j,t] <= 1)\n",
    "        @constraint(mod, [j=1:p,t in Branches], a_hat[j,t] >= a[j,t])\n",
    "        @constraint(mod, [j=1:p,t in Branches], a_hat[j,t] >= -a[j,t])\n",
    "        for leaf in Leaves\n",
    "            @constraint(mod, [i=1:n,m in left_parents[leaf]], \n",
    "                sum(a[j,m]*X[i,j] for j = 1:p) - b[m] + ϵ <= (2+ϵ)*(1-z[i,leaf]))\n",
    "            @constraint(mod, [i=1:n,m in right_parents[leaf]], \n",
    "                sum(a[j,m]*X[i,j] for j = 1:p) - b[m] >= - 2*(1-z[i,leaf])) \n",
    "        end\n",
    "    end\n",
    "    \n",
    "    @constraint(mod, each_point_one_leaf[i=1:n], \n",
    "        sum(z[i,t] for t in Leaves) == 1)\n",
    "    \n",
    "    # Complexity Variables\n",
    "    @variable(mod, d[t in Branches], Bin, start = starts[\"d_st\"][t])\n",
    "    if (local_sparsity != 1) \n",
    "        @variable(mod, s[j=1:p,t in Branches], Bin) \n",
    "    end\n",
    "    \n",
    "    # Complexity constraints\n",
    "    if (local_sparsity != 1)\n",
    "        @constraint(mod, NumSplits[t in Branches], sum(s[j,t] for j = 1:p) <= local_sparsity)\n",
    "        @constraint(mod, NumSplits2[t in Branches], sum(s[j,t] for j = 1:p) >= d[t])\n",
    "        @constraint(mod, MakeSplit1[t in Branches], sum(a_hat[j,t] for j=1:p) <= d[t])\n",
    "        @constraint(mod, MakeSplit2[t in Branches], b[t] <= d[t])\n",
    "        @constraint(mod, MakeSplit3[t in Branches], b[t] >= -d[t])\n",
    "        @constraint(mod, [j=1:p,t in Branches], a[j,t] <= s[j,t])\n",
    "        @constraint(mod, [j=1:p,t in Branches], a[j,t] >= -s[j,t])\n",
    "        @constraint(mod, [j=1:p,t in Branches], s[j,t] <= d[t])\n",
    "    else\n",
    "        @constraint(mod, MakeSplit1[t in Branches], sum(a[j,t] for j=1:p) == d[t])\n",
    "        @constraint(mod, MakeSplit2[t in Branches], b[t] <= d[t])\n",
    "    end\n",
    "    \n",
    "    @constraint(mod, [t in setdiff(Branches,1)], d[t] <= d[direct_parent[t]])\n",
    "    \n",
    "    # Cluster Variables\n",
    "    @variable(mod, μ[k = 1:K, j=1:p] >= 0,start = starts[\"μ_st\"][k,j])\n",
    "    @variable(mod, f[i = 1:n, j = 1:p] >= 0, start = starts[\"f_st\"][i,j])\n",
    "    @variable(mod, β[t in Leaves, j=1:p] >= 0)\n",
    "    @variable(mod, α[t in Leaves, j=1:p, k = 1:K] >= 0)\n",
    "    @variable(mod, γ[t in Leaves, j=1:p, i = 1:n] >= 0)\n",
    "\n",
    "    @constraint(mod, [k = 1:K, j=1:p],  μ[k,j] <= 1)\n",
    "    @constraint(mod, [i=1:n, j=1:p],  f[i,j] <= 1)\n",
    "    @constraint(mod, [t in Leaves, j=1:p], β[t,j] <= l[t])\n",
    "    @constraint(mod, [t in Leaves, j=1:p, k = 1:K], α[t,j,k] <= l[t])\n",
    "    @constraint(mod, [t in Leaves, j=1:p, i = 1:n], γ[t,j,i] <= l[t])    \n",
    "    \n",
    "    @variable(mod, w[k = 1:K, t in Leaves], Bin)\n",
    "\n",
    "    # Cluster Constraints\n",
    "    for m in Branches\n",
    "        @constraint(mod, [j=1:p, t in intersect(Leaves,left_children[m])], β[t,j] <= d[m])\n",
    "        @constraint(mod, [j=1:p, t in intersect(Leaves,left_children[m]), k = 1:K], α[t,j,k] <= d[m])\n",
    "        @constraint(mod, [j=1:p, t in intersect(Leaves,left_children[m]), i = 1:n], γ[t,j,i] <= d[m])\n",
    "        @constraint(mod, [t in intersect(Leaves,left_children[m])], l[t] <= d[m])\n",
    "    end\n",
    "\n",
    "    @constraint(mod, LinearizeMean1[t in Leaves, j=1:p, k = 1:K], α[t,j,k] <= w[k,t])\n",
    "    @constraint(mod, LinearizeMean2[t in Leaves, j=1:p, k = 1:K], α[t,j,k] <= μ[k,j])\n",
    "    @constraint(mod, LinearizeMean3[t in Leaves, j=1:p, k = 1:K], α[t,j,k] >= μ[k,j]-(1-w[k,t]))\n",
    "    @constraint(mod, Mean[t in Leaves, j=1:p], sum(α[t,j,k] for k = 1:K) == β[t,j])\n",
    "    \n",
    "    @constraint(mod, wConst[t in Leaves], sum(w[k,t] for k = 1:K) == l[t])\n",
    "    \n",
    "    @constraint(mod, LinearizePred1[t in Leaves, j=1:p, i = 1:n], γ[t,j,i] <= z[i,t])\n",
    "    @constraint(mod, LinearizePred2[t in Leaves, j=1:p, i = 1:n], γ[t,j,i] <= β[t,j])\n",
    "    @constraint(mod, LinearizePred3[t in Leaves, j=1:p, i = 1:n], γ[t,j,i] >= β[t,j]-(1-z[i,t]))\n",
    "    @constraint(mod, Pred[i = 1:n, j=1:p], sum(γ[t,j,i] for t in Leaves) == f[i,j])\n",
    "    \n",
    "    # Loss Variables\n",
    "    @variable(mod, L[i = 1:n, j = 1:p] >= 0)\n",
    "    \n",
    "    # Loss Constraints\n",
    "    @constraint(mod, Loss1[i = 1:n, j = 1:p], L[i,j] >= f[i,j]-X[i,j])   \n",
    "    @constraint(mod, Loss2[i=1:n, j=1:p], L[i,j] >= -f[i,j]+X[i,j])   \n",
    "    \n",
    "    if (local_sparsity == 1)\n",
    "        @objective(mod, Min, \n",
    "            (1/Ω)*sum(L[i,j] for i=1:n, j=1:p) + \n",
    "            c_p*sum(d[t] for t in Branches) -\n",
    "            m_p*(1/100)*(1/Ω)*sum(margin[m] for m in Branches))\n",
    "    else\n",
    "        @objective(mod, Min, \n",
    "            (1/Ω)*sum(L[i,j] for i=1:n, j=1:p) + \n",
    "            c_p*sum(s[j,t] for j=1:p, t in Branches) -\n",
    "            m_p*(1/100)*(1/Ω)*sum(margin[m] for m in Branches))\n",
    "    end\n",
    "\n",
    "    status = solve(mod)\n",
    "    \n",
    "    println(\"Status = \", status)\n",
    "    return Dict(\"z\" => getvalue(z), \"μ\" => getvalue(μ),\n",
    "                \"a\" => getvalue(a), \"b\" => getvalue(b),\n",
    "                \"d\" => getvalue(d), \"w\" => getvalue(w),\n",
    "                \"l\" => getvalue(l), \"β\" => getvalue(β),\n",
    "                \"obj\" => getobjectivevalue(mod))\n",
    "end"
   ]
  },
  {
   "cell_type": "markdown",
   "metadata": {},
   "source": [
    "## Generate test data and visualize clustering"
   ]
  },
  {
   "cell_type": "code",
   "execution_count": 14,
   "metadata": {},
   "outputs": [
    {
     "data": {
      "text/plain": [
       "plot_cluster_tree (generic function with 1 method)"
      ]
     },
     "execution_count": 14,
     "metadata": {},
     "output_type": "execute_result"
    }
   ],
   "source": [
    "function create_synthetic_data(n,μ,σ;seed = 1234)\n",
    "    srand(seed)\n",
    "    X = (μ[1].+σ[1]*randn(n[1],2)')'\n",
    "    for i = 2:size(n)[1]\n",
    "        new_x = (μ[i].+σ[i]*randn(n[i],2)')'\n",
    "        X = vcat(X,new_x)\n",
    "    end\n",
    "    return X\n",
    "end\n",
    "\n",
    "function synthetic_data_cluster_assignments(n)\n",
    "    Y = ones(Int, n[1],1)\n",
    "    for i = 2:size(n)[1]\n",
    "        y = i*ones(Int,n[i],1)\n",
    "        Y = vcat(Y,y)\n",
    "    end\n",
    "    return Y\n",
    "end\n",
    "\n",
    "function feature_scaling(X)\n",
    "    mx_X = maximum(X,1)\n",
    "    mn_X = minimum(X,1)\n",
    "    return (X .- mx_X)./(mn_X .- mx_X)\n",
    "end    \n",
    "\n",
    "function get_cluster_assignments(result)\n",
    "    obs, leaves = size(result[\"z\"][:,:])\n",
    "    which_t = [find(result[\"z\"][i,:])[1] for i = 1:obs]\n",
    "    t_to_k = zeros(Int, leaves)\n",
    "    for ii in sort(unique(which_t))\n",
    "        t_to_k[ii] = find(result[\"w\"][:,:][:,ii])[1]\n",
    "    end\n",
    "    return t_to_k[which_t]\n",
    "end\n",
    "\n",
    "function plot_cluster_tree(result,depth)\n",
    "    num_nodes = num_tree_nodes(max_depth)\n",
    "    Branches, Leaves = get_branch_leaf_sets(num_nodes,max_depth)\n",
    "    direct_parent, left_parents, right_parents = get_parent_nodes(num_nodes)\n",
    "\n",
    "    A = result[\"a\"][:,:]'\n",
    "    grid_x = linspace(0,1,1000)\n",
    "    grid_y = linspace(0,1,1000)\n",
    "    Splits = Dict()\n",
    "\n",
    "    tol = 1e-8\n",
    "    for node in Branches    \n",
    "        if (abs(A[node,2]) <= tol)     # Vertical Split\n",
    "            (curr_x,curr_y) = ((result[\"b\"][node]-A[node,2]*grid_y)/A[node,1], grid_y)\n",
    "        else # Horizontal Split or Hyperplane Split\n",
    "            (curr_x,curr_y) = (grid_x,(result[\"b\"][node]-A[node,1]*grid_x)/A[node,2])\n",
    "        end\n",
    "\n",
    "        if node != 1\n",
    "            for t_l in left_parents[node]\n",
    "                idxs = (A[t_l,1]*curr_x + A[t_l,2]*curr_y .<= result[\"b\"][t_l])\n",
    "                (curr_x,curr_y) = (curr_x[idxs],curr_y[idxs])\n",
    "            end\n",
    "\n",
    "            for t_r in right_parents[node]\n",
    "                idxs = (A[t_r,1]*curr_x + A[t_r,2]*curr_y .>= result[\"b\"][t_r])\n",
    "                (curr_x,curr_y) = (curr_x[idxs],curr_y[idxs])\n",
    "            end\n",
    "        end\n",
    "        idxs = ((curr_y .<= 1) .& (curr_y .>= 0) .& (curr_x .<= 1) .& (curr_x .>= 0))\n",
    "        Splits[node] = (curr_x[idxs],curr_y[idxs])\n",
    "    end\n",
    "    cluster_tree_assignments = get_cluster_assignments(result)\n",
    "    \n",
    "    obj = result[\"obj\"]\n",
    "    mcols = [:red, :blue, :green, :orange, :pink, :yellow];\n",
    "    scatter(Xnor[:,1],Xnor[:,2], markercolor=mcols[cluster_tree_assignments], leg=false, title = \"obj = $obj\")\n",
    "    scatter!(result[\"μ\"][unique(cluster_tree_assignments),1],\n",
    "        result[\"μ\"][unique(cluster_tree_assignments),2], \n",
    "        markercolor=mcols[unique(cluster_tree_assignments)], m=[:star7], markersize = 10)\n",
    "    for i in 1:length(result[\"d\"]) \n",
    "        plot!(Splits[i][1],Splits[i][2]) \n",
    "    end\n",
    "    plot!()\n",
    "end"
   ]
  },
  {
   "cell_type": "markdown",
   "metadata": {},
   "source": [
    "# Testing"
   ]
  },
  {
   "cell_type": "code",
   "execution_count": 15,
   "metadata": {
    "collapsed": true
   },
   "outputs": [],
   "source": [
    "n = [10,10,10,10]#[20,20,20,20]#\n",
    "μ = [[10,10],[10,10],[10,10],[10,10]]\n",
    "μ = [[10,10],[10,0],[5,5],[0,5]]\n",
    "σ = [1/2.9, 1/2.5, 1/1.9, 1/1.9]\n",
    "X = create_synthetic_data(n,μ,σ)\n",
    "Xnor = feature_scaling(X)\n",
    "Y = synthetic_data_cluster_assignments(n);"
   ]
  },
  {
   "cell_type": "code",
   "execution_count": 16,
   "metadata": {},
   "outputs": [
    {
     "data": {
      "text/html": [
       "<img src=\"data:image/png;base64,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\" />"
      ]
     },
     "execution_count": 16,
     "metadata": {},
     "output_type": "execute_result"
    }
   ],
   "source": [
    "mcols = [:red, :blue, :green, :orange]\n",
    "scatter(Xnor[:,1],Xnor[:,2], markercolor=mcols[Y], leg=false)"
   ]
  },
  {
   "cell_type": "code",
   "execution_count": 22,
   "metadata": {},
   "outputs": [
    {
     "name": "stdout",
     "output_type": "stream",
     "text": [
      "Academic license - for non-commercial use only\n",
      "Status = Optimal\n",
      "104.028345 seconds (3.62 M allocations: 148.996 MiB, 0.26% gc time)\n"
     ]
    }
   ],
   "source": [
    "c_p = 0.1\n",
    "max_depth = 3\n",
    "K = 6\n",
    "@time result = ClusterTree(Xnor,c_p,max_depth,K);"
   ]
  },
  {
   "cell_type": "code",
   "execution_count": 23,
   "metadata": {},
   "outputs": [
    {
     "data": {
      "text/html": [
       "<img src=\"data:image/png;base64,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\" />"
      ]
     },
     "execution_count": 23,
     "metadata": {},
     "output_type": "execute_result"
    },
    {
     "name": "stderr",
     "output_type": "stream",
     "text": [
      "\u001b[1m\u001b[33mWARNING: \u001b[39m\u001b[22m\u001b[33mVectors of markers are currently unsupported in PyPlot: Symbol[:star7]\u001b[39m\n"
     ]
    }
   ],
   "source": [
    "plot_cluster_tree(result,max_depth)"
   ]
  },
  {
   "cell_type": "code",
   "execution_count": 24,
   "metadata": {},
   "outputs": [
    {
     "name": "stdout",
     "output_type": "stream",
     "text": [
      "  0.000091 seconds (325 allocations: 23.391 KiB)\n"
     ]
    },
    {
     "data": {
      "text/html": [
       "<img src=\"data:image/png;base64,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\" />"
      ]
     },
     "execution_count": 24,
     "metadata": {},
     "output_type": "execute_result"
    },
    {
     "name": "stderr",
     "output_type": "stream",
     "text": [
      "\u001b[1m\u001b[33mWARNING: \u001b[39m\u001b[22m\u001b[33mVectors of markers are currently unsupported in PyPlot: Symbol[:star7]\u001b[39m\n"
     ]
    }
   ],
   "source": [
    "K = 6\n",
    "@time kmeans_clusters = kmeans(Xnor',K)\n",
    "mcols = [:red, :blue, :green, :orange, :pink, :yellow]\n",
    "scatter(Xnor[:,1],Xnor[:,2], markercolor=mcols[assignments(kmeans_clusters)], leg=false)\n",
    "scatter!(kmeans_clusters.centers[1,:],kmeans_clusters.centers[2,:], markercolor=mcols, m=[:star7], markersize = 10)"
   ]
  },
  {
   "cell_type": "code",
   "execution_count": null,
   "metadata": {
    "collapsed": true
   },
   "outputs": [],
   "source": []
  },
  {
   "cell_type": "markdown",
   "metadata": {},
   "source": [
    "## Visualize tree"
   ]
  },
  {
   "cell_type": "code",
   "execution_count": 30,
   "metadata": {
    "collapsed": true
   },
   "outputs": [],
   "source": [
    "using GraphViz"
   ]
  },
  {
   "cell_type": "code",
   "execution_count": 31,
   "metadata": {
    "collapsed": true
   },
   "outputs": [
    {
     "data": {
      "text/plain": [
       "split_text (generic function with 1 method)"
      ]
     },
     "execution_count": 31,
     "metadata": {},
     "output_type": "execute_result"
    }
   ],
   "source": [
    "function split_text(result)\n",
    "    a = result[\"a\"][:,:]'\n",
    "    b = round.(result[\"b\"][:],2)\n",
    "    n, p = size(a)\n",
    "    for i = 1:n\n",
    "        result = string()\n",
    "        for j = 1:p\n",
    "            if a[i,j] != 0\n",
    "                if isempty(result)\n",
    "                    result = string(result,\"$(a[i,j])\",\"x$(j)\")\n",
    "                else\n",
    "                    result = string(result,\" + \",\"$(a[i,j])\",\"x$(j)\")\n",
    "                end\n",
    "            end\n",
    "        end\n",
    "        result = string(result, \" < $(b[i])\")\n",
    "        println(result)\n",
    "    end\n",
    "end"
   ]
  },
  {
   "cell_type": "code",
   "execution_count": 32,
   "metadata": {},
   "outputs": [
    {
     "name": "stdout",
     "output_type": "stream",
     "text": [
      "1.0x1 < 0.71\n",
      "1.0x1 < 0.33\n",
      " < 0.0\n",
      "1.0x2 < 0.51\n",
      " < 0.0\n",
      " < 0.0\n",
      " < 0.0\n"
     ]
    }
   ],
   "source": [
    "split_text(result)"
   ]
  },
  {
   "cell_type": "code",
   "execution_count": null,
   "metadata": {},
   "outputs": [],
   "source": []
  },
  {
   "cell_type": "code",
   "execution_count": null,
   "metadata": {},
   "outputs": [],
   "source": []
  },
  {
   "cell_type": "code",
   "execution_count": 29,
   "metadata": {
    "collapsed": true
   },
   "outputs": [
    {
     "data": {
      "image/svg+xml": [
       "<?xml version=\"1.0\" encoding=\"UTF-8\" standalone=\"no\"?>\n",
       "<!DOCTYPE svg PUBLIC \"-//W3C//DTD SVG 1.1//EN\"\n",
       " \"http://www.w3.org/Graphics/SVG/1.1/DTD/svg11.dtd\">\n",
       "<!-- Generated by graphviz version 2.40.1 (20161225.0304)\n",
       " -->\n",
       "<!-- Title: graphname Pages: 1 -->\n",
       "<svg width=\"134pt\" height=\"188pt\"\n",
       " viewBox=\"0.00 0.00 134.00 188.00\" xmlns=\"http://www.w3.org/2000/svg\" xmlns:xlink=\"http://www.w3.org/1999/xlink\">\n",
       "<g id=\"graph0\" class=\"graph\" transform=\"scale(1 1) rotate(0) translate(4 184)\">\n",
       "<title>graphname</title>\n",
       "<polygon fill=\"#ffffff\" stroke=\"transparent\" points=\"-4,4 -4,-184 130,-184 130,4 -4,4\"/>\n",
       "<!-- a -->\n",
       "<g id=\"node1\" class=\"node\">\n",
       "<title>a</title>\n",
       "<ellipse fill=\"none\" stroke=\"#000000\" cx=\"63\" cy=\"-162\" rx=\"27\" ry=\"18\"/>\n",
       "<text text-anchor=\"middle\" x=\"63\" y=\"-157.8\" font-family=\"Times,serif\" font-size=\"14.00\" fill=\"#000000\">Foo</text>\n",
       "</g>\n",
       "<!-- b -->\n",
       "<g id=\"node2\" class=\"node\">\n",
       "<title>b</title>\n",
       "<polygon fill=\"none\" stroke=\"#000000\" points=\"90,-108 36,-108 36,-72 90,-72 90,-108\"/>\n",
       "<text text-anchor=\"middle\" x=\"63\" y=\"-85.8\" font-family=\"Times,serif\" font-size=\"14.00\" fill=\"#000000\">b</text>\n",
       "</g>\n",
       "<!-- a&#45;&#45;b -->\n",
       "<g id=\"edge1\" class=\"edge\">\n",
       "<title>a&#45;&#45;b</title>\n",
       "<path fill=\"none\" stroke=\"#0000ff\" d=\"M63,-143.8314C63,-133 63,-119.2876 63,-108.4133\"/>\n",
       "</g>\n",
       "<!-- c -->\n",
       "<g id=\"node3\" class=\"node\">\n",
       "<title>c</title>\n",
       "<ellipse fill=\"none\" stroke=\"#000000\" cx=\"27\" cy=\"-18\" rx=\"27\" ry=\"18\"/>\n",
       "<text text-anchor=\"middle\" x=\"27\" y=\"-13.8\" font-family=\"Times,serif\" font-size=\"14.00\" fill=\"#000000\">c</text>\n",
       "</g>\n",
       "<!-- b&#45;&#45;c -->\n",
       "<g id=\"edge2\" class=\"edge\">\n",
       "<title>b&#45;&#45;c</title>\n",
       "<path fill=\"none\" stroke=\"#0000ff\" d=\"M53.9157,-71.8314C48.3334,-60.6667 41.2205,-46.441 35.7089,-35.4177\"/>\n",
       "</g>\n",
       "<!-- d -->\n",
       "<g id=\"node4\" class=\"node\">\n",
       "<title>d</title>\n",
       "<ellipse fill=\"none\" stroke=\"#000000\" cx=\"99\" cy=\"-18\" rx=\"27\" ry=\"18\"/>\n",
       "<text text-anchor=\"middle\" x=\"99\" y=\"-13.8\" font-family=\"Times,serif\" font-size=\"14.00\" fill=\"#000000\">d</text>\n",
       "</g>\n",
       "<!-- b&#45;&#45;d -->\n",
       "<g id=\"edge3\" class=\"edge\">\n",
       "<title>b&#45;&#45;d</title>\n",
       "<path fill=\"none\" stroke=\"#000000\" stroke-dasharray=\"1,5\" d=\"M72.0843,-71.8314C77.6666,-60.6667 84.7795,-46.441 90.2911,-35.4177\"/>\n",
       "</g>\n",
       "</g>\n",
       "</svg>\n"
      ],
      "text/plain": [
       "GraphViz.Graph(Ptr{Void} @0x00007ff13bdea370, true)"
      ]
     },
     "execution_count": 29,
     "metadata": {},
     "output_type": "execute_result"
    }
   ],
   "source": [
    "g = Graph(\"\"\"\n",
    "graph graphname {\n",
    "     // The label attribute can be used to change the label of a node\n",
    "     a [label=\"Foo\"];\n",
    "     // Here, the node shape is changed.\n",
    "     b [shape=box];\n",
    "     // These edges both have different line properties\n",
    "     a -- b -- c [color=blue];\n",
    "     b -- d [style=dotted];\n",
    " }\n",
    "\"\"\")\n",
    "GraphViz.layout!(g; engine=\"dot\")\n",
    "g"
   ]
  },
  {
   "cell_type": "code",
   "execution_count": null,
   "metadata": {},
   "outputs": [],
   "source": []
  }
 ],
 "metadata": {
  "kernelspec": {
   "display_name": "Julia 0.6.2",
   "language": "julia",
   "name": "julia-0.6"
  },
  "language_info": {
   "file_extension": ".jl",
   "mimetype": "application/julia",
   "name": "julia",
   "version": "0.6.2"
  }
 },
 "nbformat": 4,
 "nbformat_minor": 2
}
