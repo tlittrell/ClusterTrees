{
 "cells": [
  {
   "cell_type": "markdown",
   "metadata": {},
   "source": [
    "## Cluster trees function"
   ]
  },
  {
   "cell_type": "code",
   "execution_count": 1,
   "metadata": {},
   "outputs": [],
   "source": [
    "using JuMP, Gurobi, GLM, DataFrames, Plots, Clustering"
   ]
  },
  {
   "cell_type": "code",
   "execution_count": 72,
   "metadata": {},
   "outputs": [
    {
     "data": {
      "text/plain": [
       "get_parent_nodes (generic function with 1 method)"
      ]
     },
     "execution_count": 72,
     "metadata": {},
     "output_type": "execute_result"
    }
   ],
   "source": [
    "function get_parent_nodes(num_nodes)\n",
    "    \n",
    "    # Compute the parent nodes and paths through the tree for all nodes.\n",
    "    # Nodes are numbered 1:N starting top to bottom and left to right\n",
    "    # e.g.\n",
    "    #     1\n",
    "    #  2    3\n",
    "    # 4 5  6 7\n",
    "    \n",
    "    if num_nodes < 1\n",
    "        throw(ArgumentError(\"Number of nodes must be greater than 1\"))\n",
    "    end\n",
    "    \n",
    "    direct_parent = Dict()\n",
    "    direct_parent[1] = []\n",
    "    left_parents = Dict()\n",
    "    left_parents[1] = []\n",
    "    right_parents = Dict()\n",
    "    right_parents[1] = []\n",
    "\n",
    "\n",
    "    for node in 2:num_nodes\n",
    "        par = Int(floor(node/2))\n",
    "        direct_parent[node] = par\n",
    "        if (par == node/2)\n",
    "            left_parents[node] = push!(copy(left_parents[par]), par)\n",
    "            right_parents[node] = right_parents[par]\n",
    "        else\n",
    "            right_parents[node] = push!(copy(right_parents[par]), par)\n",
    "            left_parents[node] = left_parents[par]\n",
    "        end\n",
    "    end\n",
    "    return direct_parent, left_parents, right_parents\n",
    "end"
   ]
  },
  {
   "cell_type": "code",
   "execution_count": 121,
   "metadata": {},
   "outputs": [
    {
     "data": {
      "text/plain": [
       "get_branch_leaf_sets (generic function with 1 method)"
      ]
     },
     "execution_count": 121,
     "metadata": {},
     "output_type": "execute_result"
    }
   ],
   "source": [
    "num_tree_nodes(depth) = 2^(depth+1)-1\n",
    "\n",
    "function get_branch_leaf_sets(num_nodes)\n",
    "    # Return the node numbers for the interior and leaf nodes\n",
    "    Branches = 1:2^(max_depth)-1\n",
    "    Leaves = 2^(max_depth):num_nodes\n",
    "    return Branches, Leaves\n",
    "end"
   ]
  },
  {
   "cell_type": "code",
   "execution_count": 227,
   "metadata": {},
   "outputs": [
    {
     "data": {
      "text/plain": [
       "calculate_epsilon (generic function with 1 method)"
      ]
     },
     "execution_count": 227,
     "metadata": {},
     "output_type": "execute_result"
    }
   ],
   "source": [
    "function calculate_epsilon(X,n)\n",
    "    # Calculate the epsilon used to make the splitting constraints\n",
    "    # valid (otherwise we get < constraints)\n",
    "    ϵ = zeros(p)\n",
    "    for j = 1:p\n",
    "        sXj = sort(X[:,j])\n",
    "        diffs = sXj[2:end]-sXj[1:end-1]\n",
    "        ϵ[j] = minimum(diffs[:,diffs != 0])\n",
    "    end\n",
    "    \n",
    "    ϵ_mx = maximum(ϵ)\n",
    "    return ϵ, ϵ_mx\n",
    "endeps"
   ]
  },
  {
   "cell_type": "code",
   "execution_count": 252,
   "metadata": {},
   "outputs": [
    {
     "data": {
      "text/plain": [
       "loss_normalization_factor (generic function with 1 method)"
      ]
     },
     "execution_count": 252,
     "metadata": {},
     "output_type": "execute_result"
    }
   ],
   "source": [
    "loss_normalization_factor(X) = sum(abs.(X .- mean(X,1)))"
   ]
  },
  {
   "cell_type": "code",
   "execution_count": 271,
   "metadata": {},
   "outputs": [],
   "source": [
    "function ClusterTree(X,c_p,max_depth,K)\n",
    "    \n",
    "    # Pre-compute various model factors\n",
    "    num_nodes = num_tree_nodes(max_depth)\n",
    "    Branches, Leaves = get_branch_leaf_sets(num_nodes)\n",
    "    direct_parent, left_parents, right_parents = get_parent_nodes(num_nodes)\n",
    "    n,p = size(X)\n",
    "    ϵ, ϵ_max = calculate_epsilon(X,n)\n",
    "    L_s = loss_normalization_factor(X)\n",
    "    \n",
    "    mod = Model(solver = GurobiSolver(OutputFlag=0))\n",
    "\n",
    "    # Split Variables\n",
    "    @variable(mod, a[j=1:p,t in Branches], Bin)\n",
    "    @variable(mod, b[t in Branches] >= 0)\n",
    "    @variable(mod, z[i=1:n,t in Leaves], Bin)\n",
    "\n",
    "    # Split constraints enforce all parent splits for a leaf for each point in that leaf\n",
    "    for leaf in Leaves\n",
    "        @constraint(mod, [i=1:n,m in left_parents[leaf]], \n",
    "            sum(a[j,m]*(X[i,j]+ϵ[j]) for j = 1:p) <= b[m] + (1+ϵ_max)*(1-z[i,leaf]))\n",
    "        @constraint(mod, [i=1:n,m in right_parents[leaf]], \n",
    "            sum(a[j,m]*X[i,j] for j = 1:p) >= b[m] - (1-z[i,leaf])) \n",
    "    end\n",
    "    \n",
    "    @constraint(mod, each_point_one_leaf[i=1:n], \n",
    "        sum(z[i,t] for t in Leaves) == 1)\n",
    "    \n",
    "    # Complexity Variables\n",
    "    @variable(mod, d[t in Branches], Bin)\n",
    "    \n",
    "    # Complexity constraints\n",
    "    @constraint(mod, MakeSplit1[t in Branches], \n",
    "        sum(a[j,t] for j=1:p) == d[t])\n",
    "    @constraint(mod, MakeSplit2[t in Branches], \n",
    "        b[t] <= d[t])\n",
    "    for t in setdiff(Branches,1)\n",
    "        @constraint(mod, d[t] <= d[direct_parent[t]])\n",
    "    end\n",
    "    \n",
    "    # Cluster Variables\n",
    "    @variable(mod, μ[k = 1:K, j=1:p])\n",
    "    @variable(mod, β[t in Leaves, j=1:p])\n",
    "    @variable(mod, w[k = 1:K, t in Leaves], Bin)\n",
    "    @variable(mod, f[i = 1:n, j = 1:p])\n",
    "    \n",
    "    @variable(mod, α[t in Leaves, j=1:p, k = 1:K] >= 0)\n",
    "    @variable(mod, γ[t in Leaves, j=1:p, i = 1:n] >= 0)\n",
    "    \n",
    "    \n",
    "    # Cluster Constraints ----------FIX\n",
    "    for t in Leaves\n",
    "        @constraint(mod, [j=1:p], β[t,j] <= d[direct_parent[t]])\n",
    "    end\n",
    "    \n",
    "    @constraint(mod, LinearizeMean1[t in Leaves, j=1:p, k = 1:K],\n",
    "        α[t,j,k] <= w[k,t])\n",
    "    @constraint(mod, LinearizeMean2[t in Leaves, j=1:p, k = 1:K],\n",
    "        α[t,j,k] <= μ[k,j])\n",
    "    @constraint(mod, LinearizeMean3[t in Leaves, j=1:p, k = 1:K],\n",
    "        α[t,j,k] >= μ[k,j]-(1-w[k,t]))\n",
    "    @constraint(mod, Mean[t in Leaves, j=1:p],\n",
    "        sum(α[t,j,k] for k = 1:K) == β[t,j])\n",
    "    \n",
    "    @constraint(mod, wConst[t in Leaves], \n",
    "        sum(w[k,t] for k = 1:K) == 1)\n",
    "    \n",
    "    @constraint(mod, LinearizePred1[t in Leaves, j=1:p, i = 1:n],\n",
    "        γ[t,j,i] <= z[i,t])\n",
    "\n",
    "    @constraint(mod, LinearizePred2[t in Leaves, j=1:p, i = 1:n],\n",
    "        γ[t,j,i] <= β[t,j])\n",
    "\n",
    "    @constraint(mod, LinearizePred3[t in Leaves, j=1:p, i = 1:n],\n",
    "        γ[t,j,i] >= β[t,j]-(1-z[i,t]))\n",
    "     \n",
    "    @constraint(mod, Pred[i = 1:n, j=1:p],\n",
    "        sum(γ[t,j,i] for t in Leaves) == f[i,j])\n",
    "    \n",
    "    # Loss Variables\n",
    "    @variable(mod, L[i = 1:n, j = 1:p] >= 0)\n",
    "    \n",
    "    # Loss Constraints\n",
    "    @constraint(mod, Loss1[i = 1:n, j = 1:p], \n",
    "        L[i,j] >= f[i,j]-X[i,j])   \n",
    "    @constraint(mod, Loss2[i=1:n, j=1:p], \n",
    "        L[i,j] >= -f[i,j]+X[i,j])   \n",
    "    \n",
    "    @objective(mod, Min, (1/L_s)*sum(L[i,j] for i=1:n, j=1:p) + \n",
    "        c_p*sum(d[t] for t in Branches));\n",
    "\n",
    "    status = solve(mod)\n",
    "    println(\"Status = \", status)\n",
    "    return Dict(\"z\" => getvalue(z), \"μ\" => getvalue(μ),\n",
    "                \"a\" => getvalue(a), \"b\" => getvalue(b),\n",
    "                \"d\" => getvalue(d), \"w\" => getvalue(w),\n",
    "                \"obj\" => getobjectivevalue(mod))\n",
    "end;"
   ]
  },
  {
   "cell_type": "markdown",
   "metadata": {},
   "source": [
    "## Generate test data and visualize clustering"
   ]
  },
  {
   "cell_type": "code",
   "execution_count": 371,
   "metadata": {},
   "outputs": [
    {
     "data": {
      "text/plain": [
       "feature_scaling (generic function with 1 method)"
      ]
     },
     "execution_count": 371,
     "metadata": {},
     "output_type": "execute_result"
    }
   ],
   "source": [
    "function create_synthetic_data(n,μ,σ;seed = 1234)\n",
    "    srand(seed)\n",
    "    X = (μ[1].+σ[1]*randn(n[1],2)')'\n",
    "    for i = 2:size(n)[1]\n",
    "        new_x = (μ[i].+σ[i]*randn(n[i],2)')'\n",
    "        X = vcat(X,new_x)\n",
    "    end\n",
    "    return X\n",
    "end\n",
    "\n",
    "function synthetic_data_cluster_assignments(n)\n",
    "    Y = ones(Int, n[1],1)\n",
    "    for i = 2:size(n)[1]\n",
    "        y = i*ones(Int,n[i],1)\n",
    "        Y = vcat(Y,y)\n",
    "    end\n",
    "    return Y\n",
    "end\n",
    "\n",
    "function feature_scaling(X;method = \"scale\")\n",
    "    if method == \"scale\"\n",
    "        mx_X = maximum(X,1)\n",
    "        mn_X = minimum(X,1)\n",
    "        return (X .- mx_X)./(mn_X .- mx_X)\n",
    "    elseif method == \"normalize\"\n",
    "        mu = mean(X,1)\n",
    "        sigma = std(X,1)\n",
    "        return (X .- mu) ./ sigma\n",
    "    else\n",
    "        throw(ArgumentError(\"method must be 'scale' or 'normalize' \"))\n",
    "    end\n",
    "end    "
   ]
  },
  {
   "cell_type": "code",
   "execution_count": 383,
   "metadata": {},
   "outputs": [],
   "source": [
    "n = [10,10,8,8]\n",
    "μ = [[10,10],[0,5],[10,0],[5,5]]\n",
    "σ = [1/1.9, 1/1.5, 1/0.9, 1/0.9]\n",
    "X = create_synthetic_data(n,μ,σ)\n",
    "Xnor = feature_scaling(X)\n",
    "Y = synthetic_data_cluster_assignments(n);"
   ]
  },
  {
   "cell_type": "code",
   "execution_count": 384,
   "metadata": {},
   "outputs": [
    {
     "data": {
      "image/png": "[encoded data removed]"
     },
     "execution_count": 384,
     "metadata": {},
     "output_type": "execute_result"
    }
   ],
   "source": [
    "mcols = [:red, :blue, :green, :orange]\n",
    "scatter(Xnor[:,1],Xnor[:,2], markercolor=mcols[Y], leg=false)"
   ]
  },
  {
   "cell_type": "code",
   "execution_count": 385,
   "metadata": {},
   "outputs": [
    {
     "name": "stdout",
     "output_type": "stream",
     "text": [
      "Academic license - for non-commercial use only\n",
      "Status = Optimal\n"
     ]
    }
   ],
   "source": [
    "c_p = 0\n",
    "max_depth = 2\n",
    "K = 4\n",
    "result = ClusterTree(Xnor,c_p,max_depth,K);"
   ]
  },
  {
   "cell_type": "code",
   "execution_count": 386,
   "metadata": {},
   "outputs": [],
   "source": [
    "which_t = [find(result[\"z\"][i,:])[1] for i = 1:sum(n)]\n",
    "t_to_k = [find(result[\"w\"][:,:][:,i])[1] for i = 1:length(result[\"w\"][1,:])]\n",
    "assigments = t_to_k[which_t];"
   ]
  },
  {
   "cell_type": "code",
   "execution_count": 387,
   "metadata": {},
   "outputs": [],
   "source": [
    "t_mx = 2^(max_depth+1)-1\n",
    "t = 1:t_mx\n",
    "Branches = t[1:2^(max_depth)-1]\n",
    "Leaves = t[2^(max_depth):end];"
   ]
  },
  {
   "cell_type": "code",
   "execution_count": 388,
   "metadata": {},
   "outputs": [
    {
     "data": {
      "image/png": "[encoded data removed]"
     },
     "execution_count": 388,
     "metadata": {},
     "output_type": "execute_result"
    },
    {
     "name": "stderr",
     "output_type": "stream",
     "text": [
      "\u001b[1m\u001b[33mWARNING: \u001b[39m\u001b[22m\u001b[33mVectors of markers are currently unsupported in PyPlot: Symbol[:star7]\u001b[39m\n"
     ]
    }
   ],
   "source": [
    "mcols = [:red, :blue, :green, :orange]\n",
    "scatter(Xnor[:,1],Xnor[:,2], markercolor=mcols[assigments], \n",
    "    leg=false, title = \"obj = $obj\")\n",
    "scatter!(result[\"μ\"][:,1],result[\"μ\"][:,2], markercolor=mcols, m=[:star7], markersize = 10)\n",
    "\n",
    "p = 2\n",
    "for t in Branches\n",
    "    if (result[\"a\"][1,t] > 0) # Vertical Split\n",
    "        xs = result[\"b\"][t]*ones(100)\n",
    "        ys = linspace(0,1,100)\n",
    "    else              # Horizontal Split\n",
    "        xs = linspace(0,1,100)\n",
    "        ys = result[\"b\"][t]*ones(100)\n",
    "    end\n",
    "    plot!(xs,ys)\n",
    "end\n",
    "\n",
    "plot!()"
   ]
  },
  {
   "cell_type": "code",
   "execution_count": null,
   "metadata": {},
   "outputs": [],
   "source": []
  },
  {
   "cell_type": "markdown",
   "metadata": {},
   "source": [
    "## Visualize tree"
   ]
  },
  {
   "cell_type": "code",
   "execution_count": null,
   "metadata": {},
   "outputs": [],
   "source": []
  }
 ],
 "metadata": {
  "kernelspec": {
   "display_name": "Julia 0.6.0",
   "language": "julia",
   "name": "julia-0.6"
  },
  "language_info": {
   "file_extension": ".jl",
   "mimetype": "application/julia",
   "name": "julia",
   "version": "0.6.0"
  }
 },
 "nbformat": 4,
 "nbformat_minor": 2
}
